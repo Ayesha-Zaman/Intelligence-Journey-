{
  "nbformat": 4,
  "nbformat_minor": 0,
  "metadata": {
    "colab": {
      "provenance": [],
      "authorship_tag": "ABX9TyOtj8ZryMJ/vBw68pnRKu4K",
      "include_colab_link": true
    },
    "kernelspec": {
      "name": "python3",
      "display_name": "Python 3"
    },
    "language_info": {
      "name": "python"
    }
  },
  "cells": [
    {
      "cell_type": "markdown",
      "metadata": {
        "id": "view-in-github",
        "colab_type": "text"
      },
      "source": [
        "<a href=\"https://colab.research.google.com/github/Ayesha-Zaman/Intelligence-Journey-/blob/main/OOP%20in%20Python/%20Inheritance%20%26%20Polymorphism/%20Task_9_OOP(part_3)(Inheritance%2C_Polymorphism_%26_Abstraction).ipynb\" target=\"_parent\"><img src=\"https://colab.research.google.com/assets/colab-badge.svg\" alt=\"Open In Colab\"/></a>"
      ]
    },
    {
      "cell_type": "markdown",
      "source": [
        "### `Problem-1:` Class inheritence\n",
        "\n",
        "Create a **Bus** child class that inherits from the Vehicle class. The default fare charge of any vehicle is seating capacity * 100. If Vehicle is Bus instance, we need to add an extra 10% on full fare as a maintenance charge. So total fare for bus instance will become the final amount = total fare + 10% of the total fare.\n",
        "\n",
        "Note: The bus seating capacity is 50. so the final fare amount should be 5500. You need to override the fare() method of a Vehicle class in Bus class."
      ],
      "metadata": {
        "id": "9NB3HcXpLwyw"
      }
    },
    {
      "cell_type": "code",
      "execution_count": null,
      "metadata": {
        "colab": {
          "base_uri": "https://localhost:8080/"
        },
        "id": "Ss9WI_nLJcZy",
        "outputId": "cc479f86-5769-44fb-b083-b5d64ee8f946"
      },
      "outputs": [
        {
          "output_type": "stream",
          "name": "stdout",
          "text": [
            "5500.0\n"
          ]
        }
      ],
      "source": [
        "# code\n",
        "\n",
        "class Vehicle:\n",
        "  def __init__(self, type, S_capacity):\n",
        "    self.type = type\n",
        "    self.S_capacity = S_capacity\n",
        "\n",
        "  def fare(self):\n",
        "    return self.S_capacity * 100\n",
        "\n",
        "class Bus(Vehicle):\n",
        "\n",
        "  def fare(self):\n",
        "    base_fare = super().fare()\n",
        "    total_fare = base_fare + (0.10 * base_fare)\n",
        "    return total_fare\n",
        "\n",
        "\n",
        "obj = Bus('School Bus', 50)\n",
        "\n",
        "print(obj.fare())"
      ]
    },
    {
      "cell_type": "markdown",
      "source": [
        "### `Problem-2:` Write a program that has a class Point. Define another class Location which has two objects (Location & Destination) of class Point. Also define a function in Location that prints the reflection of Destination on the x axis."
      ],
      "metadata": {
        "id": "N2aimcunbuuA"
      }
    },
    {
      "cell_type": "code",
      "source": [
        "# Aggregation\n",
        "class Point:\n",
        "  def __init__(self, x, y):\n",
        "    self.x = x\n",
        "    self.y = y\n",
        "\n",
        "  def show_point(self):\n",
        "    return '{}, {}'.format(self.x, self.y)\n",
        "\n",
        "class Location:\n",
        "  def __init__(self, x1,y1,x2,y2):\n",
        "    self.source = Point(x1,y1)\n",
        "    self.destination = Point(x2,y2)\n",
        "\n",
        "  def show(self):\n",
        "    print('Source is: ', self.source.show_point())\n",
        "    print('Destination is: ', self.destination.show_point())\n",
        "\n",
        "  def reflection(self):\n",
        "    self.destination.y = -self.destination.y\n",
        "    print('Destination is: ', self.destination.show_point())\n",
        "\n",
        "L = Location(0,0,1,2)\n",
        "L.show()\n",
        "L.reflection()"
      ],
      "metadata": {
        "colab": {
          "base_uri": "https://localhost:8080/"
        },
        "id": "KsqUdH0cLxwj",
        "outputId": "d8c20f7c-d14f-4159-b6a9-0bceef3bd087"
      },
      "execution_count": null,
      "outputs": [
        {
          "output_type": "stream",
          "name": "stdout",
          "text": [
            "Source is:  0, 0\n",
            "Destination is:  1, 2\n",
            "Destination is:  1, -2\n"
          ]
        }
      ]
    },
    {
      "cell_type": "markdown",
      "source": [
        "### `Problem-3:` Write a program that has an abstract class Polygon. Derive two classes Rectangle and Triamgle from Polygon and write methods to get the details of their dimensions and hence calculate the area."
      ],
      "metadata": {
        "id": "yRv7ItYix0o0"
      }
    },
    {
      "cell_type": "code",
      "source": [
        "# Abstraction\n",
        "\n",
        "from abc import ABC, abstractmethod\n",
        "\n",
        "class Polygon(ABC):\n",
        "\n",
        "  @abstractmethod\n",
        "  def get_data():\n",
        "    pass\n",
        "\n",
        "  @abstractmethod\n",
        "  def area():\n",
        "    pass\n",
        "\n",
        "class Rectangle(Polygon):\n",
        "\n",
        "  def get_data(self,l,b):\n",
        "    self.l = l\n",
        "    self.b = b\n",
        "\n",
        "  def area(self):\n",
        "    return self.l* self.b\n",
        "\n",
        "class Triangle(Polygon):\n",
        "\n",
        "  def get_data(self,b,h):\n",
        "    self.h = h\n",
        "    self.b = b\n",
        "\n",
        "  def area(self):\n",
        "    return 0.5 * self.h* self.b\n",
        "\n",
        "rect = Rectangle()\n",
        "rect.get_data(4,9)\n",
        "print(rect.area())\n",
        "\n",
        "tri = Triangle()\n",
        "tri.get_data(2,4)\n",
        "print(tri.area())"
      ],
      "metadata": {
        "id": "vLWJjS9HekBv",
        "colab": {
          "base_uri": "https://localhost:8080/"
        },
        "outputId": "df7fe8a2-9c22-4a23-d8c6-f407218e1a9f"
      },
      "execution_count": null,
      "outputs": [
        {
          "output_type": "stream",
          "name": "stdout",
          "text": [
            "36\n",
            "4.0\n"
          ]
        }
      ]
    },
    {
      "cell_type": "markdown",
      "source": [
        "### `Problem-4:` Write a program with class Bill. The users have the option to pay the bill either by cheque or by cash. Use the inheritance to model this situation."
      ],
      "metadata": {
        "id": "LUWOswAl8dTq"
      }
    },
    {
      "cell_type": "code",
      "source": [
        "# Write code here\n",
        "class Bill:\n",
        "\n",
        "  def __init__(self,items,price):\n",
        "    self.total = 0\n",
        "    self.items = items\n",
        "    self.price = price\n",
        "\n",
        "    for i in self.price:\n",
        "      self.total = self.total + i\n",
        "\n",
        "  def display(self):\n",
        "    print('Item \\t\\t\\t Price')\n",
        "    for i in range(len(self.items)):\n",
        "      print(self.items[i],'\\t',self.price[i])\n",
        "    print(\"*\"*10)\n",
        "\n",
        "    print(\"Total\",self.total)\n",
        "\n",
        "class CashPayment(Bill):\n",
        "\n",
        "  def __init__(self,items,price,deno,value):\n",
        "    super().__init__(items,price)\n",
        "\n",
        "    self.deno = deno\n",
        "    self.value = value\n",
        "\n",
        "  def show_cash_payment(self):\n",
        "    super().display()\n",
        "    for i in range(len(self.deno)):\n",
        "      print(self.deno[i],\"*\",self.value[i],\"=\",self.deno[i]*self.value[i])\n",
        "\n",
        "class ChequePayment(Bill):\n",
        "\n",
        "  def __init__(self,items,price,cno,name):\n",
        "    super().__init__(items,price)\n",
        "\n",
        "    self.cno = cno\n",
        "    self.name = name\n",
        "\n",
        "  def show_cheque_payment(self):\n",
        "    super().display()\n",
        "    print('Cheque no',self.cno)\n",
        "    print('Bank name',self.name)\n"
      ],
      "metadata": {
        "id": "Dnl3SsP90MsM"
      },
      "execution_count": null,
      "outputs": []
    },
    {
      "cell_type": "code",
      "source": [
        "items = [\"External Hard Disk\", \"RAM\", \"Printer\", \"Pen Drive\"]\n",
        "price = [5000, 2000, 6000, 800]\n",
        "\n",
        "deno = [10, 20, 50, 100, 500, 2000]\n",
        "value = [1, 1, 1, 20, 4, 5]\n",
        "cash = CashPayment(items, price, deno, value)\n",
        "cash.show_cash_payment()"
      ],
      "metadata": {
        "id": "i3QOXULugDTc",
        "outputId": "02234947-ad31-47de-eabb-d6c4cbab2104",
        "colab": {
          "base_uri": "https://localhost:8080/"
        }
      },
      "execution_count": null,
      "outputs": [
        {
          "output_type": "stream",
          "name": "stdout",
          "text": [
            "Item \t\t\t Price\n",
            "External Hard Disk \t 5000\n",
            "RAM \t 2000\n",
            "Printer \t 6000\n",
            "Pen Drive \t 800\n",
            "**********\n",
            "Total 13800\n",
            "10 * 1 = 10\n",
            "20 * 1 = 20\n",
            "50 * 1 = 50\n",
            "100 * 20 = 2000\n",
            "500 * 4 = 2000\n",
            "2000 * 5 = 10000\n"
          ]
        }
      ]
    },
    {
      "cell_type": "code",
      "source": [],
      "metadata": {
        "id": "0nxHVGV4gJIe"
      },
      "execution_count": null,
      "outputs": []
    }
  ]
}