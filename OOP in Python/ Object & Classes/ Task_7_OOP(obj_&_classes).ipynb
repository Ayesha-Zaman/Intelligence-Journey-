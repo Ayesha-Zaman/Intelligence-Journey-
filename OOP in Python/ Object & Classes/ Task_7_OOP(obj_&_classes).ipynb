{
  "nbformat": 4,
  "nbformat_minor": 0,
  "metadata": {
    "colab": {
      "provenance": [],
      "authorship_tag": "ABX9TyOmCtBUf0ehYbfHdp3G7oEm",
      "include_colab_link": true
    },
    "kernelspec": {
      "name": "python3",
      "display_name": "Python 3"
    },
    "language_info": {
      "name": "python"
    }
  },
  "cells": [
    {
      "cell_type": "markdown",
      "metadata": {
        "id": "view-in-github",
        "colab_type": "text"
      },
      "source": [
        "<a href=\"https://colab.research.google.com/github/Ayesha-Zaman/Intelligence-Journey-/blob/main/OOP%20in%20Python/%20Object%20%26%20Classes/%20Task_7_OOP(obj_%26_classes).ipynb\" target=\"_parent\"><img src=\"https://colab.research.google.com/assets/colab-badge.svg\" alt=\"Open In Colab\"/></a>"
      ]
    },
    {
      "cell_type": "markdown",
      "source": [
        "##`Q-1:` Rectangle Class\n",
        "1. Write a Rectangle class in Python language, allowing you to build a rectangle with length and width attributes.\n",
        "\n",
        "2. Create a Perimeter() method to calculate the perimeter of the rectangle and a Area() method to calculate the area of ​​the rectangle.\n",
        "\n",
        "3. Create a method display() that display the length, width, perimeter and area of an object created using an instantiation on rectangle class."
      ],
      "metadata": {
        "id": "xJD7BW5fVSkD"
      }
    },
    {
      "cell_type": "markdown",
      "source": [
        "Eg.\n",
        "After making above classes and methods, on executing below code:-\n",
        "```\n",
        "my_rectangle = Rectangle(3 , 4)\n",
        "my_rectangle.display()\n",
        "```\n",
        "\n",
        "`Output:`\n",
        "```\n",
        "The length of rectangle is:  3\n",
        "The width of rectangle is:  4\n",
        "The perimeter of rectangle is:  14\n",
        "The area of rectangle is:  12\n",
        "```\n"
      ],
      "metadata": {
        "id": "6L1cc_NoVex1"
      }
    },
    {
      "cell_type": "code",
      "source": [
        "class Rectangle:\n",
        "  # constructor\n",
        "  def __init__(self,x,y):\n",
        "    self.__length = x\n",
        "    self.__width = y\n",
        "\n",
        "  def __Perimeter(self):\n",
        "    return 2*(self.__length + self.__width)\n",
        "\n",
        "  def __Area(self):\n",
        "    return self.__length * self.__width\n",
        "\n",
        "  def display(self):\n",
        "    print('Length of rectangle ', self.__length)\n",
        "    print('Width of rectangle ', self.__width)\n",
        "    print('Perimeter of rectangle ', self.__Perimeter())\n",
        "    print('Area of rectangle ', self.__Area())\n",
        "\n",
        "obj = Rectangle(4,5)\n",
        "obj.display()"
      ],
      "metadata": {
        "colab": {
          "base_uri": "https://localhost:8080/"
        },
        "id": "q199U8mvValB",
        "outputId": "ee90ff1c-ccfe-467d-898d-1acb88edba08"
      },
      "execution_count": null,
      "outputs": [
        {
          "output_type": "stream",
          "name": "stdout",
          "text": [
            "Length of rectangle  4\n",
            "Width of rectangle  5\n",
            "Perimeter of rectangle  18\n",
            "Area of rectangle  20\n"
          ]
        }
      ]
    },
    {
      "cell_type": "markdown",
      "source": [
        "##`Q-2: Bank Class`\n",
        "\n",
        "1. Create a Python class called `BankAccount` which represents a bank account, having as attributes: `accountNumber` (numeric type), `name` (name of the account owner as string type), `balance`.\n",
        "2. Create a constructor with parameters: `accountNumber, name, balance`.\n",
        "3. Create a `Deposit()` method which manages the deposit actions.\n",
        "4. Create a `Withdrawal()` method  which manages withdrawals actions.\n",
        "5. Create an `bankFees()` method to apply the bank fees with a percentage of 5% of the balance account.\n",
        "6. Create a `display()` method to display account details.\n",
        "Give the complete code for the  BankAccount class."
      ],
      "metadata": {
        "id": "uwfnhI52ahL2"
      }
    },
    {
      "cell_type": "markdown",
      "source": [
        "Eg.\n",
        "After making above classes and methods, on executing below code:-\n",
        "```\n",
        "newAccount = BankAccount(2178514584, \"Mandy\" , 2800)\n",
        "\n",
        "newAccount.Withdrawal(700)\n",
        "\n",
        "newAccount.Deposit(1000)\n",
        "\n",
        "newAccount.display()\n",
        "```\n",
        "\n",
        "`Output:`\n",
        "```\n",
        "Account Number :  2178514584\n",
        "Account Name :  Mandy\n",
        "Account Balance :  3100 ₹\n",
        "```"
      ],
      "metadata": {
        "id": "8sx8u-pxapZT"
      }
    },
    {
      "cell_type": "code",
      "source": [
        "class BankAccount:\n",
        "  def __init__(self,accountNumber,name,balance):\n",
        "    self.__accountNumber = accountNumber\n",
        "    self.__name = name\n",
        "    self.__balance = balance\n",
        "\n",
        "  def display(self):\n",
        "    print('Account Number : ', self.__accountNumber)\n",
        "    print('Account Name : ', self.__name)\n",
        "    print('Account Balance : ', self.__balance ,'$')\n",
        "\n",
        "  def deposite(self,amount):\n",
        "    self.__balance = self.__balance + amount\n",
        "\n",
        "  def withdraw(self,amount):\n",
        "    if amount > self.__balance:\n",
        "      print('Insufficient balance.')\n",
        "    else:\n",
        "      self.__balance = self.__balance - amount\n",
        "      reduction = self.__bankfee()\n",
        "      self.__balance = self.__balance - reduction\n",
        "\n",
        "  def __bankfee(self):\n",
        "    return 0.05 * self.__balance\n",
        "\n",
        "cust = BankAccount('Lucy', 23658966, 4030)\n",
        "cust.withdraw(840)\n",
        "cust.deposite(100)\n",
        "cust.display()"
      ],
      "metadata": {
        "id": "porOOBKHap6o",
        "colab": {
          "base_uri": "https://localhost:8080/"
        },
        "outputId": "2f49ff35-36f5-4ae3-8fd9-80e5175ad37b"
      },
      "execution_count": null,
      "outputs": [
        {
          "output_type": "stream",
          "name": "stdout",
          "text": [
            "Account Number :  Lucy\n",
            "Account Name :  23658966\n",
            "Account Balance :  3130.5 $\n"
          ]
        }
      ]
    },
    {
      "cell_type": "markdown",
      "source": [
        "##`Q-3:Computation class`\n",
        "\n",
        "1. Create a `Computation` class with a default constructor (without parameters) allowing to perform various calculations on integers numbers.\n",
        "2. Create a method called `Factorial()` which allows to calculate the factorial of an integer n. Integer n as parameter for this method\n",
        "\n",
        "3. Create a method called `naturalSum()` allowing to calculate the sum of the first n integers 1 + 2 + 3 + .. + n. Integer n as parameter for this method.\n",
        "\n",
        "4. Create a method called `testPrime()` in  the Calculation class to test the primality of a given integer n, n is Prime or Not? Integer n as parameter for this method.\n",
        "\n",
        "5. Create  a method called `testPrims()` allowing to test if two numbers are prime between them. Two integers are prime to one another if they have only `1` as their common divisor. Eg. 4 and 9 are prime to each other.\n",
        "\n",
        "5. Create a `tableMult()` method which creates and displays the multiplication table of a given integer. Then create an `allTablesMult()` method to display all the integer multiplication tables 1, 2, 3, ..., 9.\n",
        "\n",
        "6. Create a static `listDiv()` method that gets all the divisors of a given integer on new list called  Ldiv. Create another `listDivPrim()` method that gets all the prime divisors of a given integer."
      ],
      "metadata": {
        "id": "WiisKF0FsC9X"
      }
    },
    {
      "cell_type": "code",
      "source": [
        "# code\n",
        "\n",
        "class Computation:\n",
        "  def __init__(self):\n",
        "    pass\n",
        "\n",
        "# factorial\n",
        "  def Factorial(self, n):\n",
        "    j = 1\n",
        "    for i in range(1, n+1):\n",
        "      j = i*j\n",
        "    return j\n",
        "\n",
        "# natural sum\n",
        "  def naturalSum(self, n):\n",
        "    j = 0\n",
        "    for i in range(1, n+1):\n",
        "      j += i\n",
        "    return j\n",
        "\n",
        "# prime or not?\n",
        "  def testPrime(self, n):\n",
        "    if n < 2:\n",
        "      return False\n",
        "    for i in range(2, int(n**0.5) + 1):\n",
        "      if n % i == 0:\n",
        "        return False\n",
        "    return True\n",
        "\n",
        "  # Primality test of two integers\n",
        "  def testPrims(self, n, m):\n",
        "    commonDiv = 0\n",
        "    limit = min(n,m)\n",
        "    for i in range(1, limit + 1):\n",
        "      if n % i == 0 and m % i == 0:\n",
        "        commonDiv += 1\n",
        "    if commonDiv == 1:\n",
        "      print (\"The numbers\", n, \"and\", m, \"are co-primes\")\n",
        "    else:\n",
        "      print (\"The numbers\", n, \"and\", m, \"are not co-primes\")\n",
        "\n",
        "  # multiplication table\n",
        "  def tableMult(self, k):\n",
        "    for i in range(1, 10 + 1):\n",
        "      print(k, 'x', i, '=', i*k)\n",
        "\n",
        "  def allTablesMult(self):\n",
        "    for k in range(1, 10):\n",
        "      print('\\nMultiplication table of ', k, 'is:')\n",
        "      for i in range(1, 10 + 1):\n",
        "        print(k, 'x', i, '=', i*k)\n",
        "\n",
        "  # list of divisors\n",
        "  def listDiv(self, n):\n",
        "    LDiv = []\n",
        "    for i in range(1, n+1):\n",
        "      if n % i == 0:\n",
        "        LDiv.append(i)\n",
        "    return LDiv\n",
        "\n",
        "  # list of prime divisors\n",
        "  def listDivPrim(self, n):\n",
        "    LDivPrim = []\n",
        "    for i in range(1, n + 1):\n",
        "      if (n % i == 0 and self.testPrime(i)):\n",
        "        LDivPrim.append(i)\n",
        "    return LDivPrim\n",
        "\n",
        "# Instantiation example\n",
        "Comput= Computation()\n",
        "Comput.testPrims(13, 7)\n",
        "print (\"List of divisors of 18:\", Comput.listDiv(18))\n",
        "print (\"List of prime divisors of 18:\", Comput.listDivPrim(18))\n",
        "Comput.allTablesMult()"
      ],
      "metadata": {
        "id": "WEuv3EUIrF7b",
        "colab": {
          "base_uri": "https://localhost:8080/"
        },
        "outputId": "1412d504-be86-48a5-bac3-1fb24ad74a7d"
      },
      "execution_count": null,
      "outputs": [
        {
          "output_type": "stream",
          "name": "stdout",
          "text": [
            "The numbers 13 and 7 are co-primes\n",
            "List of divisors of 18: [1, 2, 3, 6, 9, 18]\n",
            "List of prime divisors of 18: [2, 3]\n",
            "\n",
            "Multiplication table of  1 is:\n",
            "1 x 1 = 1\n",
            "1 x 2 = 2\n",
            "1 x 3 = 3\n",
            "1 x 4 = 4\n",
            "1 x 5 = 5\n",
            "1 x 6 = 6\n",
            "1 x 7 = 7\n",
            "1 x 8 = 8\n",
            "1 x 9 = 9\n",
            "1 x 10 = 10\n",
            "\n",
            "Multiplication table of  2 is:\n",
            "2 x 1 = 2\n",
            "2 x 2 = 4\n",
            "2 x 3 = 6\n",
            "2 x 4 = 8\n",
            "2 x 5 = 10\n",
            "2 x 6 = 12\n",
            "2 x 7 = 14\n",
            "2 x 8 = 16\n",
            "2 x 9 = 18\n",
            "2 x 10 = 20\n",
            "\n",
            "Multiplication table of  3 is:\n",
            "3 x 1 = 3\n",
            "3 x 2 = 6\n",
            "3 x 3 = 9\n",
            "3 x 4 = 12\n",
            "3 x 5 = 15\n",
            "3 x 6 = 18\n",
            "3 x 7 = 21\n",
            "3 x 8 = 24\n",
            "3 x 9 = 27\n",
            "3 x 10 = 30\n",
            "\n",
            "Multiplication table of  4 is:\n",
            "4 x 1 = 4\n",
            "4 x 2 = 8\n",
            "4 x 3 = 12\n",
            "4 x 4 = 16\n",
            "4 x 5 = 20\n",
            "4 x 6 = 24\n",
            "4 x 7 = 28\n",
            "4 x 8 = 32\n",
            "4 x 9 = 36\n",
            "4 x 10 = 40\n",
            "\n",
            "Multiplication table of  5 is:\n",
            "5 x 1 = 5\n",
            "5 x 2 = 10\n",
            "5 x 3 = 15\n",
            "5 x 4 = 20\n",
            "5 x 5 = 25\n",
            "5 x 6 = 30\n",
            "5 x 7 = 35\n",
            "5 x 8 = 40\n",
            "5 x 9 = 45\n",
            "5 x 10 = 50\n",
            "\n",
            "Multiplication table of  6 is:\n",
            "6 x 1 = 6\n",
            "6 x 2 = 12\n",
            "6 x 3 = 18\n",
            "6 x 4 = 24\n",
            "6 x 5 = 30\n",
            "6 x 6 = 36\n",
            "6 x 7 = 42\n",
            "6 x 8 = 48\n",
            "6 x 9 = 54\n",
            "6 x 10 = 60\n",
            "\n",
            "Multiplication table of  7 is:\n",
            "7 x 1 = 7\n",
            "7 x 2 = 14\n",
            "7 x 3 = 21\n",
            "7 x 4 = 28\n",
            "7 x 5 = 35\n",
            "7 x 6 = 42\n",
            "7 x 7 = 49\n",
            "7 x 8 = 56\n",
            "7 x 9 = 63\n",
            "7 x 10 = 70\n",
            "\n",
            "Multiplication table of  8 is:\n",
            "8 x 1 = 8\n",
            "8 x 2 = 16\n",
            "8 x 3 = 24\n",
            "8 x 4 = 32\n",
            "8 x 5 = 40\n",
            "8 x 6 = 48\n",
            "8 x 7 = 56\n",
            "8 x 8 = 64\n",
            "8 x 9 = 72\n",
            "8 x 10 = 80\n",
            "\n",
            "Multiplication table of  9 is:\n",
            "9 x 1 = 9\n",
            "9 x 2 = 18\n",
            "9 x 3 = 27\n",
            "9 x 4 = 36\n",
            "9 x 5 = 45\n",
            "9 x 6 = 54\n",
            "9 x 7 = 63\n",
            "9 x 8 = 72\n",
            "9 x 9 = 81\n",
            "9 x 10 = 90\n"
          ]
        }
      ]
    },
    {
      "cell_type": "markdown",
      "source": [
        "##`Q-4`: Build flashcard using class in Python.\n",
        "\n",
        "Build a flashcard using class in python. A flashcard is a card having information on both sides, which can be used as an aid in memoization. Flashcards usually have a question on one side and an answer on the other.\n",
        "\n",
        "**Example 1:**\n",
        "\n",
        "Approach:\n",
        "\n",
        "- Create a class named FlashCard.\n",
        "- Initialize dictionary fruits using __init__() method. Here you have to define fruit name as key and it's color as value. E.g., {\"Banana\": \"yellow\", \"Strawberries\": \"pink\"}\n",
        "- Now randomly choose a pair from fruits by using _random_ module and store the key in variable _fruit_ and _value_ in variable color.\n",
        "- Now prompt the user to answer the color of the randomly chosen fruit.\n",
        "- If correct print correct else print wrong.\n",
        "\n",
        "Output:\n",
        "```bash\n",
        "welcome to fruit quiz\n",
        "What is the color of Strawberries\n",
        "pink\n",
        "Correct answer\n",
        "Enter 0, if you want to play again: 0\n",
        "What is the color of watermelon\n",
        "green\n",
        "Correct answer\n",
        "Enter 0, if you want to play again: 1\n",
        "```"
      ],
      "metadata": {
        "id": "E9Lxy7ASnyq9"
      }
    },
    {
      "cell_type": "code",
      "source": [
        "import random\n",
        "\n",
        "class FlashCard:\n",
        "  def __init__(self):\n",
        "    self.__fruits = {\n",
        "            'apple':'red',\n",
        "            'banana':'yellow',\n",
        "            'watermelon':'green',\n",
        "            'strawberry':'pink',\n",
        "            'guava':'green'\n",
        "        }\n",
        "\n",
        "  def quiz(self):\n",
        "    while True:\n",
        "      fruit, color = random.choice(list(self.__fruits.items()))\n",
        "\n",
        "      print(\"What's the color of {} fruit.\".format(fruit))\n",
        "      user_input = input()\n",
        "\n",
        "      if user_input.lower() == color:\n",
        "        print('Great! correct answer')\n",
        "      else:\n",
        "        print('Ooop! wrong answer')\n",
        "      option = int(input('Enter 0 to play again and press 1 to exit.'))\n",
        "      if option:\n",
        "        break\n",
        "\n",
        "fc = FlashCard()\n",
        "fc.quiz()"
      ],
      "metadata": {
        "colab": {
          "base_uri": "https://localhost:8080/"
        },
        "id": "Kic1_Oh0iJS3",
        "outputId": "cfb825ab-16f8-410b-fd9b-e5604d4dd345"
      },
      "execution_count": null,
      "outputs": [
        {
          "name": "stdout",
          "output_type": "stream",
          "text": [
            "What's the color of banana fruit.\n",
            "yellow\n",
            "Great! correct answer\n",
            "Enter 0 to play again and press 1 to exit.0\n",
            "What's the color of banana fruit.\n",
            "yellow\n",
            "Great! correct answer\n",
            "Enter 0 to play again and press 1 to exit.0\n",
            "What's the color of apple fruit.\n",
            "red\n",
            "Great! correct answer\n",
            "Enter 0 to play again and press 1 to exit.0\n",
            "What's the color of watermelon fruit.\n",
            "pink\n",
            "Ooop! wrong answer\n",
            "Enter 0 to play again and press 1 to exit.1\n"
          ]
        }
      ]
    },
    {
      "cell_type": "code",
      "source": [
        "import random\n",
        "d = {\n",
        "            'apple':'red',\n",
        "            'banana':'yellow',\n",
        "            'watermelon':'green',\n",
        "            'strawberry':'pink',\n",
        "            'guava':'green'\n",
        "        }\n",
        "\n",
        "fruit, color = random.choice(list(d.items()))\n",
        "print(fruit)\n",
        "print(color)"
      ],
      "metadata": {
        "colab": {
          "base_uri": "https://localhost:8080/"
        },
        "id": "kCvy5t9YredJ",
        "outputId": "ade45488-69bb-481e-9298-ea8685fc523f"
      },
      "execution_count": null,
      "outputs": [
        {
          "output_type": "stream",
          "name": "stdout",
          "text": [
            "watermelon\n",
            "green\n"
          ]
        }
      ]
    },
    {
      "cell_type": "markdown",
      "source": [
        "## `Q-5:` Problem 5 based on OOP Python.\n",
        "\n",
        "TechWorld, a technology training center, wants to allocate courses for instructors. An instructor is identified by name, technology skills, experience and average feedback. An instructor is allocated a course, if he/she satisfies the below two conditions:\n",
        "- eligibility criteria:\n",
        "    - if experience is more than 3 years, average feedback should be 4.5 or more\n",
        "    - if experience is 3 years or less, average feedback should be 4 or more\n",
        "- he/she should posses the technology skill for the course\n",
        "\n",
        "Identify the class name and attributes to represent instructors. Write a Python program to implement the class chosen with its attributes and methods.\n",
        "\n",
        "**Note:**\n",
        "- Consider all instance variables to be private and methods to be public.\n",
        "- An instructor may have multiple technology skills, so consider instance variable, technology_skill to be a list.\n",
        "- *check_eligibility()*: Return true if eligibility criteria is satisfied by the instructor. Else, return false\n",
        "- *allocate_course(technology)*: Return true if the course which requires the given technology can be allocated to the instructor. Else, return false.\n",
        "\n",
        "Represent a few objects of the class, initialize instance variables using setter methods, invoke\n",
        "appropriate methods and test your program."
      ],
      "metadata": {
        "id": "fYmJjVcQdXvu"
      }
    },
    {
      "cell_type": "code",
      "source": [
        "class Instructor:\n",
        "  def __init__(self, name, technology, experience, feedback):\n",
        "    self.__name = name\n",
        "    self.__technology = technology\n",
        "    self.__experience = experience\n",
        "    self.__feedback = feedback\n",
        "\n",
        "  # check eligibility\n",
        "  def CheckEligibility(self):\n",
        "    if (self.__experience > 3 and self.__feedback >= 4.5):\n",
        "      return True\n",
        "    elif (self.__experience <= 3 and self.__feedback >= 4):\n",
        "      return True\n",
        "    else:\n",
        "      return False\n",
        "\n",
        "  # allocating course\n",
        "  def allocate_course(self, tech):\n",
        "    is_eligible = self.CheckEligibility()\n",
        "\n",
        "    if is_eligible:\n",
        "      if tech in self.__technology:\n",
        "        return 'Eligible for this course.'\n",
        "      else:\n",
        "        return 'Not eligible for this course.'\n",
        "    else:\n",
        "      return 'Doesn’t teach well.'\n",
        "\n",
        "ins = Instructor('Sadia', ['Data science', 'Web development'], 5, 4.7)\n",
        "ins.allocate_course('Data science')"
      ],
      "metadata": {
        "id": "StRty6RPrlsl",
        "colab": {
          "base_uri": "https://localhost:8080/",
          "height": 35
        },
        "outputId": "17595d6a-d455-4e55-82f4-cd640e2df888"
      },
      "execution_count": null,
      "outputs": [
        {
          "output_type": "execute_result",
          "data": {
            "text/plain": [
              "'Eligible for this course.'"
            ],
            "application/vnd.google.colaboratory.intrinsic+json": {
              "type": "string"
            }
          },
          "metadata": {},
          "execution_count": 3
        }
      ]
    },
    {
      "cell_type": "code",
      "source": [],
      "metadata": {
        "id": "HnZfDnVSmPXN"
      },
      "execution_count": null,
      "outputs": []
    }
  ]
}