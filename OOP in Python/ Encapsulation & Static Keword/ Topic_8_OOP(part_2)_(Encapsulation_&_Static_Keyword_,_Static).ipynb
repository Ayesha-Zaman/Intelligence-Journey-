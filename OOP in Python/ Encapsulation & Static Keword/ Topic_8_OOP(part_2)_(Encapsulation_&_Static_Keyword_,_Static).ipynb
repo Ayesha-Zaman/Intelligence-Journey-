{
  "nbformat": 4,
  "nbformat_minor": 0,
  "metadata": {
    "colab": {
      "provenance": [],
      "authorship_tag": "ABX9TyPBzK3bm/cZaOz/GzGlIQtA",
      "include_colab_link": true
    },
    "kernelspec": {
      "name": "python3",
      "display_name": "Python 3"
    },
    "language_info": {
      "name": "python"
    }
  },
  "cells": [
    {
      "cell_type": "markdown",
      "metadata": {
        "id": "view-in-github",
        "colab_type": "text"
      },
      "source": [
        "<a href=\"https://colab.research.google.com/github/Ayesha-Zaman/Intelligence-Journey-/blob/main/OOP%20in%20Python/%20Encapsulation%20%26%20Static%20Keword/%20Topic_8_OOP(part_2)_(Encapsulation_%26_Static_Keyword_%2C_Static).ipynb\" target=\"_parent\"><img src=\"https://colab.research.google.com/assets/colab-badge.svg\" alt=\"Open In Colab\"/></a>"
      ]
    },
    {
      "cell_type": "markdown",
      "source": [
        "### Write OOP classes to handle the following scenarios:\n",
        "\n",
        "- A user can create and view 2D coordinates\n",
        "- A user can find out the distance between 2 coordinates\n",
        "- A user can find find the distance of a coordinate from origin\n",
        "- A user can check if a point lies on a given line\n",
        "- A user can find the distance between a given 2D point and a given line\n",
        "\n"
      ],
      "metadata": {
        "id": "Fs2hmax0O4Bj"
      }
    },
    {
      "cell_type": "code",
      "execution_count": null,
      "metadata": {
        "id": "5Nqx1WPDNddu"
      },
      "outputs": [],
      "source": [
        "class Point:\n",
        "  def __init__(self, x, y):\n",
        "    self.x_cod = x\n",
        "    self.y_cod = y\n",
        "\n",
        "  def __str__(self):\n",
        "    return '<{},{}>'.format(self.x_cod, self.y_cod)\n",
        "\n",
        "  def euclidean_distance(self, other):\n",
        "    return ((self.x_cod - other.x_cod)**2 + (self.y_cod - other.y_cod)**2)**0.5\n",
        "\n",
        "  def distance_from_origin(self):\n",
        "    return ((self.x_cod)**2 + (self.y_cod)**2)**0.5\n",
        "    # return(self.euclidean_distance(Point(0,0)))    # --> creating an object within a class\n",
        "\n",
        "class Line:\n",
        "  def __init__(self, A, B, C):\n",
        "    self.A = A\n",
        "    self.B = B\n",
        "    self.C = C\n",
        "\n",
        "  def __str__(self):\n",
        "    return '{}x + {}y + {} = 0'.format(self.A, self.B, self.C)\n",
        "\n",
        "  def point_on_line(line, point):\n",
        "    if line.A*point.x_cod + line.B*point.y_cod + line.C == 0:\n",
        "      return 'point lies on line'\n",
        "    else:\n",
        "      return \"point doesn't lies on line\"\n",
        "\n",
        "  def shortest_distance(line, point):\n",
        "    return round(abs(line.A*point.x_cod + line.B*point.y_cod + line.C) / (line.A**2 + line.B**2)**0.5)\n"
      ]
    },
    {
      "cell_type": "code",
      "source": [
        "l1 = Line(3,2,5)\n",
        "p1 = Point(3,4)\n",
        "\n",
        "print(l1)\n",
        "print(p1)\n",
        "\n",
        "l1.shortest_distance(p1)"
      ],
      "metadata": {
        "id": "NRDP1wIAO4ks",
        "colab": {
          "base_uri": "https://localhost:8080/"
        },
        "outputId": "74ccb37d-915d-439a-86c7-e33717523074"
      },
      "execution_count": null,
      "outputs": [
        {
          "output_type": "stream",
          "name": "stdout",
          "text": [
            "3x + 2y + 5 = 0\n",
            "<3,4>\n"
          ]
        },
        {
          "output_type": "execute_result",
          "data": {
            "text/plain": [
              "6"
            ]
          },
          "metadata": {},
          "execution_count": 2
        }
      ]
    },
    {
      "cell_type": "markdown",
      "source": [
        "### How objects access attributes"
      ],
      "metadata": {
        "id": "PDz20cL9fiVh"
      }
    },
    {
      "cell_type": "code",
      "source": [
        "class Person:\n",
        "\n",
        "  def __init__(self,name_input,country_input):\n",
        "    self.name = name_input\n",
        "    self.country = country_input\n",
        "\n",
        "  def greet(self):\n",
        "    if self.country == 'pakistan':\n",
        "      print('Assalam_O_Alikum',self.name)\n",
        "    else:\n",
        "      print('Hello',self.name)\n"
      ],
      "metadata": {
        "id": "RmvI4keSR0cq"
      },
      "execution_count": null,
      "outputs": []
    },
    {
      "cell_type": "code",
      "source": [
        "# how to access attributes\n",
        "p = Person('ayesha', 'pakistan')"
      ],
      "metadata": {
        "id": "3EXjPSrlfmpO"
      },
      "execution_count": null,
      "outputs": []
    },
    {
      "cell_type": "code",
      "source": [
        "# Notes: when we create an object of the class, object can automatically access all the attributes and methods of that class"
      ],
      "metadata": {
        "id": "uZwe0-MMgHI3"
      },
      "execution_count": null,
      "outputs": []
    },
    {
      "cell_type": "code",
      "source": [
        "p.country"
      ],
      "metadata": {
        "id": "ipHKmIf0gw-9",
        "colab": {
          "base_uri": "https://localhost:8080/",
          "height": 35
        },
        "outputId": "08b2595d-32d2-465a-9bbc-430e2f80918f"
      },
      "execution_count": null,
      "outputs": [
        {
          "output_type": "execute_result",
          "data": {
            "text/plain": [
              "'pakistan'"
            ],
            "application/vnd.google.colaboratory.intrinsic+json": {
              "type": "string"
            }
          },
          "metadata": {},
          "execution_count": 6
        }
      ]
    },
    {
      "cell_type": "code",
      "source": [
        "# how to access methods\n",
        "p.greet()"
      ],
      "metadata": {
        "id": "7BuDvIiIgznJ",
        "colab": {
          "base_uri": "https://localhost:8080/"
        },
        "outputId": "a376b03f-1fb7-4a49-9d3e-4cddc23e85e6"
      },
      "execution_count": null,
      "outputs": [
        {
          "output_type": "stream",
          "name": "stdout",
          "text": [
            "Assalam_O_Alikum ayesha\n"
          ]
        }
      ]
    },
    {
      "cell_type": "code",
      "source": [
        "# what if i try to access non-existing attributes\n",
        "p.gender"
      ],
      "metadata": {
        "id": "iOQujjqzg_w7",
        "colab": {
          "base_uri": "https://localhost:8080/",
          "height": 162
        },
        "outputId": "c288301b-c39d-4613-f59f-3bbb0706840b"
      },
      "execution_count": null,
      "outputs": [
        {
          "output_type": "error",
          "ename": "AttributeError",
          "evalue": "'Person' object has no attribute 'gender'",
          "traceback": [
            "\u001b[0;31m---------------------------------------------------------------------------\u001b[0m",
            "\u001b[0;31mAttributeError\u001b[0m                            Traceback (most recent call last)",
            "\u001b[0;32m/tmp/ipython-input-1279440216.py\u001b[0m in \u001b[0;36m<cell line: 0>\u001b[0;34m()\u001b[0m\n\u001b[1;32m      1\u001b[0m \u001b[0;31m# what if i try to access non-existing attributes\u001b[0m\u001b[0;34m\u001b[0m\u001b[0;34m\u001b[0m\u001b[0m\n\u001b[0;32m----> 2\u001b[0;31m \u001b[0mp\u001b[0m\u001b[0;34m.\u001b[0m\u001b[0mgender\u001b[0m\u001b[0;34m\u001b[0m\u001b[0;34m\u001b[0m\u001b[0m\n\u001b[0m",
            "\u001b[0;31mAttributeError\u001b[0m: 'Person' object has no attribute 'gender'"
          ]
        }
      ]
    },
    {
      "cell_type": "markdown",
      "source": [
        "### Attribute creation from outside of the class"
      ],
      "metadata": {
        "id": "Qfcbr5zghugR"
      }
    },
    {
      "cell_type": "code",
      "source": [
        "# Notes: it's not like that all the attributes should be in the class.\n",
        "# we can also create attributes out of the class using object of that class and can access that."
      ],
      "metadata": {
        "id": "WujAbyGShqP6"
      },
      "execution_count": null,
      "outputs": []
    },
    {
      "cell_type": "code",
      "source": [
        "# created a new attribute in a class from outside of the class\n",
        "p.gender = 'female'"
      ],
      "metadata": {
        "id": "nU6znPqLiNUp"
      },
      "execution_count": null,
      "outputs": []
    },
    {
      "cell_type": "code",
      "source": [
        "p.gender"
      ],
      "metadata": {
        "id": "3oK3mejbiUYP",
        "colab": {
          "base_uri": "https://localhost:8080/",
          "height": 35
        },
        "outputId": "3172dd8b-17b4-47b1-af8f-72802c317506"
      },
      "execution_count": null,
      "outputs": [
        {
          "output_type": "execute_result",
          "data": {
            "text/plain": [
              "'female'"
            ],
            "application/vnd.google.colaboratory.intrinsic+json": {
              "type": "string"
            }
          },
          "metadata": {},
          "execution_count": 10
        }
      ]
    },
    {
      "cell_type": "markdown",
      "source": [
        "### Reference Variables\n",
        "\n",
        "- Reference variables hold the objects\n",
        "- We can create objects without reference variable as well\n",
        "- An object can have multiple reference variables\n",
        "- Assigning a new reference variable to an existing object does not create a new object"
      ],
      "metadata": {
        "id": "-E8lgCrSn6pP"
      }
    },
    {
      "cell_type": "code",
      "source": [
        "# object without a reference\n",
        "class Person:\n",
        "\n",
        "  def __init__(self):\n",
        "    self.name = 'ayesha'\n",
        "    self.gender = 'female'\n",
        "\n",
        "Person()"
      ],
      "metadata": {
        "id": "CmuIyiN8iWw3",
        "colab": {
          "base_uri": "https://localhost:8080/"
        },
        "outputId": "a8c62d43-5784-47fa-dbc8-c0c2f693c261"
      },
      "execution_count": null,
      "outputs": [
        {
          "output_type": "execute_result",
          "data": {
            "text/plain": [
              "<__main__.Person at 0x7b8925ad34a0>"
            ]
          },
          "metadata": {},
          "execution_count": 11
        }
      ]
    },
    {
      "cell_type": "code",
      "source": [
        "# p = Person()\n",
        "\n",
        "# in above piece of code 'p' is not the object, actual object is(created) 'Person()'\n",
        "# let me show how 'Person()' is object\n",
        "\n",
        "Person()"
      ],
      "metadata": {
        "id": "owvF-WRloElj",
        "colab": {
          "base_uri": "https://localhost:8080/"
        },
        "outputId": "6760df8e-473e-4e56-b447-638efb1f397c"
      },
      "execution_count": null,
      "outputs": [
        {
          "output_type": "execute_result",
          "data": {
            "text/plain": [
              "<__main__.Person at 0x7b89259630e0>"
            ]
          },
          "metadata": {},
          "execution_count": 12
        }
      ]
    },
    {
      "cell_type": "code",
      "source": [
        "# Than what's p?\n",
        "# p is the reference variable which is pointing towards the object, and it's storing the address of object"
      ],
      "metadata": {
        "id": "NLPXLW8Ros4N"
      },
      "execution_count": null,
      "outputs": []
    },
    {
      "cell_type": "code",
      "source": [
        "# object with reference\n",
        "\n",
        "p = Person()\n",
        "q = p\n"
      ],
      "metadata": {
        "id": "s9VQzAIQpPnb"
      },
      "execution_count": null,
      "outputs": []
    },
    {
      "cell_type": "code",
      "source": [
        "# in the above line p and q both are reference variables pointiong towards Person() object"
      ],
      "metadata": {
        "id": "euY0e7Bjphsm"
      },
      "execution_count": null,
      "outputs": []
    },
    {
      "cell_type": "code",
      "source": [
        "# Multiple ref\n",
        "\n",
        "print(id(p))\n",
        "print(id(q))"
      ],
      "metadata": {
        "id": "EW-N6bCZp9ph",
        "colab": {
          "base_uri": "https://localhost:8080/"
        },
        "outputId": "bc9512a6-9e6e-40e2-b092-4b8d77cd75dd"
      },
      "execution_count": null,
      "outputs": [
        {
          "output_type": "stream",
          "name": "stdout",
          "text": [
            "135828971337824\n",
            "135828971337824\n"
          ]
        }
      ]
    },
    {
      "cell_type": "code",
      "source": [
        "# change attribute value with the help of 2nd object"
      ],
      "metadata": {
        "id": "zaqsm8x1qIQc"
      },
      "execution_count": null,
      "outputs": []
    },
    {
      "cell_type": "code",
      "source": [
        "print(p.name)\n",
        "print(q.name)\n",
        "\n",
        "q.name = 'sofia'\n",
        "print(q.name)\n",
        "print(p.name)"
      ],
      "metadata": {
        "id": "lL2wskM2qNjF",
        "colab": {
          "base_uri": "https://localhost:8080/"
        },
        "outputId": "07605032-7925-47e6-bebb-2b62340faa70"
      },
      "execution_count": null,
      "outputs": [
        {
          "output_type": "stream",
          "name": "stdout",
          "text": [
            "ayesha\n",
            "ayesha\n",
            "sofia\n",
            "sofia\n"
          ]
        }
      ]
    },
    {
      "cell_type": "markdown",
      "source": [
        "### Pass by reference"
      ],
      "metadata": {
        "id": "wb1eYSlsHIce"
      }
    },
    {
      "cell_type": "code",
      "source": [
        "class Person:\n",
        "\n",
        "  def __init__(self,name,gender):\n",
        "    self.name = name\n",
        "    self.gender = gender\n",
        "\n",
        "def greet(person):\n",
        "  print('Hey my is',person.name,'and i am a', person.gender)\n",
        "\n",
        "p = Person('Ayesha', 'female')\n",
        "greet(p)\n",
        "# Note: we can pass object of our class as input to the function.\n",
        "# as in the above program object person passed as input to greet function."
      ],
      "metadata": {
        "id": "0DBGuG7BqTkj",
        "colab": {
          "base_uri": "https://localhost:8080/"
        },
        "outputId": "e1b8b9fa-3ba5-4a79-8157-d1619b2b8a1f"
      },
      "execution_count": null,
      "outputs": [
        {
          "output_type": "stream",
          "name": "stdout",
          "text": [
            "Hey my is Ayesha and i am a female\n"
          ]
        }
      ]
    },
    {
      "cell_type": "code",
      "source": [
        "# even though we can play the reverse game, a function can return the object of any class\n",
        "# here is how?\n",
        "\n",
        "class Person:\n",
        "\n",
        "  def __init__(self,name,gender):\n",
        "    self.name = name\n",
        "    self.gender = gender\n",
        "\n",
        "def greet(person):\n",
        "  print('Hey my is',person.name,'and i am a', person.gender)\n",
        "  p1 = Person('David', 'male')\n",
        "  return p1\n",
        "\n",
        "p = Person('Ayesha', 'female')\n",
        "p1 = greet(p)\n",
        "\n",
        "print(p1.name)\n",
        "print(p1.gender)"
      ],
      "metadata": {
        "id": "0oEtO_0CHPZ-",
        "colab": {
          "base_uri": "https://localhost:8080/"
        },
        "outputId": "e2ae14a9-0e46-4255-b1eb-0e1d2daa46d4"
      },
      "execution_count": null,
      "outputs": [
        {
          "output_type": "stream",
          "name": "stdout",
          "text": [
            "Hey my is Ayesha and i am a female\n",
            "David\n",
            "male\n"
          ]
        }
      ]
    },
    {
      "cell_type": "code",
      "source": [
        "class Person:\n",
        "\n",
        "  def __init__(self,name,gender):\n",
        "    self.name = name\n",
        "    self.gender = gender\n",
        "\n",
        "# outside the class -> function\n",
        "def greet(person):\n",
        "  print(id(person))\n",
        "  print('Hey my is',person.name,'and i am a', person.gender)\n",
        "\n",
        "p = Person('Ayesha', 'female')\n",
        "print(id(p))\n",
        "greet(p)"
      ],
      "metadata": {
        "id": "8_DkWr3fM8A2",
        "colab": {
          "base_uri": "https://localhost:8080/"
        },
        "outputId": "147419e8-ff61-4889-9293-35d64f83dd7f"
      },
      "execution_count": null,
      "outputs": [
        {
          "output_type": "stream",
          "name": "stdout",
          "text": [
            "135829253662880\n",
            "135829253662880\n",
            "Hey my is Ayesha and i am a female\n"
          ]
        }
      ]
    },
    {
      "cell_type": "code",
      "source": [
        "# in the above program the id of p and person is same. why?\n",
        "# bcz technically we didn't pass the object to the function, we pass reference of object to the person,\n",
        "# That's why it's called pass by reference."
      ],
      "metadata": {
        "id": "hIS9hWbAOh9o"
      },
      "execution_count": null,
      "outputs": []
    },
    {
      "cell_type": "code",
      "source": [
        "class Person:\n",
        "\n",
        "  def __init__(self,name,gender):\n",
        "    self.name = name\n",
        "    self.gender = gender\n",
        "# outside the class -> function\n",
        "def greet(person):\n",
        "  print(id(person))\n",
        "  person.name = 'Sofia'\n",
        "  print(person.name)\n",
        "\n",
        "p = Person('Ayesha', 'female')\n",
        "print(id(p))\n",
        "greet(p)\n",
        "print(p.name)"
      ],
      "metadata": {
        "id": "eQ9GJCq8Pgs-",
        "colab": {
          "base_uri": "https://localhost:8080/"
        },
        "outputId": "36884ece-ae36-4246-fbff-09ed609ea140"
      },
      "execution_count": null,
      "outputs": [
        {
          "output_type": "stream",
          "name": "stdout",
          "text": [
            "135828971329328\n",
            "135828971329328\n",
            "Sofia\n",
            "Sofia\n"
          ]
        }
      ]
    },
    {
      "cell_type": "markdown",
      "source": [
        "### Mutability of Objects"
      ],
      "metadata": {
        "id": "S8iGr94wRLyw"
      }
    },
    {
      "cell_type": "code",
      "source": [
        "class Person:\n",
        "\n",
        "  def __init__(self,name,gender):\n",
        "    self.name = name\n",
        "    self.gender = gender\n",
        "\n",
        "# outside the class -> function\n",
        "def greet(person):\n",
        "  person.name = 'Sofia'\n",
        "  return person\n",
        "\n",
        "p = Person('ayesha','female')\n",
        "print(id(p))\n",
        "p1 = greet(p)\n",
        "print(id(p1))\n",
        "\n",
        "# p and p1 object even after changes have same id beacuse, user defined objects are mutable"
      ],
      "metadata": {
        "id": "jO48pVz6QPos",
        "colab": {
          "base_uri": "https://localhost:8080/"
        },
        "outputId": "89a4be42-7e1f-4ea9-b4f1-4ea8f9d094b6"
      },
      "execution_count": null,
      "outputs": [
        {
          "output_type": "stream",
          "name": "stdout",
          "text": [
            "135828973033024\n",
            "135828973033024\n"
          ]
        }
      ]
    },
    {
      "cell_type": "markdown",
      "source": [
        "### Encapsulation"
      ],
      "metadata": {
        "id": "FgCGeXacyJsN"
      }
    },
    {
      "cell_type": "code",
      "source": [
        "# instance var -> python tutor\n",
        "# the attributes that we created in constructor name and country will be instance variable\n",
        "# instance variable is a variable whose value will be different for different objects, generally we have single value in variable\n",
        "class Person:\n",
        "\n",
        "  def __init__(self,name_input,country_input):\n",
        "    self.name = name_input\n",
        "    self.country = country_input\n",
        "\n",
        "p1 = Person('ayesha','pakistan')\n",
        "p2 = Person('david','australia')\n",
        "\n",
        "p1.name"
      ],
      "metadata": {
        "id": "ZH1AzHdxS9nc",
        "colab": {
          "base_uri": "https://localhost:8080/",
          "height": 35
        },
        "outputId": "b8ea8188-fe5f-4f30-c3f7-ac5803ff9d08"
      },
      "execution_count": null,
      "outputs": [
        {
          "output_type": "execute_result",
          "data": {
            "text/plain": [
              "'ayesha'"
            ],
            "application/vnd.google.colaboratory.intrinsic+json": {
              "type": "string"
            }
          },
          "metadata": {},
          "execution_count": 22
        }
      ]
    },
    {
      "cell_type": "code",
      "source": [
        "p2.name"
      ],
      "metadata": {
        "id": "JGrgbOeLzTfE",
        "colab": {
          "base_uri": "https://localhost:8080/",
          "height": 35
        },
        "outputId": "66cd6fd3-d84b-4880-efb3-cc7b18389319"
      },
      "execution_count": null,
      "outputs": [
        {
          "output_type": "execute_result",
          "data": {
            "text/plain": [
              "'david'"
            ],
            "application/vnd.google.colaboratory.intrinsic+json": {
              "type": "string"
            }
          },
          "metadata": {},
          "execution_count": 23
        }
      ]
    },
    {
      "cell_type": "code",
      "source": [
        "# creating class\n",
        "\n",
        "class Atm:\n",
        "\n",
        "  # constructor(special function)\n",
        "  def __init__(self):\n",
        "    print(id(self))\n",
        "    self.pin = ''        # data\n",
        "    self.__balance = 0\n",
        "    #self.menu()\n",
        "\n",
        "  def get_balance(self):\n",
        "    return self.__balance\n",
        "\n",
        "  def set_balance(self, new_value):\n",
        "    if type(new_value) == int:\n",
        "      self.__balance = new_value\n",
        "    else:\n",
        "      print('Messing with attribute.')\n",
        "\n",
        "  def __menu(self):\n",
        "    user_input = input(\"\"\"\n",
        "    Hey! How can I help You?\n",
        "    1. Press 1 to create pin\n",
        "    2. Press 2 to change pin\n",
        "    3. Press 3 to check balance\n",
        "    4. Press 4 to withdraw\n",
        "    5. Anything else to exit\n",
        "    \"\"\")\n",
        "\n",
        "    if user_input == '1':\n",
        "      # create pin\n",
        "      self.create_pin()\n",
        "    elif user_input == '2':\n",
        "      # change pin\n",
        "      self.change_pin()\n",
        "    elif user_input == '3':\n",
        "      # check balance\n",
        "      self.check_balance()\n",
        "    elif user_input == '4':\n",
        "      # withdraw\n",
        "      self.withdraw()\n",
        "      pass\n",
        "    else:\n",
        "      exit()\n",
        "\n",
        "  def create_pin(self):\n",
        "    user_pin = input('Enter your pin ')\n",
        "    self.pin = user_pin\n",
        "    user_balance = int(input('Enter your balance '))\n",
        "    self.__balance = user_balance\n",
        "\n",
        "\n",
        "  def change_pin(self):\n",
        "    old_pin = input('Enter old pin ')\n",
        "    if old_pin == self.pin:\n",
        "      new_pin = input('Enter new pin ')\n",
        "      self.pin = new_pin\n",
        "      print('Pin changed successfully.')\n",
        "      #self.menu()\n",
        "    else:\n",
        "      print(\"Can't change your pin\")\n",
        "      #self.menu()\n",
        "\n",
        "  def check_balance(self):\n",
        "    user_pin = input('Enter your pin ')\n",
        "    if user_pin == self.pin:\n",
        "      print('your balance is', self.__balance)\n",
        "    else:\n",
        "      print('bro zoom at your pin')\n",
        "    #self.menu()\n",
        "\n",
        "  def withdraw(self):\n",
        "    user_pin = input('Enter the pin ')\n",
        "    if user_pin == self.pin:\n",
        "      # allow to withdraw\n",
        "      amount = int(input('Enter the amount '))\n",
        "      if amount <= self.__balance:\n",
        "        self.__balance = self.__balance - amount\n",
        "        print('withdrawl successful.balance is',self.__balance)\n",
        "      else:\n",
        "        print('Insufficient balance')\n",
        "    else:\n",
        "      print('Incorrect pin')\n",
        "    #self.menu()"
      ],
      "metadata": {
        "id": "VNL7N_2Tzc9d"
      },
      "execution_count": null,
      "outputs": []
    },
    {
      "cell_type": "code",
      "source": [
        "obj = Atm()"
      ],
      "metadata": {
        "id": "Mix7lp_HA7oF",
        "colab": {
          "base_uri": "https://localhost:8080/"
        },
        "outputId": "8330ada5-ed1a-457f-a076-947b3a2ca729"
      },
      "execution_count": null,
      "outputs": [
        {
          "output_type": "stream",
          "name": "stdout",
          "text": [
            "138031504499168\n"
          ]
        }
      ]
    },
    {
      "cell_type": "code",
      "source": [],
      "metadata": {
        "id": "Bsae30CRxc35"
      },
      "execution_count": null,
      "outputs": []
    },
    {
      "cell_type": "code",
      "source": [
        "obj.create_pin()"
      ],
      "metadata": {
        "colab": {
          "base_uri": "https://localhost:8080/"
        },
        "id": "cxOKhnhVs5Mf",
        "outputId": "440593db-9db0-4b7c-cf29-671b95d656d5"
      },
      "execution_count": null,
      "outputs": [
        {
          "name": "stdout",
          "output_type": "stream",
          "text": [
            "Enter your pin 1234\n",
            "Enter your balance 10000\n"
          ]
        }
      ]
    },
    {
      "cell_type": "code",
      "source": [
        "obj.get_balance()"
      ],
      "metadata": {
        "id": "PZfaYTEMNX5O",
        "colab": {
          "base_uri": "https://localhost:8080/"
        },
        "outputId": "524eb896-fc11-4a73-ada3-8559e22babad"
      },
      "execution_count": null,
      "outputs": [
        {
          "output_type": "execute_result",
          "data": {
            "text/plain": [
              "2000"
            ]
          },
          "metadata": {},
          "execution_count": 31
        }
      ]
    },
    {
      "cell_type": "code",
      "source": [
        "obj.set_balance('hehehe')"
      ],
      "metadata": {
        "id": "ZKL1Rhi5Rq3L",
        "colab": {
          "base_uri": "https://localhost:8080/"
        },
        "outputId": "de70a238-b3c5-4c9c-e8bb-81f162fca194"
      },
      "execution_count": null,
      "outputs": [
        {
          "output_type": "stream",
          "name": "stdout",
          "text": [
            "Messing with attribute.\n"
          ]
        }
      ]
    },
    {
      "cell_type": "code",
      "source": [
        "obj.withdraw()"
      ],
      "metadata": {
        "id": "oAW4OTYQOkJ4",
        "colab": {
          "base_uri": "https://localhost:8080/"
        },
        "outputId": "6b2035ca-f6a7-49c8-915d-85302c4c239f"
      },
      "execution_count": null,
      "outputs": [
        {
          "output_type": "stream",
          "name": "stdout",
          "text": [
            "Enter the pin 1234\n",
            "Enter the amount 300\n",
            "withdrawl successful.balance is 1700\n"
          ]
        }
      ]
    },
    {
      "cell_type": "code",
      "source": [
        "# Notes: so encapsulation means keeping your attributes private, and could be access by someone else's\n",
        "# using getter and setter methods serving as security."
      ],
      "metadata": {
        "id": "ZC7XeYGuO4GF"
      },
      "execution_count": null,
      "outputs": []
    },
    {
      "cell_type": "markdown",
      "source": [
        "### Collection of objects"
      ],
      "metadata": {
        "id": "bbmCB0Cws18p"
      }
    },
    {
      "cell_type": "code",
      "source": [
        "# we can create objects and then can store them in a dictionary or lists etc."
      ],
      "metadata": {
        "id": "fYSEkd76swDB"
      },
      "execution_count": null,
      "outputs": []
    },
    {
      "cell_type": "code",
      "source": [
        "# list of objects\n",
        "class Person:\n",
        "\n",
        "  def __init__(self,name,gender):\n",
        "    self.name = name\n",
        "    self.gender = gender\n",
        "\n",
        "p1 = Person('ayesha', 'female')\n",
        "p2 = Person('david', 'male')\n",
        "p3 = Person('greeta', 'female')\n",
        "\n",
        "L = [p1, p2, p3]\n",
        "\n",
        "for i in L:\n",
        "  print(i.name, i.gender)"
      ],
      "metadata": {
        "id": "dDecvZ9wtIWd",
        "colab": {
          "base_uri": "https://localhost:8080/"
        },
        "outputId": "bb1707d6-b0f1-4389-e6ec-72b657cb00a6"
      },
      "execution_count": null,
      "outputs": [
        {
          "output_type": "stream",
          "name": "stdout",
          "text": [
            "ayesha female\n",
            "david male\n",
            "greeta female\n"
          ]
        }
      ]
    },
    {
      "cell_type": "code",
      "source": [
        "# dictionary of objects\n",
        "class Person:\n",
        "\n",
        "  def __init__(self,name,gender):\n",
        "    self.name = name\n",
        "    self.gender = gender\n",
        "\n",
        "p1 = Person('ayesha', 'female')\n",
        "p2 = Person('david', 'male')\n",
        "p3 = Person('greeta', 'female')\n",
        "\n",
        "d = {'p1':p1, 'p2':p2, 'p3':p3}\n",
        "\n",
        "for i in d:\n",
        "  print(d[i].gender)"
      ],
      "metadata": {
        "id": "e_NjeZHTlFM6",
        "colab": {
          "base_uri": "https://localhost:8080/"
        },
        "outputId": "a1c7832b-b8be-4967-9fa2-71c0b6cbf2f5"
      },
      "execution_count": null,
      "outputs": [
        {
          "output_type": "stream",
          "name": "stdout",
          "text": [
            "female\n",
            "male\n",
            "female\n"
          ]
        }
      ]
    },
    {
      "cell_type": "markdown",
      "source": [
        "### Static Variables(Vs Instance variables)"
      ],
      "metadata": {
        "id": "hoNk3Pi4waGw"
      }
    },
    {
      "cell_type": "code",
      "source": [
        "# need for static vars\n",
        "# instance  --> object's variable, it's value for every object is independent, object.variablename\n",
        "# static  --> class's variable, it's same for every object, class.variablename"
      ],
      "metadata": {
        "id": "QJdOtvgum1Ql"
      },
      "execution_count": null,
      "outputs": []
    },
    {
      "cell_type": "code",
      "source": [
        "# creating class\n",
        "\n",
        "class Atm:\n",
        "\n",
        "  __counter = 1\n",
        "\n",
        "  # constructor(special function)\n",
        "  def __init__(self):\n",
        "    print(id(self))\n",
        "    self.pin = ''        # data\n",
        "    self.__balance = 0\n",
        "\n",
        "    self.cid = Atm.__counter\n",
        "    Atm.__counter = Atm.__counter + 1\n",
        "    #self.menu()\n",
        "    # utility functions\n",
        "  @staticmethod\n",
        "  def get_counter():\n",
        "    return Atm.__counter\n",
        "\n",
        "  def get_balance(self):\n",
        "    return self.__balance\n",
        "\n",
        "  def set_balance(self, new_value):\n",
        "    if type(new_value) == int:\n",
        "      self.__balance = new_value\n",
        "    else:\n",
        "      print('Messing with attribute.')\n",
        "\n",
        "  def menu(self):\n",
        "    user_input = input(\"\"\"\n",
        "    Hey! How can I help You?\n",
        "    1. Press 1 to create pin\n",
        "    2. Press 2 to change pin\n",
        "    3. Press 3 to check balance\n",
        "    4. Press 4 to withdraw\n",
        "    5. Anything else to exit\n",
        "    \"\"\")\n",
        "\n",
        "    if user_input == '1':\n",
        "      # create pin\n",
        "      self.create_pin()\n",
        "    elif user_input == '2':\n",
        "      # change pin\n",
        "      self.change_pin()\n",
        "    elif user_input == '3':\n",
        "      # check balance\n",
        "      self.check_balance()\n",
        "    elif user_input == '4':\n",
        "      # withdraw\n",
        "      self.withdraw()\n",
        "      pass\n",
        "    else:\n",
        "      exit()\n",
        "\n",
        "  def create_pin(self):\n",
        "    user_pin = input('Enter your pin ')\n",
        "    self.pin = user_pin\n",
        "\n",
        "    user_balance = int(input('Enter your balance '))\n",
        "    self.__balance = user_balance\n",
        "\n",
        "  def change_pin(self):\n",
        "    old_pin = input('Enter old pin ')\n",
        "    if old_pin == self.pin:\n",
        "      new_pin = input('Enter new pin ')\n",
        "      self.pin = new_pin\n",
        "      print('Pin changed successfully.')\n",
        "\n",
        "    else:\n",
        "      print(\"Can't change your pin\")\n",
        "\n",
        "\n",
        "  def check_balance(self):\n",
        "    user_pin = input('Enter your pin ')\n",
        "    if user_pin == self.pin:\n",
        "      print('your balance is', self.__balance)\n",
        "    else:\n",
        "      print('bro zoom at your pin')\n",
        "\n",
        "\n",
        "  def withdraw(self):\n",
        "    user_pin = input('Enter the pin ')\n",
        "    if user_pin == self.pin:\n",
        "      # allow to withdraw\n",
        "      amount = int(input('Enter the amount '))\n",
        "      if amount <= self.__balance:\n",
        "        self.__balance = self.__balance - amount\n",
        "        print('withdrawl successful.balance is',self.__balance)\n",
        "      else:\n",
        "        print('Insufficient balance')\n",
        "    else:\n",
        "      print('Incorrect pin')\n"
      ],
      "metadata": {
        "id": "0lu415WiwgLB"
      },
      "execution_count": null,
      "outputs": []
    },
    {
      "cell_type": "code",
      "source": [
        "c1 = Atm()"
      ],
      "metadata": {
        "id": "nRe1UcNuyaTH",
        "colab": {
          "base_uri": "https://localhost:8080/"
        },
        "outputId": "515aed66-76a8-448a-e688-5679498da46b"
      },
      "execution_count": null,
      "outputs": [
        {
          "output_type": "stream",
          "name": "stdout",
          "text": [
            "135828950536976\n"
          ]
        }
      ]
    },
    {
      "cell_type": "code",
      "source": [
        "Atm.get_counter()"
      ],
      "metadata": {
        "id": "Ewck6UE91cBy",
        "colab": {
          "base_uri": "https://localhost:8080/"
        },
        "outputId": "2556f4b3-a245-44e1-dbd7-c856e4df2a66"
      },
      "execution_count": null,
      "outputs": [
        {
          "output_type": "execute_result",
          "data": {
            "text/plain": [
              "2"
            ]
          },
          "metadata": {},
          "execution_count": 60
        }
      ]
    },
    {
      "cell_type": "code",
      "source": [
        "c2 = Atm()"
      ],
      "metadata": {
        "id": "c6QB-cKTzRsW",
        "colab": {
          "base_uri": "https://localhost:8080/"
        },
        "outputId": "61680412-420d-4589-d358-7c7f1aae14ac"
      },
      "execution_count": null,
      "outputs": [
        {
          "output_type": "stream",
          "name": "stdout",
          "text": [
            "135828971953408\n"
          ]
        }
      ]
    },
    {
      "cell_type": "code",
      "source": [
        "c3 = Atm()"
      ],
      "metadata": {
        "id": "5V8RmpRlzbXi",
        "colab": {
          "base_uri": "https://localhost:8080/"
        },
        "outputId": "2fa77105-3e4f-4f85-df76-1fc9eba189ee"
      },
      "execution_count": null,
      "outputs": [
        {
          "output_type": "stream",
          "name": "stdout",
          "text": [
            "135828950215152\n"
          ]
        }
      ]
    },
    {
      "cell_type": "code",
      "source": [
        "c1.cid\n"
      ],
      "metadata": {
        "id": "zd8u30AMzdmU",
        "colab": {
          "base_uri": "https://localhost:8080/"
        },
        "outputId": "8cdc7f6f-4c3a-4761-efe3-a1ec3fcbc92d"
      },
      "execution_count": null,
      "outputs": [
        {
          "output_type": "execute_result",
          "data": {
            "text/plain": [
              "1"
            ]
          },
          "metadata": {},
          "execution_count": 63
        }
      ]
    },
    {
      "cell_type": "code",
      "source": [
        "c2.cid"
      ],
      "metadata": {
        "id": "PCAWRomxziEq",
        "colab": {
          "base_uri": "https://localhost:8080/"
        },
        "outputId": "5576fe4c-c3d8-4d1d-8bd6-3d44c8e09cfb"
      },
      "execution_count": null,
      "outputs": [
        {
          "output_type": "execute_result",
          "data": {
            "text/plain": [
              "2"
            ]
          },
          "metadata": {},
          "execution_count": 64
        }
      ]
    },
    {
      "cell_type": "code",
      "source": [
        "c3.cid"
      ],
      "metadata": {
        "id": "xSGeMXdmzmR2",
        "colab": {
          "base_uri": "https://localhost:8080/"
        },
        "outputId": "73e5c465-6466-4b5a-f15c-7d06d9314dda"
      },
      "execution_count": null,
      "outputs": [
        {
          "output_type": "execute_result",
          "data": {
            "text/plain": [
              "3"
            ]
          },
          "metadata": {},
          "execution_count": 65
        }
      ]
    },
    {
      "cell_type": "code",
      "source": [
        "Atm.get_counter()"
      ],
      "metadata": {
        "colab": {
          "base_uri": "https://localhost:8080/"
        },
        "id": "oPE0uOvevF6w",
        "outputId": "47c65d5a-883c-4055-933f-6fdb297fd463"
      },
      "execution_count": null,
      "outputs": [
        {
          "output_type": "execute_result",
          "data": {
            "text/plain": [
              "5"
            ]
          },
          "metadata": {},
          "execution_count": 71
        }
      ]
    },
    {
      "cell_type": "markdown",
      "source": [
        "### Static methods"
      ],
      "metadata": {
        "id": "JBFwPilbyBZj"
      }
    },
    {
      "cell_type": "markdown",
      "source": [
        "##### Points to remember about static\n",
        "\n",
        "- Static attributes are created at class level.\n",
        "- Static attributes are accessed using ClassName.\n",
        "- Static attributes are object independent. We can access them without creating instance (object) of the class in which they are defined.\n",
        "- The value stored in static attribute is shared between all instances(objects) of the class in which the static attribute is defined."
      ],
      "metadata": {
        "id": "kwlGwZs8x9lO"
      }
    },
    {
      "cell_type": "code",
      "source": [],
      "metadata": {
        "id": "pFI9ETowvN46"
      },
      "execution_count": null,
      "outputs": []
    }
  ]
}