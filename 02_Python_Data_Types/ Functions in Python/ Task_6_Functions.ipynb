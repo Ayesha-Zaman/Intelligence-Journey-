{
  "nbformat": 4,
  "nbformat_minor": 0,
  "metadata": {
    "colab": {
      "provenance": [],
      "authorship_tag": "ABX9TyMGyXxoE9dPNqC0kX+bkUN+",
      "include_colab_link": true
    },
    "kernelspec": {
      "name": "python3",
      "display_name": "Python 3"
    },
    "language_info": {
      "name": "python"
    }
  },
  "cells": [
    {
      "cell_type": "markdown",
      "metadata": {
        "id": "view-in-github",
        "colab_type": "text"
      },
      "source": [
        "<a href=\"https://colab.research.google.com/github/Ayesha-Zaman/Intelligence-Journey-/blob/main/02_Python_Data_Types/%20Functions%20in%20Python/%20Task_6_Functions.ipynb\" target=\"_parent\"><img src=\"https://colab.research.google.com/assets/colab-badge.svg\" alt=\"Open In Colab\"/></a>"
      ]
    },
    {
      "cell_type": "markdown",
      "source": [
        "### **`Problem-1:`** Write a Python function that takes a list and returns a new list with unique elements of the first list.\n",
        "\n",
        "**Exercise 1:**\n",
        "\n",
        "Input:\n",
        "\n",
        "```bash\n",
        "[1,2,3,3,3,3,4,5]\n",
        "```\n",
        "\n",
        "Output:\n",
        "\n",
        "```bash\n",
        "[1, 2, 3, 4, 5]\n",
        "```"
      ],
      "metadata": {
        "id": "MqBbAHyU5K3B"
      }
    },
    {
      "cell_type": "code",
      "execution_count": null,
      "metadata": {
        "colab": {
          "base_uri": "https://localhost:8080/"
        },
        "id": "bBxkMJjd4_gl",
        "outputId": "ecd3bf3c-2862-420e-d8a5-f7691c8e77a7"
      },
      "outputs": [
        {
          "output_type": "execute_result",
          "data": {
            "text/plain": [
              "[1, 2, 3, 4, 5]"
            ]
          },
          "metadata": {},
          "execution_count": 6
        }
      ],
      "source": [
        "# code\n",
        "\n",
        "def unique_items(L):\n",
        "  Lst = []\n",
        "  for i in L:\n",
        "    if i not in Lst:\n",
        "      Lst.append(i)\n",
        "  return Lst\n",
        "\n",
        "\n",
        "L = [1,2,3,3,3,3,4,5]\n",
        "unique_items(L)"
      ]
    },
    {
      "cell_type": "markdown",
      "source": [
        "### **`Problem-2:`** Write a Python function that accepts a hyphen-separated sequence of words as parameter and returns the words in a hyphen-separated sequence after sorting them alphabetically.\n",
        "\n",
        "**Example 1:**\n",
        "\n",
        "Input:\n",
        "```bash\n",
        "green-red-yellow-black-white\n",
        "```\n",
        "\n",
        "Output:\n",
        "```bash\n",
        "black-green-red-white-yellow\n",
        "```"
      ],
      "metadata": {
        "id": "gB_3EzvF_3NU"
      }
    },
    {
      "cell_type": "code",
      "source": [
        "# code\n",
        "\n",
        "def sorted_str(s):\n",
        "  seq = []\n",
        "  for i in sorted(s.split('-')):\n",
        "    seq.append(i)\n",
        "\n",
        "  return '-'.join(seq)\n",
        "\n",
        "s = 'green-red-yellow-black-white'\n",
        "sorted_seq = sorted_str(s)\n",
        "print(sorted_seq)"
      ],
      "metadata": {
        "colab": {
          "base_uri": "https://localhost:8080/"
        },
        "id": "gLvyOxJ55P0F",
        "outputId": "3d540277-5c89-46e5-8e48-5be2f8940aa2"
      },
      "execution_count": null,
      "outputs": [
        {
          "output_type": "stream",
          "name": "stdout",
          "text": [
            "black-green-red-white-yellow\n"
          ]
        }
      ]
    },
    {
      "cell_type": "markdown",
      "source": [
        "### **`Problem 3:`** Write a Python function that accepts a string and calculate the number of upper case letters and lower case letters.\n",
        "\n",
        "```\n",
        "Sample String : 'CampusX is an Online Mentorship Program fOr EnginEering studentS.'\n",
        "Expected Output :\n",
        "No. of Upper case characters :  9\n",
        "No. of Lower case Characters :  47\n",
        "```"
      ],
      "metadata": {
        "id": "SExruQETBQ3A"
      }
    },
    {
      "cell_type": "code",
      "source": [
        "# code\n",
        "\n",
        "def case_checking(s):\n",
        "  upper = 0\n",
        "  lower = 0\n",
        "  for i in s:\n",
        "    if i.islower():\n",
        "      lower += 1\n",
        "    elif i.isupper():\n",
        "      upper += 1\n",
        "    else:\n",
        "      pass\n",
        "  return lower, upper\n",
        "\n",
        "S = 'CampusX is an Online Mentorship Program fOr EnginEering studentS.'\n",
        "\n",
        "x,y = case_checking(S)\n",
        "\n",
        "print('No. of Lower case characters:  ',x)\n",
        "print('No. of Upper case Characters :  ',y)"
      ],
      "metadata": {
        "colab": {
          "base_uri": "https://localhost:8080/"
        },
        "id": "jgRFnZlEA1ll",
        "outputId": "af231965-4d26-472f-bd82-e5ae0a4ae78b"
      },
      "execution_count": null,
      "outputs": [
        {
          "output_type": "stream",
          "name": "stdout",
          "text": [
            "No. of Lower case characters:   47\n",
            "No. of Upper case Characters :   9\n"
          ]
        }
      ]
    },
    {
      "cell_type": "markdown",
      "source": [
        "### **`Problem 4:`** Write a Python program to print the even numbers from a given list.\n",
        "```\n",
        "Sample List : [1, 2, 3, 4, 5, 6, 7, 8, 9]\n",
        "Expected Result : [2, 4, 6, 8]\n",
        "```"
      ],
      "metadata": {
        "id": "3ULagHuQF4JE"
      }
    },
    {
      "cell_type": "code",
      "source": [
        "# code\n",
        "\n",
        "def even_num(L):\n",
        "  result = []\n",
        "  for i in L:\n",
        "    if i % 2 == 0:\n",
        "      result.append(i)\n",
        "    else:\n",
        "      pass\n",
        "  return result\n",
        "\n",
        "L = [1, 2, 3, 4, 5, 6, 7, 8, 9]\n",
        "\n",
        "even_num(L)"
      ],
      "metadata": {
        "colab": {
          "base_uri": "https://localhost:8080/"
        },
        "id": "-lx72WVJFfRO",
        "outputId": "6c69ae67-b65e-47df-fdaf-dd1225d1237e"
      },
      "execution_count": null,
      "outputs": [
        {
          "output_type": "execute_result",
          "data": {
            "text/plain": [
              "[2, 4, 6, 8]"
            ]
          },
          "metadata": {},
          "execution_count": 12
        }
      ]
    },
    {
      "cell_type": "markdown",
      "source": [
        "### **`Problem 5:`** Write a Python function to check whether a number is perfect or not.\n",
        "\n",
        "A Perfect number is a number that is half the sum of all of its positive divisors (including itself).\n",
        "\n",
        "Example :\n",
        "\n",
        "```\n",
        "The first perfect number is 6, because 1, 2, and 3 are its proper positive divisors, and 1 + 2 + 3 = 6.\n",
        "Equivalently, the number 6 is equal to half the sum of all its positive divisors: ( 1 + 2 + 3 + 6 ) / 2 = 6.\n",
        "\n",
        "The next perfect number is 28 = 1 + 2 + 4 + 7 + 14. This is followed by the perfect numbers 496 and 8128.\n",
        "```\n"
      ],
      "metadata": {
        "id": "e2DhkPRePwTu"
      }
    },
    {
      "cell_type": "code",
      "source": [
        "# code\n",
        "\n",
        "def perfect_num(num):\n",
        "  sum = 0\n",
        "  for i in range(1, num):\n",
        "    if num % i ==0:\n",
        "      sum += i\n",
        "  return sum == num\n",
        "\n",
        "perfect_num(28)"
      ],
      "metadata": {
        "id": "VvC1-8j-HDKz",
        "colab": {
          "base_uri": "https://localhost:8080/"
        },
        "outputId": "32fc5703-0927-449b-fd51-04399e6b1fd6"
      },
      "execution_count": null,
      "outputs": [
        {
          "output_type": "execute_result",
          "data": {
            "text/plain": [
              "True"
            ]
          },
          "metadata": {},
          "execution_count": 6
        }
      ]
    },
    {
      "cell_type": "markdown",
      "source": [
        "### **`Problem-6:`** Write a Python function to concatenate any no of dictionaries to create a new one.\n",
        "\n",
        "```\n",
        "Sample Dictionary :\n",
        "dic1={1:10, 2:20}\n",
        "dic2={3:30, 4:40}\n",
        "dic3={5:50,6:60}\n",
        "Expected Result : {1: 10, 2: 20, 3: 30, 4: 40, 5: 50, 6: 60}\n",
        "```"
      ],
      "metadata": {
        "id": "REsXgbrGUD7A"
      }
    },
    {
      "cell_type": "code",
      "source": [
        "# code\n",
        "\n",
        "def merg_dict(*args):\n",
        "  d = {}\n",
        "  for i in args:\n",
        "    d.update(i)\n",
        "  return d\n",
        "\n",
        "dic1={1:10, 2:20}\n",
        "dic2={3:30, 4:40}\n",
        "dic3={5:50,6:60}\n",
        "\n",
        "merg_dict(dic1,dic2,dic3)"
      ],
      "metadata": {
        "colab": {
          "base_uri": "https://localhost:8080/"
        },
        "id": "gbtcYpYxQxKZ",
        "outputId": "4aa66a52-a1e8-4bea-e74d-ea721b98b71f"
      },
      "execution_count": null,
      "outputs": [
        {
          "output_type": "execute_result",
          "data": {
            "text/plain": [
              "{1: 10, 2: 20, 3: 30, 4: 40, 5: 50, 6: 60}"
            ]
          },
          "metadata": {},
          "execution_count": 18
        }
      ]
    },
    {
      "cell_type": "markdown",
      "source": [
        "`Problem-7` Write a python function that accepts a string as input and returns the word with most occurence.\n",
        "\n",
        "```\n",
        "Input:\n",
        "hello how are you i am fine thank you\n",
        "```\n",
        "\n",
        "```\n",
        "Output\n",
        "you -> 2\n",
        "```"
      ],
      "metadata": {
        "id": "EVJcREfvcR0A"
      }
    },
    {
      "cell_type": "code",
      "source": [
        "# code\n",
        "\n",
        "def most_used(s):\n",
        "  d = {}\n",
        "  for i in s.split(' '):\n",
        "    if i in d:\n",
        "      d[i] = d[i] + 1\n",
        "    else:\n",
        "      d[i] = 1\n",
        "\n",
        "  max_val = max(d.values())\n",
        "  for i in d:\n",
        "    if d[i] == max_val:\n",
        "      print(i, '->', d[i])\n",
        "      break\n",
        "\n",
        "most_used('hello how are you i am fine thank you')"
      ],
      "metadata": {
        "colab": {
          "base_uri": "https://localhost:8080/"
        },
        "id": "52G1Fbe6dyJI",
        "outputId": "64f48f74-b73c-4921-8d3d-3f388eee88ff"
      },
      "execution_count": null,
      "outputs": [
        {
          "output_type": "stream",
          "name": "stdout",
          "text": [
            "you -> 2\n"
          ]
        }
      ]
    },
    {
      "cell_type": "markdown",
      "source": [
        "`Problem-8` Write a python function that receives a list of integers and prints out a histogram of bin size 10\n",
        "\n",
        "```\n",
        "Input:\n",
        "[13,42,15,37,22,39,41,50]\n",
        "```\n",
        "\n",
        "```\n",
        "Output:\n",
        "{11-20:2,21-30:1,31-40:2,41-50:3}\n",
        "```"
      ],
      "metadata": {
        "id": "wvF45uH4hEKv"
      }
    },
    {
      "cell_type": "code",
      "source": [
        "# code\n",
        "import math\n",
        "\n",
        "def histogram(L):\n",
        "  min_bin = math.floor(min(L)/10)*10\n",
        "  max_bin = math.ceil(max(L)/10)*10\n",
        "  d = {}\n",
        "  for i in range(min_bin, max_bin,10):\n",
        "    count = 0\n",
        "    for j in L:\n",
        "      if i+1<=j<=i+10:\n",
        "        count+=1\n",
        "    d[str(i+1) + '-'+ str(i+10)] = count\n",
        "  return d\n",
        "\n",
        "histogram([13,42,15,37,22,39,41,50])"
      ],
      "metadata": {
        "id": "-FKP4hmvgFf-",
        "colab": {
          "base_uri": "https://localhost:8080/"
        },
        "outputId": "84707e8d-a0f8-4c6d-f41e-aee3baab6f8e"
      },
      "execution_count": null,
      "outputs": [
        {
          "output_type": "execute_result",
          "data": {
            "text/plain": [
              "{'11-20': 2, '21-30': 1, '31-40': 2, '41-50': 3}"
            ]
          },
          "metadata": {},
          "execution_count": 32
        }
      ]
    },
    {
      "cell_type": "markdown",
      "source": [
        "`Problem-9` Write a python function that accepts a list of 2D co-ordinates and a query point, and then finds the the co-ordinate which is closest in terms of distance from the query point.\n",
        "\n",
        "```\n",
        "List of Coordinates\n",
        "[(1,1),(2,2),(3,3),(4,4)]\n",
        "Query Point\n",
        "(0,0)\n",
        "```\n",
        "\n",
        "```\n",
        "Output\n",
        "Nearest to (0,0) is (1,1)\n",
        "```"
      ],
      "metadata": {
        "id": "PoQpHFY2qbIh"
      }
    },
    {
      "cell_type": "code",
      "source": [
        "# code\n",
        "\n",
        "def shortest_dist(points, Query):\n",
        "  dis = []\n",
        "  for i in points:\n",
        "    distance = ((i[0] - Query[0])**2 + (i[1] - Query[1])**2)**0.5\n",
        "    dis.append(distance)\n",
        "  # print(dis)\n",
        "  return points[sorted(list(enumerate(dis)), key = lambda x:x[1])[0][0]]\n",
        "\n",
        "points = [(1,1),(2,2),(3,3),(4,4)]\n",
        "Query = (1,3)\n",
        "\n",
        "shortest_dist(points, Query)"
      ],
      "metadata": {
        "id": "qcGplrnP_Fcc",
        "colab": {
          "base_uri": "https://localhost:8080/"
        },
        "outputId": "45b8fa7b-5bdf-4850-86dc-70c7bb0c21be"
      },
      "execution_count": null,
      "outputs": [
        {
          "output_type": "execute_result",
          "data": {
            "text/plain": [
              "(2, 2)"
            ]
          },
          "metadata": {},
          "execution_count": 25
        }
      ]
    },
    {
      "cell_type": "markdown",
      "source": [
        "`Problem-10`:Write a python program that receives a list of strings and performs bag of word operation on those strings\n",
        "\n",
        "https://en.wikipedia.org/wiki/Bag-of-words_model"
      ],
      "metadata": {
        "id": "44u6K7nSwUsN"
      }
    },
    {
      "cell_type": "code",
      "source": [
        "# code\n",
        "\n",
        "def bow(L):\n",
        "  vocab = set()\n",
        "  for i in L:\n",
        "    vocab.update(i.split(' '))\n",
        "  print(vocab)\n",
        "  result = []\n",
        "  for i in L:\n",
        "    result.append([])\n",
        "    for j in vocab:\n",
        "      result[-1].append(i.count(j))\n",
        "  return result\n",
        "\n",
        "L = [\n",
        "    'cat mat rat cat',\n",
        "     'sat bat fat cat rat',\n",
        "     'pat cat mat rat'\n",
        "]\n",
        "\n",
        "bow(L)"
      ],
      "metadata": {
        "colab": {
          "base_uri": "https://localhost:8080/"
        },
        "id": "yyE1yxVgrJ0K",
        "outputId": "9a91504e-3fa4-43b2-a9f8-dc7d4c543972"
      },
      "execution_count": null,
      "outputs": [
        {
          "output_type": "stream",
          "name": "stdout",
          "text": [
            "{'cat', 'mat', 'fat', 'sat', 'pat', 'bat', 'rat'}\n"
          ]
        },
        {
          "output_type": "execute_result",
          "data": {
            "text/plain": [
              "[[2, 1, 0, 0, 0, 0, 1], [1, 0, 1, 1, 0, 1, 1], [1, 1, 0, 0, 1, 0, 1]]"
            ]
          },
          "metadata": {},
          "execution_count": 35
        }
      ]
    },
    {
      "cell_type": "markdown",
      "source": [
        "###`Problem 11:` Write a Python program to add three given lists using Python map and lambda."
      ],
      "metadata": {
        "id": "OareAdc4Abzd"
      }
    },
    {
      "cell_type": "code",
      "source": [
        "# code\n",
        "\n",
        "L1 = [1,2,3,4]\n",
        "L2 = [5,7,9,3]\n",
        "L3 = [2,4,6,8]\n",
        "\n",
        "list(map(lambda x,y,z:x+y+z ,L1,L2,L3))"
      ],
      "metadata": {
        "colab": {
          "base_uri": "https://localhost:8080/"
        },
        "id": "r0xkOPuV-RWJ",
        "outputId": "d3ce871e-70f2-4aa2-8228-6215c650b0af"
      },
      "execution_count": null,
      "outputs": [
        {
          "output_type": "execute_result",
          "data": {
            "text/plain": [
              "[8, 13, 18, 15]"
            ]
          },
          "metadata": {},
          "execution_count": 36
        }
      ]
    },
    {
      "cell_type": "markdown",
      "source": [
        "###`Problem-12:`Write a Python program to create a list containing the power of said number in bases raised to the corresponding number in the index using Python map.\n",
        "`Input:`\n",
        "```\n",
        "list1 = [1,2,3,4,5,6]\n",
        "```\n",
        "`Output:`\n",
        "```\n",
        "[1,2,9,64,625,-]\n",
        "```\n"
      ],
      "metadata": {
        "id": "zDnbIVEQBwnQ"
      }
    },
    {
      "cell_type": "code",
      "source": [
        "# code\n",
        "list1 = [1,2,3,4,5,6]\n",
        "\n",
        "list(map(lambda x,y:x**y,list1,range(len(list1))))"
      ],
      "metadata": {
        "colab": {
          "base_uri": "https://localhost:8080/"
        },
        "id": "n4-HrVwhBeXI",
        "outputId": "b3c7cb87-f21c-4f44-918e-b852cd2718d4"
      },
      "execution_count": null,
      "outputs": [
        {
          "output_type": "execute_result",
          "data": {
            "text/plain": [
              "[1, 2, 9, 64, 625, 7776]"
            ]
          },
          "metadata": {},
          "execution_count": 38
        }
      ]
    },
    {
      "cell_type": "markdown",
      "source": [
        "###`Problem-13` Using filter() and list() functions and .lower() method filter all the vowels in a given string.\n",
        "\n"
      ],
      "metadata": {
        "id": "PLIBjNIAC5OZ"
      }
    },
    {
      "cell_type": "code",
      "source": [
        "# code\n",
        "str1=\"FIFA world cup in 2022 will take place in Qatar\"\n",
        "list(filter(lambda x:True if x.lower() in 'aeiou' else False, str1))"
      ],
      "metadata": {
        "colab": {
          "base_uri": "https://localhost:8080/"
        },
        "id": "kQp1B8rjCgz2",
        "outputId": "54e41347-c1ea-40b4-cf88-131ef713ac4a"
      },
      "execution_count": null,
      "outputs": [
        {
          "output_type": "execute_result",
          "data": {
            "text/plain": [
              "['I', 'A', 'o', 'u', 'i', 'i', 'a', 'e', 'a', 'e', 'i', 'a', 'a']"
            ]
          },
          "metadata": {},
          "execution_count": 41
        }
      ]
    },
    {
      "cell_type": "markdown",
      "source": [
        "`Problem-14`: Use reduce to convert a 2D list to 1D"
      ],
      "metadata": {
        "id": "d6skHG5PEDAT"
      }
    },
    {
      "cell_type": "code",
      "source": [
        "# code\n",
        "\n",
        "import functools\n",
        "\n",
        "ini_list = [[1, 2, 3],\n",
        "            [3, 6, 7],\n",
        "            [7, 5, 4]]\n",
        "\n",
        "list(functools.reduce(lambda x,y:x+y , ini_list))"
      ],
      "metadata": {
        "colab": {
          "base_uri": "https://localhost:8080/"
        },
        "id": "spqPNnOTDmWg",
        "outputId": "b67fb85c-302a-4c36-c11a-5ed4197b62aa"
      },
      "execution_count": null,
      "outputs": [
        {
          "output_type": "execute_result",
          "data": {
            "text/plain": [
              "[1, 2, 3, 3, 6, 7, 7, 5, 4]"
            ]
          },
          "metadata": {},
          "execution_count": 42
        }
      ]
    },
    {
      "cell_type": "markdown",
      "source": [
        "`Problem 15`- A dictionary contains following information about 5 employees:\n",
        "- First name\n",
        "- Last name\n",
        "- Age\n",
        "- Grade(Skilled,Semi-skilled,Highly skilled)<br>\n",
        "Write a program using map/filter/reduce to a list of employees(first name + last name) who are highly skilled"
      ],
      "metadata": {
        "id": "ry_EzIvSE-Z9"
      }
    },
    {
      "cell_type": "code",
      "source": [
        "# code\n",
        "\n",
        "employees = [\n",
        "    {\n",
        "        'fname':'Nitish',\n",
        "        'lname':'Singh',\n",
        "        'age' : 33,\n",
        "        'grade':'skilled'\n",
        "    },\n",
        "    {\n",
        "        'fname':'Ankit',\n",
        "        'lname':'Verma',\n",
        "        'age' : 34,\n",
        "        'grade':'semi-skilled'\n",
        "    },\n",
        "    {\n",
        "        'fname':'Neha',\n",
        "        'lname':'Singh',\n",
        "        'age' : 35,\n",
        "        'grade':'highly-skilled'\n",
        "    },\n",
        "    {\n",
        "        'fname':'Anurag',\n",
        "        'lname':'Kumar',\n",
        "        'age' : 30,\n",
        "        'grade':'skilled'\n",
        "    },\n",
        "    {\n",
        "        'fname':'Abhinav',\n",
        "        'lname':'Sharma',\n",
        "        'age' : 37,\n",
        "        'grade':'highly-skilled'\n",
        "    }\n",
        "\n",
        "]\n",
        "\n",
        "list(map(lambda x:x['fname'] +' '+ x['lname'], list(filter(lambda x: True if x['grade'] == 'highly-skilled' else False, employees))))"
      ],
      "metadata": {
        "colab": {
          "base_uri": "https://localhost:8080/"
        },
        "id": "Qc0oH7_vExxU",
        "outputId": "be4db927-e76a-437e-91c4-6067e4111a98"
      },
      "execution_count": null,
      "outputs": [
        {
          "output_type": "execute_result",
          "data": {
            "text/plain": [
              "['Neha Singh', 'Abhinav Sharma']"
            ]
          },
          "metadata": {},
          "execution_count": 44
        }
      ]
    },
    {
      "cell_type": "code",
      "source": [],
      "metadata": {
        "id": "NEaBj6_FGQ6k"
      },
      "execution_count": null,
      "outputs": []
    }
  ]
}