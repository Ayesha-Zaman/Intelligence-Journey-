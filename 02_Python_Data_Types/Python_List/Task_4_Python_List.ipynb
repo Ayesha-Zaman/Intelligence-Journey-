{
  "nbformat": 4,
  "nbformat_minor": 0,
  "metadata": {
    "colab": {
      "provenance": [],
      "authorship_tag": "ABX9TyNSSmM3EX994WcG1FB3f0Hm",
      "include_colab_link": true
    },
    "kernelspec": {
      "name": "python3",
      "display_name": "Python 3"
    },
    "language_info": {
      "name": "python"
    }
  },
  "cells": [
    {
      "cell_type": "markdown",
      "metadata": {
        "id": "view-in-github",
        "colab_type": "text"
      },
      "source": [
        "<a href=\"https://colab.research.google.com/github/Ayesha-Zaman/Intelligence-Journey-/blob/main/02_Python_Data_Types/Python_List/Task_4_Python_List.ipynb\" target=\"_parent\"><img src=\"https://colab.research.google.com/assets/colab-badge.svg\" alt=\"Open In Colab\"/></a>"
      ]
    },
    {
      "cell_type": "markdown",
      "source": [
        "###`Problem 1:` Combine two lists index-wise(columns wise)\n",
        "\n",
        "Write a program to add two lists index-wise. Create a new list that contains the 0th index item from both the list, then the 1st index item, and so on till the last element. any leftover items will get added at the end of the new list.\n",
        "\n",
        "`Given List:`\n",
        "```\n",
        "list1 = [\"M\", \"na\", \"i\", \"Kh\"]\n",
        "list2 = [\"y\", \"me\", \"s\", \"an\"]\n",
        "```\n",
        "\n",
        "`Output:`\n",
        "```\n",
        "[['M','y'], ['na', me'], ['i', 's'], ['Kh', 'an']]\n",
        "```"
      ],
      "metadata": {
        "id": "YwCo4jhqL-gy"
      }
    },
    {
      "cell_type": "code",
      "execution_count": null,
      "metadata": {
        "colab": {
          "base_uri": "https://localhost:8080/"
        },
        "id": "oQpjRm3gLlDP",
        "outputId": "a867f0bd-9078-4334-90fe-6134bc99342d"
      },
      "outputs": [
        {
          "output_type": "stream",
          "name": "stdout",
          "text": [
            "[['M', 'y'], ['na', 'me'], ['i', 's'], ['Kh', 'an']]\n"
          ]
        }
      ],
      "source": [
        "# code\n",
        "list1 = [\"M\", \"na\", \"i\", \"Kh\"]\n",
        "list2 = [\"y\", \"me\", \"s\", \"an\"]\n",
        "\n",
        "new_list = [[i,j] for (i,j) in zip(list1, list2)]\n",
        "print(new_list)"
      ]
    },
    {
      "cell_type": "code",
      "source": [
        "# code\n",
        "list1 = [\"M\", \"na\", \"i\", \"Kh\"]\n",
        "list2 = [\"y\", \"me\", \"s\", \"an\"]\n",
        "\n",
        "temp_list = []\n",
        "\n",
        "new_list = []\n",
        "\n",
        "for i in range(len(list1)):\n",
        "    temp_list = [list1[i], list2[i]]\n",
        "    new_list.append(temp_list)\n",
        "\n",
        "\n",
        "print(new_list)"
      ],
      "metadata": {
        "colab": {
          "base_uri": "https://localhost:8080/"
        },
        "id": "5TXQPg2iL_OJ",
        "outputId": "da9685a7-223d-433d-ca4d-7b0da50834c6"
      },
      "execution_count": null,
      "outputs": [
        {
          "output_type": "stream",
          "name": "stdout",
          "text": [
            "[['M', 'y'], ['na', 'me'], ['i', 's'], ['Kh', 'an']]\n"
          ]
        }
      ]
    },
    {
      "cell_type": "markdown",
      "source": [
        "### `Problem 2:` Add new item to list after a specified item\n",
        "Write a program to add item 7000 after 6000 in the following Python List\n",
        "```\n",
        "list1 = [10, 20, [300, 400, [5000, 6000], 500], 30, 40]\n",
        "```\n",
        "`Output:`\n",
        "```\n",
        "[10, 20, [300, 400, [5000, 6000, 7000], 500], 30, 40]\n",
        "```"
      ],
      "metadata": {
        "id": "tUI5cF8PDxHm"
      }
    },
    {
      "cell_type": "code",
      "source": [
        "# code\n",
        "list1 = [10, 20, [300, 400, [5000, 6000], 500], 30, 40]\n",
        "\n",
        "list1[2][2].append(7000)\n",
        "\n",
        "print(list1)"
      ],
      "metadata": {
        "colab": {
          "base_uri": "https://localhost:8080/"
        },
        "id": "9dIr36AjDyS4",
        "outputId": "950471b7-0bd1-4087-e140-b5f42171b086"
      },
      "execution_count": null,
      "outputs": [
        {
          "output_type": "stream",
          "name": "stdout",
          "text": [
            "[10, 20, [300, 400, [5000, 6000, 7000], 500], 30, 40]\n"
          ]
        }
      ]
    },
    {
      "cell_type": "markdown",
      "source": [
        "###`Problem 3:` Update no of items available\n",
        "\n",
        "Suppose you are given a list of candy and another list of same size representing no of items of respective candy.\n",
        "\n",
        "i.e -  \n",
        "```\n",
        "candy_list = ['Jelly Belly','Kit Kat','Double Bubble','Milky Way','Three Musketeers']\n",
        "no_of_items = [10,20,34,74,32]\n",
        "```\n",
        "\n",
        "Write a program to show no. of items of each candy type.\n",
        "\n",
        "`Output:`\n",
        "\n",
        "```\n",
        "Jelly Belly-10\n",
        "Kit Kat-20\n",
        "Double Bubble-34\n",
        "Milky Way-74\n",
        "Three Musketeers-32\n",
        "\n",
        "```"
      ],
      "metadata": {
        "id": "FUDcvsEcNVWD"
      }
    },
    {
      "cell_type": "code",
      "source": [
        "# code\n",
        "candy_list = ['Jelly Belly','Kit Kat','Double Bubble','Milky Way','Three Musketeers']\n",
        "no_of_items = [10,20,34,74,32]\n",
        "\n",
        "for i in range(len(candy_list)):\n",
        "  print(candy_list[i] + '-' + str(no_of_items[i]))"
      ],
      "metadata": {
        "colab": {
          "base_uri": "https://localhost:8080/"
        },
        "id": "MeRqb0huJTjd",
        "outputId": "c1b34f63-f2ba-43ce-dfe0-627f8e66edf2"
      },
      "execution_count": null,
      "outputs": [
        {
          "output_type": "stream",
          "name": "stdout",
          "text": [
            "Jelly Belly-10\n",
            "Kit Kat-20\n",
            "Double Bubble-34\n",
            "Milky Way-74\n",
            "Three Musketeers-32\n"
          ]
        }
      ]
    },
    {
      "cell_type": "code",
      "source": [
        "# code\n",
        "candy_list = ['Jelly Belly','Kit Kat','Double Bubble','Milky Way','Three Musketeers']\n",
        "no_of_items = [10,20,34,74,32]\n",
        "\n",
        "for i,j in zip(candy_list, no_of_items):\n",
        "  print(i , '-', j)"
      ],
      "metadata": {
        "colab": {
          "base_uri": "https://localhost:8080/"
        },
        "id": "T4RY0XoWfNRT",
        "outputId": "72d97712-34bb-492a-ba74-4f450c6cd3cc"
      },
      "execution_count": null,
      "outputs": [
        {
          "output_type": "stream",
          "name": "stdout",
          "text": [
            "Jelly Belly - 10\n",
            "Kit Kat - 20\n",
            "Double Bubble - 34\n",
            "Milky Way - 74\n",
            "Three Musketeers - 32\n"
          ]
        }
      ]
    },
    {
      "cell_type": "markdown",
      "source": [
        "###`Problem 4:` Running Sum on list\n",
        "Write a program to print a list after performing running sum on it.\n",
        "\n",
        "i.e:\n",
        "\n",
        "`Input:`\n",
        "```\n",
        "list1 = [1,2,3,4,5,6]\n",
        "```\n",
        "`Output:`\n",
        "```\n",
        "[1,3,6,10,15,21]\n",
        "```"
      ],
      "metadata": {
        "id": "mqQpUMLkPK52"
      }
    },
    {
      "cell_type": "code",
      "source": [
        "# code\n",
        "list1 = [1,2,3,4,5,6]\n",
        "\n",
        "sum = 0\n",
        "new_list = []\n",
        "\n",
        "for i in list1:\n",
        "  sum = sum + i\n",
        "  new_list.append(sum)\n",
        "print(new_list)"
      ],
      "metadata": {
        "colab": {
          "base_uri": "https://localhost:8080/"
        },
        "id": "q2EsGz9aO2q4",
        "outputId": "5f95a9fd-43ea-4ba6-c633-0731220521d2"
      },
      "execution_count": null,
      "outputs": [
        {
          "output_type": "stream",
          "name": "stdout",
          "text": [
            "[1, 3, 6, 10, 15, 21]\n"
          ]
        }
      ]
    },
    {
      "cell_type": "markdown",
      "source": [
        "###`Problem 5:` You are given a list of integers. You are asked to make a list by running through elements of the list by adding all elements greater and itself.\n",
        "\n",
        "i.e. Say given list is `[2,4,6,10,1]`\n",
        "resultant list will be `[22,20,10,23]`.\n",
        "\n",
        "For 1st element `2` ->> these are greater `(4+6+10)` values and `2` itself so on adding becomes `22`.\n",
        "\n",
        "For 2nd element `4` ->> greater elements are `(6, 10)` and `4` itself, so on adding `20`\n",
        "\n",
        "like wise for all other elememts.\n",
        "\n",
        "`[2,4,6,10,1]`-->`[22,20,16,10,23]`\n",
        "\n",
        "\n"
      ],
      "metadata": {
        "id": "xJiTBHXFT5R-"
      }
    },
    {
      "cell_type": "code",
      "source": [
        "# code\n",
        "\n",
        "Lst = [2,4,6,10,1]\n",
        "new_list = []\n",
        "sum = 0\n",
        "\n",
        "for i in range(len(Lst)):\n",
        "  for j in range(len(Lst)):\n",
        "    if Lst[j] >= Lst[i]:\n",
        "      sum = sum + Lst[j]\n",
        "  new_list.append(sum)\n",
        "  sum = 0\n",
        "\n",
        "print(new_list)"
      ],
      "metadata": {
        "colab": {
          "base_uri": "https://localhost:8080/"
        },
        "id": "w1PydRhFSpIl",
        "outputId": "c53f5c4c-9b3d-4ef3-a9c5-256eba1089bb"
      },
      "execution_count": null,
      "outputs": [
        {
          "output_type": "stream",
          "name": "stdout",
          "text": [
            "[22, 20, 16, 10, 23]\n"
          ]
        }
      ]
    },
    {
      "cell_type": "markdown",
      "source": [
        "###`Problem 6:` Find list of common unique items from two list. and show in increasing order\n",
        "\n",
        "`Input`\n",
        "\n",
        "```\n",
        "num1 = [23,45,67,78,89,34]\n",
        "num2 = [34,89,55,56,39,67]\n",
        "```\n",
        "\n",
        "`Output:`\n",
        "```\n",
        "[34, 67, 89]\n",
        "```\n"
      ],
      "metadata": {
        "id": "7eW01kPvYxXd"
      }
    },
    {
      "cell_type": "code",
      "source": [
        "# code\n",
        "num1 = [23,45,67,78,89,34]\n",
        "num2 = [34,89,55,56,39,67]\n",
        "\n",
        "new_lst = []\n",
        "\n",
        "[new_lst.append(i) for i in num1 if i not in new_lst and i in num2]\n",
        "new_lst.sort()\n",
        "print(new_lst)"
      ],
      "metadata": {
        "id": "aHZzFwXpXE66",
        "colab": {
          "base_uri": "https://localhost:8080/"
        },
        "outputId": "131762c5-2f99-4b31-c0ab-fa8f398ee016"
      },
      "execution_count": null,
      "outputs": [
        {
          "output_type": "stream",
          "name": "stdout",
          "text": [
            "[34, 67, 89]\n"
          ]
        }
      ]
    },
    {
      "cell_type": "markdown",
      "source": [
        "###`Problem 7:` Sort a list of alphanumeric strings based on product value of numeric character in it. If in any string there is no numeric character take it's product value as 1.\n",
        "\n",
        "`Input:`\n",
        "```\n",
        "['1ac21', '23fg', '456', '098d','1','kls']\n",
        "```\n",
        "\n",
        "`Output:`\n",
        "```\n",
        "['456', '23fg', '1ac21', '1', 'kls', '098d']\n",
        "\n",
        "```"
      ],
      "metadata": {
        "id": "z5s8wTEK5AOa"
      }
    },
    {
      "cell_type": "code",
      "source": [
        "# code\n",
        "data = ['1ac21', '23fg', '456', '098d','1','kls']\n",
        "\n",
        "products = []\n",
        "\n",
        "for item in data:\n",
        "  product = 1\n",
        "  found_digit = False\n",
        "\n",
        "  for ch in item:\n",
        "    if ch.isdigit():\n",
        "      product *= int(ch)\n",
        "      found_digit = True\n",
        "\n",
        "  if not found_digit:\n",
        "    product = 1\n",
        "\n",
        "  products.append((product, item))\n",
        "\n",
        "products.sort(reverse=True)\n",
        "\n",
        "sorted_list = [item[1] for item in products]\n",
        "print(sorted_list)"
      ],
      "metadata": {
        "colab": {
          "base_uri": "https://localhost:8080/"
        },
        "id": "F5l34B7mtlWy",
        "outputId": "a561d860-b1bf-4188-eecd-b32a8552bf9b"
      },
      "execution_count": null,
      "outputs": [
        {
          "output_type": "stream",
          "name": "stdout",
          "text": [
            "['456', '23fg', '1ac21', 'kls', '1', '098d']\n"
          ]
        }
      ]
    },
    {
      "cell_type": "markdown",
      "source": [
        "`Problem 8:` Split String of list on K character.\n",
        "\n",
        "**Example :**\n",
        "\n",
        "Input:\n",
        "```bash\n",
        "['CampusX is a channel', 'for data-science', 'aspirants.']\n",
        "```\n",
        "\n",
        "Output:\n",
        "```bash\n",
        "['CampusX', 'is', 'a', 'channel', 'for', 'data-science', 'aspirants.']\n",
        "```"
      ],
      "metadata": {
        "id": "upDw1wZm_sJx"
      }
    },
    {
      "cell_type": "code",
      "source": [
        "# code\n",
        "str_list = ['CampusX is a channel', 'for data-science', 'aspirants.']\n",
        "\n",
        "new_list = []\n",
        "\n",
        "for item in str_list:\n",
        "  temp = ''\n",
        "\n",
        "  for ch in item:\n",
        "    if ch != ' ':\n",
        "      temp += ch\n",
        "    else:\n",
        "      new_list.append(temp)\n",
        "      temp = ''\n",
        "\n",
        "  new_list.append(temp)\n",
        "\n",
        "print(new_list)"
      ],
      "metadata": {
        "colab": {
          "base_uri": "https://localhost:8080/"
        },
        "id": "rKHqS8Ah7pFB",
        "outputId": "ddc24a85-dde1-4b6f-a589-56956fdb94df"
      },
      "execution_count": null,
      "outputs": [
        {
          "output_type": "stream",
          "name": "stdout",
          "text": [
            "['CampusX', 'is', 'a', 'channel', 'for', 'data-science', 'aspirants.']\n"
          ]
        }
      ]
    },
    {
      "cell_type": "code",
      "source": [
        "# code\n",
        "str_list = ['CampusX is a channel', 'for data-science', 'aspirants.']\n",
        "inp = ' '\n",
        "new_list = []\n",
        "\n",
        "for i in str_list:\n",
        "  new_list.extend((i.split(inp)))\n",
        "print(new_list)"
      ],
      "metadata": {
        "colab": {
          "base_uri": "https://localhost:8080/"
        },
        "id": "A0Nk0c2bj0fc",
        "outputId": "b236f696-b3d6-47c9-ea36-cfe99b58708e"
      },
      "execution_count": null,
      "outputs": [
        {
          "output_type": "stream",
          "name": "stdout",
          "text": [
            "['CampusX', 'is', 'a', 'channel', 'for', 'data-science', 'aspirants.']\n"
          ]
        }
      ]
    },
    {
      "cell_type": "markdown",
      "source": [
        "### `Problem 9:` Convert Character Matrix to single String using string comprehension.\n",
        "\n",
        "**Example 1:**\n",
        "\n",
        "Input:\n",
        "```bash\n",
        "[['c', 'a', 'm', 'p', 'u', 'x'], ['i', 's'], ['b', 'e', 's', 't'], ['c', 'h', 'a', 'n', 'n', 'e', 'l']]\n",
        "```\n",
        "\n",
        "Output:\n",
        "```bash\n",
        "campux is best channel\n",
        "```"
      ],
      "metadata": {
        "id": "XZ_BgvdtHiRk"
      }
    },
    {
      "cell_type": "code",
      "source": [
        "# code\n",
        "ch_list = [['c', 'a', 'm', 'p', 'u', 'x'], ['i', 's'], ['b', 'e', 's', 't'], ['c', 'h', 'a', 'n', 'n', 'e', 'l']]\n",
        "\n",
        "item_list = ' '.join([''.join(item) for item in ch_list])\n",
        "print(item_list)"
      ],
      "metadata": {
        "colab": {
          "base_uri": "https://localhost:8080/"
        },
        "id": "Ek35JgZqEVZN",
        "outputId": "921fe3c7-8393-4d4c-fed6-d7f0da063acb"
      },
      "execution_count": null,
      "outputs": [
        {
          "output_type": "stream",
          "name": "stdout",
          "text": [
            "campux is best channel\n"
          ]
        }
      ]
    },
    {
      "cell_type": "markdown",
      "source": [
        "### `Problem 10:` Add Space between Potential Words.\n",
        "\n",
        "**Example:**\n",
        "\n",
        "Input:\n",
        "\n",
        "```bash\n",
        "['campusxIs', 'bestFor', 'dataScientist']\n",
        "```\n",
        "\n",
        "Output:\n",
        "```bash\n",
        "['campusx Is', 'best For', 'data Scientist']\n",
        "```"
      ],
      "metadata": {
        "id": "PPQs7eTROcSZ"
      }
    },
    {
      "cell_type": "code",
      "source": [
        "# code\n",
        "lst = ['campusxIs', 'bestFor', 'dataScientist']\n",
        "\n",
        "space_list = []\n",
        "\n",
        "for item in lst:\n",
        "  temp = ''\n",
        "  for ch in item:\n",
        "    if ch.islower():\n",
        "      temp += ch\n",
        "    elif ch.isupper() and ch != item[0]:\n",
        "      temp += ' ' + ch\n",
        "    elif ch.isupper() and ch == item[0]:\n",
        "      temp +=  ch\n",
        "  space_list.append(temp)\n",
        "\n",
        "print(space_list)"
      ],
      "metadata": {
        "colab": {
          "base_uri": "https://localhost:8080/"
        },
        "id": "Lw9gySxyJQld",
        "outputId": "2e5f205a-8d7e-4ed1-ba55-59b6403f725c"
      },
      "execution_count": null,
      "outputs": [
        {
          "output_type": "stream",
          "name": "stdout",
          "text": [
            "['campusx Is', 'best For', 'data Scientist']\n"
          ]
        }
      ]
    },
    {
      "cell_type": "markdown",
      "source": [
        "### `Problem 11:` Write a program that can perform union operation on 2 lists\n",
        "\n",
        "**Example:**\n",
        "\n",
        "Input:\n",
        "\n",
        "```bash\n",
        "[1,2,3,4,5,1]\n",
        "[2,3,5,7,8]\n",
        "```\n",
        "\n",
        "Output:\n",
        "```bash\n",
        "[1,2,3,4,5,7,8]\n",
        "```"
      ],
      "metadata": {
        "id": "tFj0Qrs7XLGr"
      }
    },
    {
      "cell_type": "code",
      "source": [
        "# code\n",
        "l1 = [1,2,3,4,5,1]\n",
        "l2 = [2,3,5,7,8]\n",
        "\n",
        "new_list = []\n",
        "\n",
        "[new_list.append(i) for i in l1 if i not in new_list]\n",
        "[new_list.append(j) for j in l2 if j not in new_list]\n",
        "\n",
        "print(new_list)"
      ],
      "metadata": {
        "colab": {
          "base_uri": "https://localhost:8080/"
        },
        "id": "2H8gYU8WTBxj",
        "outputId": "9f84d02a-48f3-4af9-8233-e98f8bb82f3c"
      },
      "execution_count": null,
      "outputs": [
        {
          "output_type": "stream",
          "name": "stdout",
          "text": [
            "[1, 2, 3, 4, 5, 7, 8]\n"
          ]
        }
      ]
    },
    {
      "cell_type": "markdown",
      "source": [
        "### `Problem 12:` Write a program that can find the max number of each row of a matrix\n",
        "\n",
        "**Example:**\n",
        "\n",
        "Input:\n",
        "\n",
        "```bash\n",
        "[[1,2,3],[4,5,6],[7,8,9]]\n",
        "```\n",
        "\n",
        "Output:\n",
        "```bash\n",
        "[3,6,9]\n",
        "```"
      ],
      "metadata": {
        "id": "0eSZUtldeKtP"
      }
    },
    {
      "cell_type": "code",
      "source": [
        "# code\n",
        "number = [[1,2,3],[4,5,6],[7,8,9]]\n",
        "\n",
        "max_list = [max(sub_list) for sub_list in number]\n",
        "\n",
        "print(max_list)"
      ],
      "metadata": {
        "colab": {
          "base_uri": "https://localhost:8080/"
        },
        "id": "xelQS6R7b8o_",
        "outputId": "1fd61be1-651f-4d38-cd95-1f9da9f3237a"
      },
      "execution_count": null,
      "outputs": [
        {
          "output_type": "stream",
          "name": "stdout",
          "text": [
            "[3, 6, 9]\n"
          ]
        }
      ]
    },
    {
      "cell_type": "markdown",
      "source": [
        "### `Problem 13:` Write a list comprehension to print the following matrix\n",
        "\n",
        "[[0, 1, 2], [3, 4, 5], [6, 7, 8]]"
      ],
      "metadata": {
        "id": "0IWDqF-zjgjz"
      }
    },
    {
      "cell_type": "code",
      "source": [
        "# code\n",
        "matrix = [[j+3*i for j in range(0,3)] for i in range(0,3)]\n",
        "print(matrix)"
      ],
      "metadata": {
        "id": "Qi-L1dY5ipdc",
        "colab": {
          "base_uri": "https://localhost:8080/"
        },
        "outputId": "8d2202b7-81b9-4e20-be99-6022f11c1fab"
      },
      "execution_count": null,
      "outputs": [
        {
          "output_type": "stream",
          "name": "stdout",
          "text": [
            "[[0, 1, 2], [3, 4, 5], [6, 7, 8]]\n"
          ]
        }
      ]
    },
    {
      "cell_type": "markdown",
      "source": [
        "### `Problem 14:` Write a list comprehension that can transpose a given matrix\n",
        "\n",
        "matrix = [<br>\n",
        "  [1,2,3],<br>\n",
        "          [4,5,6],<br>\n",
        "          [7,8,9]<br>]<br>\n",
        "## output\n",
        "[1, 4, 7]<br>\n",
        "[2, 5, 8]<br>\n",
        "[3, 6, 9]<br>"
      ],
      "metadata": {
        "id": "2HjyBDDhZ5c3"
      }
    },
    {
      "cell_type": "code",
      "source": [
        "# code\n",
        "\n",
        "matrix = [\n",
        "[1,2,3],\n",
        "[4,5,6],\n",
        "[7,8,9]\n",
        "]\n",
        "\n",
        "transpose_matrix = [[item[i] for item in matrix] for i in range(len(matrix))]\n",
        "print(transpose_matrix)"
      ],
      "metadata": {
        "id": "MScP1-vAZ7h1",
        "colab": {
          "base_uri": "https://localhost:8080/"
        },
        "outputId": "4c592ac4-67f1-4f61-97e9-331f0f4029ff"
      },
      "execution_count": null,
      "outputs": [
        {
          "output_type": "stream",
          "name": "stdout",
          "text": [
            "[[1, 4, 7], [2, 5, 8], [3, 6, 9]]\n"
          ]
        }
      ]
    },
    {
      "cell_type": "markdown",
      "source": [
        "### `Problem 15:` Write a list comprehension that can flatten a nested list\n",
        "\n",
        "Input<br>\n",
        "matrix = [<br>\n",
        "  [1,2,3],<br>\n",
        "          [4,5,6],<br>\n",
        "          [7,8,9]<br>]<br>\n",
        "\n",
        "Output:<br>\n",
        "[1, 2, 3, 4, 5, 6, 7, 8, 9]"
      ],
      "metadata": {
        "id": "iboirra0YIPx"
      }
    },
    {
      "cell_type": "code",
      "source": [
        "# code\n",
        "matrix = [\n",
        "[1,2,3],\n",
        "[4,5,6],\n",
        "[7,8,9]\n",
        "]\n",
        "\n",
        "list_1D = [i for sub_list in matrix for i in sub_list]\n",
        "print(list_1D)\n"
      ],
      "metadata": {
        "colab": {
          "base_uri": "https://localhost:8080/"
        },
        "id": "_CTFCJ5eZAmX",
        "outputId": "1526270c-0aa7-4d61-b83b-04517409bb2a"
      },
      "execution_count": null,
      "outputs": [
        {
          "output_type": "stream",
          "name": "stdout",
          "text": [
            "[1, 2, 3, 4, 5, 6, 7, 8, 9]\n"
          ]
        }
      ]
    },
    {
      "cell_type": "code",
      "source": [],
      "metadata": {
        "id": "B-3UUVjpZFrK"
      },
      "execution_count": null,
      "outputs": []
    }
  ]
}