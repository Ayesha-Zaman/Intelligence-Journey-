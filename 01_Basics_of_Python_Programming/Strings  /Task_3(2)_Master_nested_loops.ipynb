{
  "nbformat": 4,
  "nbformat_minor": 0,
  "metadata": {
    "colab": {
      "provenance": [],
      "authorship_tag": "ABX9TyP6yc5cIQ3xjvzcueP7Qvyg",
      "include_colab_link": true
    },
    "kernelspec": {
      "name": "python3",
      "display_name": "Python 3"
    },
    "language_info": {
      "name": "python"
    }
  },
  "cells": [
    {
      "cell_type": "markdown",
      "metadata": {
        "id": "view-in-github",
        "colab_type": "text"
      },
      "source": [
        "<a href=\"https://colab.research.google.com/github/Ayesha-Zaman/Intelligence-Journey-/blob/main/01_Basics_of_Python_Programming/Strings%20%20/Task_3(2)_Master_nested_loops.ipynb\" target=\"_parent\"><img src=\"https://colab.research.google.com/assets/colab-badge.svg\" alt=\"Open In Colab\"/></a>"
      ]
    },
    {
      "cell_type": "markdown",
      "source": [
        "### Sequence sum\n",
        "\n",
        "1/1! + 2/2! + 3/3! + ..."
      ],
      "metadata": {
        "id": "8cgphW0QlXIl"
      }
    },
    {
      "cell_type": "code",
      "source": [
        "n = int(input(\"Enter nth term: \"))\n",
        "sum = 0\n",
        "fac = 1\n",
        "result = 0\n",
        "for i in range(1, n+1):\n",
        "  fac = fac * i\n",
        "  sum = i / fac\n",
        "  result = result + sum\n",
        "print('sequence sum: ', result)"
      ],
      "metadata": {
        "colab": {
          "base_uri": "https://localhost:8080/"
        },
        "id": "OXSq9XnDlYbE",
        "outputId": "971dd42c-4c43-4819-ebd0-cd03786d8d16"
      },
      "execution_count": null,
      "outputs": [
        {
          "output_type": "stream",
          "name": "stdout",
          "text": [
            "Enter nth term: 3\n",
            "sequence sum:  2.5\n"
          ]
        }
      ]
    },
    {
      "cell_type": "markdown",
      "source": [
        "# Nested Loops"
      ],
      "metadata": {
        "id": "AkFJezresJ9_"
      }
    },
    {
      "cell_type": "code",
      "execution_count": null,
      "metadata": {
        "colab": {
          "base_uri": "https://localhost:8080/"
        },
        "id": "I8bYivb6a61r",
        "outputId": "f9f510b2-5c61-49e0-860e-d56a2b73783f"
      },
      "outputs": [
        {
          "output_type": "stream",
          "name": "stdout",
          "text": [
            "1 1\n",
            "1 2\n",
            "1 3\n",
            "1 4\n",
            "1 5\n",
            "2 1\n",
            "2 2\n",
            "2 3\n",
            "2 4\n",
            "2 5\n",
            "3 1\n",
            "3 2\n",
            "3 3\n",
            "3 4\n",
            "3 5\n",
            "4 1\n",
            "4 2\n",
            "4 3\n",
            "4 4\n",
            "4 5\n",
            "5 1\n",
            "5 2\n",
            "5 3\n",
            "5 4\n",
            "5 5\n"
          ]
        }
      ],
      "source": [
        "# Example   --> unique pairs\n",
        "\n",
        "for i in range(1, 5 +1):\n",
        "  for j in range(1, 5+1):\n",
        "    print(i,j)"
      ]
    },
    {
      "cell_type": "markdown",
      "source": [
        "### Pattern 1\n",
        "\n",
        "\n",
        "*** <br>\n",
        "**** <br>\n",
        "***<br>\n"
      ],
      "metadata": {
        "id": "2Ah96xMPxrXm"
      }
    },
    {
      "cell_type": "code",
      "source": [
        "rows = int(input(\"Enter number of rows \"))\n",
        "for  i in range(1, rows + 1):\n",
        "  for j in range(1,i+1):\n",
        "    print('*', end= '')\n",
        "\n",
        "  print()"
      ],
      "metadata": {
        "colab": {
          "base_uri": "https://localhost:8080/"
        },
        "id": "m2KYFVx6teaM",
        "outputId": "b1cfafee-cb07-47b7-9900-76e617ff949e"
      },
      "execution_count": null,
      "outputs": [
        {
          "output_type": "stream",
          "name": "stdout",
          "text": [
            "Enter number of rows 4\n",
            "*\n",
            "**\n",
            "***\n",
            "****\n"
          ]
        }
      ]
    },
    {
      "cell_type": "markdown",
      "source": [
        "### Goal:\n",
        "\n",
        "\n",
        "```\n",
        "1\n",
        "22\n",
        "333\n",
        "4444\n",
        "\n",
        "```\n",
        "\n",
        "\n"
      ],
      "metadata": {
        "id": "8JhBgw2ycO2A"
      }
    },
    {
      "cell_type": "code",
      "source": [
        "rows = int(input('Enter rows'))\n",
        "for i in range(1, rows + 1):\n",
        "  for j in range(1, i + 1):\n",
        "    print(i, end = '')\n",
        "  print()"
      ],
      "metadata": {
        "colab": {
          "base_uri": "https://localhost:8080/"
        },
        "id": "y7yBVz4Hykia",
        "outputId": "73915f66-6eac-498d-ecd1-7cd05d0bada7"
      },
      "execution_count": null,
      "outputs": [
        {
          "output_type": "stream",
          "name": "stdout",
          "text": [
            "1\n",
            "22\n",
            "333\n",
            "4444\n"
          ]
        }
      ]
    },
    {
      "cell_type": "markdown",
      "source": [
        "### Print this pattern\n",
        "\n",
        "\n",
        "```\n",
        "make the following pattern using loops\n",
        "1\n",
        "12\n",
        "123\n",
        "1234\n",
        "123\n",
        "12\n",
        "1\n",
        "\n",
        "```\n",
        "\n"
      ],
      "metadata": {
        "id": "_OUVEaxUc9Hm"
      }
    },
    {
      "cell_type": "code",
      "source": [
        "rows = 4\n",
        "for i in range(1, rows + 1):\n",
        "  for j in range(1, i + 1):\n",
        "    print(j, end = '')\n",
        "  print()\n",
        "\n",
        "for k in range(rows - 1, 0, -1):\n",
        "  for l in range(1, k + 1):\n",
        "    print(l, end = '')\n",
        "  print()"
      ],
      "metadata": {
        "colab": {
          "base_uri": "https://localhost:8080/"
        },
        "id": "aef_bNzJ_pEC",
        "outputId": "b70c9548-dc8b-406e-e30a-f40b4a822838"
      },
      "execution_count": null,
      "outputs": [
        {
          "output_type": "stream",
          "name": "stdout",
          "text": [
            "1\n",
            "12\n",
            "123\n",
            "1234\n",
            "123\n",
            "12\n",
            "1\n"
          ]
        }
      ]
    },
    {
      "cell_type": "markdown",
      "source": [
        "### Pattern\n",
        "\n",
        "1<br>\n",
        "121<br>\n",
        "12321<br>\n",
        "1234321<br>"
      ],
      "metadata": {
        "id": "QX15GooudTz-"
      }
    },
    {
      "cell_type": "code",
      "source": [
        "rows = int(input('enter number of rows'))\n",
        "\n",
        "for i in range(1,rows+1):\n",
        "  for j in range(1,i+1):\n",
        "    print(j,end='')\n",
        "  for k in range(i-1,0,-1):\n",
        "    print(k,end='')\n",
        "\n",
        "  print()\n"
      ],
      "metadata": {
        "colab": {
          "base_uri": "https://localhost:8080/"
        },
        "id": "bD9P9Mftdd_T",
        "outputId": "6210a980-28d9-49ac-8fce-2558419721c3"
      },
      "execution_count": null,
      "outputs": [
        {
          "output_type": "stream",
          "name": "stdout",
          "text": [
            "enter number of rows4\n",
            "1\n",
            "121\n",
            "12321\n",
            "1234321\n"
          ]
        }
      ]
    },
    {
      "cell_type": "markdown",
      "source": [
        "### Next Training Round\n",
        "\n",
        "\n",
        "```\n",
        "   1\n",
        "  121\n",
        " 12321\n",
        "1234321\n",
        "\n",
        "```\n",
        "\n"
      ],
      "metadata": {
        "id": "9bAuc-RnetmY"
      }
    },
    {
      "cell_type": "code",
      "source": [
        "rows = int(input(\"Enter rows\"))\n",
        "\n",
        "for i in range(1, rows+1):\n",
        "  for j in range(rows, i, -1):\n",
        "    print(' ', end = '')\n",
        "  for k in range(1, i+1):\n",
        "    print(k, end = '')\n",
        "  for l in range(i-1, 0, -1):\n",
        "    print(l, end = '')\n",
        "  print()"
      ],
      "metadata": {
        "id": "4-t_5eOiFObE",
        "colab": {
          "base_uri": "https://localhost:8080/"
        },
        "outputId": "123c4d83-2d68-4013-b7d7-3189e27eaf12"
      },
      "execution_count": null,
      "outputs": [
        {
          "output_type": "stream",
          "name": "stdout",
          "text": [
            "Enter rows5\n",
            "    1\n",
            "   121\n",
            "  12321\n",
            " 1234321\n",
            "123454321\n"
          ]
        }
      ]
    },
    {
      "cell_type": "markdown",
      "source": [
        "### Print This Pattern\n",
        "\n",
        "\n",
        "```\n",
        "   *\n",
        "  * *\n",
        " * * *\n",
        "* * * *\n",
        " * * *\n",
        "  * *\n",
        "   *\n",
        "\n",
        "```\n",
        "\n"
      ],
      "metadata": {
        "id": "AlJuSceMfbs6"
      }
    },
    {
      "cell_type": "code",
      "source": [
        "rows = int(input('Enter rows '))\n",
        "\n",
        "for i in range(1, rows+1):\n",
        "  for j in range(rows, i, -1):\n",
        "    print(' ', end = '')\n",
        "  for k in range(1, i+1):\n",
        "    print('*', end = ' ')\n",
        "  print()\n",
        "\n",
        "for l in range(1, rows):\n",
        "  for m in range(1, l+1):\n",
        "    print(' ', end= '')\n",
        "  for n in range(rows, l, -1):\n",
        "    print('*', end=' ')\n",
        "  print()"
      ],
      "metadata": {
        "colab": {
          "base_uri": "https://localhost:8080/"
        },
        "id": "bgPD-OIZub92",
        "outputId": "a37c7d93-1051-43b9-e8c9-2f3f88e66f7c"
      },
      "execution_count": null,
      "outputs": [
        {
          "output_type": "stream",
          "name": "stdout",
          "text": [
            "Enter rows 4\n",
            "   * \n",
            "  * * \n",
            " * * * \n",
            "* * * * \n",
            " * * * \n",
            "  * * \n",
            "   * \n"
          ]
        }
      ]
    },
    {
      "cell_type": "markdown",
      "source": [
        "### Mixed Pyramid Pattern\n",
        "\n",
        "\n",
        "```\n",
        "        1\n",
        "      1 * 2\n",
        "    1 * 2 * 3\n",
        "  1 * 2 * 3 * 4\n",
        "1 * 2 * 3 * 4 * 5\n",
        "  1 * 2 * 3 * 4\n",
        "    1 * 2 * 3\n",
        "      1 * 2\n",
        "        1\n",
        "\n",
        "```\n",
        "\n"
      ],
      "metadata": {
        "id": "dgYE-1D9fu4_"
      }
    },
    {
      "cell_type": "code",
      "source": [
        "rows = 5\n",
        "\n",
        "for i in range(1, rows+1):\n",
        "  for j in range(rows, i, -1):\n",
        "    print(' ', end= ' ')\n",
        "  for k in range(1, i+1):\n",
        "    if k < i:\n",
        "      print(f'{k} * ', end= '')\n",
        "    else:\n",
        "      print(k, end='')\n",
        "  print()\n",
        "\n",
        "for l in range(rows-1, 0, -1):\n",
        "  for m in range(l, rows):\n",
        "    print(' ', end=' ')\n",
        "  for n in range(1, l+1):\n",
        "    if n < l:\n",
        "      print(f'{n} * ', end= '')\n",
        "    else:\n",
        "      print(n, end='')\n",
        "  print()"
      ],
      "metadata": {
        "colab": {
          "base_uri": "https://localhost:8080/"
        },
        "id": "MXkPt0op1Q9c",
        "outputId": "33c622a0-6e09-4eef-949d-39f16445e97d"
      },
      "execution_count": null,
      "outputs": [
        {
          "output_type": "stream",
          "name": "stdout",
          "text": [
            "        1\n",
            "      1 * 2\n",
            "    1 * 2 * 3\n",
            "  1 * 2 * 3 * 4\n",
            "1 * 2 * 3 * 4 * 5\n",
            "  1 * 2 * 3 * 4\n",
            "    1 * 2 * 3\n",
            "      1 * 2\n",
            "        1\n"
          ]
        }
      ]
    },
    {
      "cell_type": "markdown",
      "source": [
        "# Loop Control Statement\n",
        "\n",
        "- Break\n",
        "- Continue\n",
        "- Pass"
      ],
      "metadata": {
        "id": "PpIkIhfZDMy5"
      }
    },
    {
      "cell_type": "code",
      "source": [
        "# Break: it stops the whole loop\n",
        "# break statement mostly used in searching of something, like we have 10k people's dataset,\n",
        "# and we want to find a particular persons data if we find that persons data we will not lookinto the whole database we will stop searching when we wil get desired result.\n"
      ],
      "metadata": {
        "id": "5mcAjvipDZaN"
      },
      "execution_count": null,
      "outputs": []
    },
    {
      "cell_type": "code",
      "source": [
        "# Break example\n",
        "\n",
        "for i in range(1, 10+1):\n",
        "  if i == 5:\n",
        "    break\n",
        "  print(i)"
      ],
      "metadata": {
        "colab": {
          "base_uri": "https://localhost:8080/"
        },
        "id": "fyd7z1XsEGz0",
        "outputId": "87c6f0d7-74ed-4ce3-e09c-c82859cac4d2"
      },
      "execution_count": null,
      "outputs": [
        {
          "output_type": "stream",
          "name": "stdout",
          "text": [
            "1\n",
            "2\n",
            "3\n",
            "4\n"
          ]
        }
      ]
    },
    {
      "cell_type": "code",
      "source": [
        "# finding prime numbers in a given range\n",
        "\n",
        "lower = int(input(\"Enter lower range \"))\n",
        "upper = int(input(\"Enter upper range \"))\n",
        "\n",
        "for i in range(lower,upper+1):\n",
        "  for j in range(2, i):\n",
        "    if i%j == 0:\n",
        "      break\n",
        "  else:\n",
        "    print(i)\n"
      ],
      "metadata": {
        "colab": {
          "base_uri": "https://localhost:8080/"
        },
        "id": "cBifJNtgEUr9",
        "outputId": "03e20d18-a545-41f0-80f8-dafd84c3b1d3"
      },
      "execution_count": null,
      "outputs": [
        {
          "output_type": "stream",
          "name": "stdout",
          "text": [
            "Enter lower range 10\n",
            "Enter upper range 50\n",
            "11\n",
            "13\n",
            "17\n",
            "19\n",
            "23\n",
            "29\n",
            "31\n",
            "37\n",
            "41\n",
            "43\n",
            "47\n"
          ]
        }
      ]
    },
    {
      "cell_type": "code",
      "source": [
        "# continue: it skips the particuar iteration and then contunue the loop\n",
        "# Example: on e-commerce site, skipping the out of stock products in the listing of products\n"
      ],
      "metadata": {
        "id": "lGG6Z9KdF05S"
      },
      "execution_count": null,
      "outputs": []
    },
    {
      "cell_type": "code",
      "source": [
        "# continue example:\n",
        "for i in range(1,10):\n",
        "  if i == 5:\n",
        "    pass\n",
        "  else:\n",
        "    print(i)"
      ],
      "metadata": {
        "colab": {
          "base_uri": "https://localhost:8080/"
        },
        "id": "t2bncEBhKlsf",
        "outputId": "d0319c71-db7c-4e7e-f6f9-98d8084d9290"
      },
      "execution_count": null,
      "outputs": [
        {
          "output_type": "stream",
          "name": "stdout",
          "text": [
            "1\n",
            "2\n",
            "3\n",
            "4\n",
            "6\n",
            "7\n",
            "8\n",
            "9\n"
          ]
        }
      ]
    },
    {
      "cell_type": "code",
      "source": [
        "# pass\n",
        "# we use pass statement when we don't want to write any piece of code\n",
        "# and don't want interpreter to through any error\n",
        "\n",
        "for i in range(1,10):\n",
        "  pass"
      ],
      "metadata": {
        "id": "73bCK6W6LwP1"
      },
      "execution_count": null,
      "outputs": []
    }
  ]
}