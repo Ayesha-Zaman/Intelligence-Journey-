{
  "nbformat": 4,
  "nbformat_minor": 0,
  "metadata": {
    "colab": {
      "provenance": [],
      "authorship_tag": "ABX9TyPWtqvdE6I8xAAk4tT1rkJb",
      "include_colab_link": true
    },
    "kernelspec": {
      "name": "python3",
      "display_name": "Python 3"
    },
    "language_info": {
      "name": "python"
    }
  },
  "cells": [
    {
      "cell_type": "markdown",
      "metadata": {
        "id": "view-in-github",
        "colab_type": "text"
      },
      "source": [
        "<a href=\"https://colab.research.google.com/github/Ayesha-Zaman/Intelligence-Journey-/blob/main/01_Basics_of_Python_Programming/Operators_If-else_Loops/Task_2_operators%2C_if_else%2C_loops.ipynb\" target=\"_parent\"><img src=\"https://colab.research.google.com/assets/colab-badge.svg\" alt=\"Open In Colab\"/></a>"
      ]
    },
    {
      "cell_type": "markdown",
      "source": [
        "# 1: Write a program that will give you in hand monthly salary after deduction on CTC - HRA(10%), DA(5%), PF(3%) and taxes deduction as below:\n",
        "\n",
        "    Salary(Lakhs) : Tax(%)\n",
        "\n",
        "    Below 5 : 0%\n",
        "    5-10 : 10%\n",
        "    10-20 : 20%\n",
        "    aboove 20 : 30%\n"
      ],
      "metadata": {
        "id": "wz_OTm2AwZAr"
      }
    },
    {
      "cell_type": "code",
      "source": [
        "# Enter salary\n",
        "CTC = int(input('Enter CTC '))\n",
        "\n",
        "# salary after income tax deduction\n",
        "\n",
        "# 0% tax reduction\n",
        "if CTC < 500000:\n",
        "  tax_deducted_salary = CTC - CTC * 0\n",
        "# 10% tax reduction\n",
        "elif CTC >= 500000 and CTC < 1000000:\n",
        "  tax_deducted_salary = CTC - CTC * 0.10\n",
        "# 20% tax reduction\n",
        "elif CTC >= 1000000 and CTC <= 2000000:\n",
        "  tax_deducted_salary = CTC - CTC * 0.20\n",
        "# 30% tax deduction\n",
        "else:\n",
        "  tax_deducted_salary = CTC - CTC * 0.30\n",
        "\n",
        "# CTC-HRA(10%), DA(5%), PF(3%) -->Income_tax = 18%\n",
        "net_salary = tax_deducted_salary - tax_deducted_salary * 0.18\n",
        "in_hand_salary = net_salary / 12\n",
        "# in hand monthly salary\n",
        "print('In hand monthly salary after deduction of all taxes:', round(in_hand_salary, 2))"
      ],
      "metadata": {
        "id": "ff-_b6UWwsdA",
        "colab": {
          "base_uri": "https://localhost:8080/"
        },
        "outputId": "df4730e5-2c8f-4d15-8a83-4e83e4324a26"
      },
      "execution_count": null,
      "outputs": [
        {
          "output_type": "stream",
          "name": "stdout",
          "text": [
            "Enter CTC 1200000\n",
            "In hand monthly salary after deduction of all taxes: 65600.0\n"
          ]
        }
      ]
    },
    {
      "cell_type": "markdown",
      "source": [
        "# Problem 2: Write a program that take a user input of three angles and will find out whether it can form a triangle or not."
      ],
      "metadata": {
        "id": "zP9QCxefiK3q"
      }
    },
    {
      "cell_type": "code",
      "source": [
        "# a triangle could be formed if each angle is greater than 0\n",
        "# and sum of all the angles is 180\n",
        "\n",
        "# take three angles input from user\n",
        "\n",
        "A = int(input('Enter angle A '))\n",
        "B = int(input('Enter angle B '))\n",
        "C = int(input('Enter angle C '))\n",
        "\n",
        "sum_of_angles = A + B + C\n",
        "# print('sum of angle A + B + C is: ', sum_of_angles)\n",
        "if sum_of_angles == 180:\n",
        "  if A > 0 and B > 0 and C > 0:\n",
        "    print(\"It's a triangle.\")\n",
        "  else:\n",
        "    print(\"it's not a triangle\")\n",
        "else:\n",
        "  print(\"it's not a triangle\")"
      ],
      "metadata": {
        "id": "eQd8Wvxl0ahh",
        "colab": {
          "base_uri": "https://localhost:8080/"
        },
        "outputId": "3eb4186b-8108-4b92-9905-68b320f539db"
      },
      "execution_count": null,
      "outputs": [
        {
          "output_type": "stream",
          "name": "stdout",
          "text": [
            "Enter angle A 93\n",
            "Enter angle B 90\n",
            "Enter angle C -3\n",
            "it's not a triangle\n"
          ]
        }
      ]
    },
    {
      "cell_type": "markdown",
      "source": [
        "# Problem 3: Write a program that will take user input of cost price and selling price and determines whether its a loss or a profit."
      ],
      "metadata": {
        "id": "uoiih8CDo5_E"
      }
    },
    {
      "cell_type": "code",
      "source": [
        "# take two inputs from user, selling price = SP and cost price = CP\n",
        "\n",
        "CP = int(input('Enter Cost price '))\n",
        "SP = int(input('Enter selling price '))\n",
        "\n",
        "# if selling price is greater calculate profit\n",
        "# and if cost price is greater than selling price then calculate loss\n",
        "# if selling and cost prices are equal than it's neither loss nor profit\n",
        "\n",
        "if SP > CP:\n",
        "  profit = SP - CP\n",
        "  print(f'You got {profit}$ profit')\n",
        "elif CP > SP:\n",
        "  loss = CP - SP\n",
        "  print(f'You got {loss}$ loss')\n",
        "else:\n",
        "  print(\"It's neither profit nor loss\")"
      ],
      "metadata": {
        "colab": {
          "base_uri": "https://localhost:8080/"
        },
        "id": "Z3cJZPs9kHYd",
        "outputId": "496a0d29-94a2-41f5-bd94-e1c9c5d4ce16"
      },
      "execution_count": null,
      "outputs": [
        {
          "output_type": "stream",
          "name": "stdout",
          "text": [
            "Enter Cost price 67\n",
            "Enter selling price 67\n",
            "It's neither profit nor loss\n"
          ]
        }
      ]
    },
    {
      "cell_type": "markdown",
      "source": [
        "# Problem 4: Write a menu-driven program -\n",
        "\n",
        "    1. cm to ft\n",
        "    2. km to miles\n",
        "    3. USD to INR\n",
        "    4. exit\n"
      ],
      "metadata": {
        "id": "TXvCk8MvsI19"
      }
    },
    {
      "cell_type": "code",
      "source": [
        "# take input from user about options\n",
        "print('''\n",
        "Following are different options for conversions:\n",
        "1. cm to ft\n",
        "2. km to miles\n",
        "3. USD to INR\n",
        "4. exit\n",
        "''')\n",
        "# enter an option or value for the conversion of different scales\n",
        "\n",
        "\n",
        "op = int(input('Select the option '))\n",
        "#apply different conditions for menu\n",
        "while op != 4:\n",
        "  a = int(input('Enter the value for conversion '))\n",
        "  if op == 1:\n",
        "    ft = float(a / 30.48)\n",
        "    print(f'{a} cm after conversion is {ft} ft')\n",
        "  elif op == 2:\n",
        "    Miles = float(a * 0.621371)\n",
        "    print(f'{a} km after conversion is {Miles}  Miles')\n",
        "  elif op == 3:\n",
        "    INR = float(a * 85)\n",
        "    print(f'{a} USD after conversion is {INR} INR')\n",
        "  else:\n",
        "    print(\"Invalid option. Please select a valid choice.\")\n",
        "    print('\\n')\n",
        "  op = int(input('Select the option '))\n",
        "\n",
        "print(\"Exiting the program. Goodbye!\")\n"
      ],
      "metadata": {
        "colab": {
          "base_uri": "https://localhost:8080/"
        },
        "id": "hq255Ju7r0MD",
        "outputId": "7fcbab38-4134-4b27-99a1-9d95fadab0e3"
      },
      "execution_count": null,
      "outputs": [
        {
          "output_type": "stream",
          "name": "stdout",
          "text": [
            "\n",
            "Following are different options for conversions:\n",
            "1. cm to ft\n",
            "2. km to miles\n",
            "3. USD to INR\n",
            "4. exit\n",
            "\n",
            "Select the option 7\n",
            "Enter the value for conversion 78\n",
            "Invalid option. Please select a valid choice.\n",
            "\n",
            "\n",
            "Select the option 4\n",
            "Exiting the program. Goodbye!\n"
          ]
        }
      ]
    },
    {
      "cell_type": "markdown",
      "source": [
        "# Problem 5 - Exercise 12: Display Fibonacci series up to 10 terms.\n",
        "\n",
        "Note: The Fibonacci Sequence is a series of numbers. The next number is found by adding up the two numbers before it. The first two numbers are 0 and 1. For example, 0, 1, 1, 2, 3, 5, 8, 13, 21. The next number in this series above is 13+21 = 34"
      ],
      "metadata": {
        "id": "Kz4WXV8NsVFi"
      }
    },
    {
      "cell_type": "code",
      "source": [
        "# first two given terms\n",
        "a = 0\n",
        "b = 1\n",
        "# list to store values of sequence\n",
        "FB_series = [a, b]\n",
        "\n",
        "# loop to calculate sequence upto 10 terms, value is 8 bcz fist two terms already given\n",
        "for i in range(10):\n",
        "  next = a + b\n",
        "  FB_series.append(c)\n",
        "\n",
        "  # swapping values in order to get previous two terms\n",
        "  a = b\n",
        "  b = next\n",
        "print('Fibonacci Sequence after 10 terms:',FB_series)"
      ],
      "metadata": {
        "id": "_9BoDqFE1XxB",
        "colab": {
          "base_uri": "https://localhost:8080/"
        },
        "outputId": "831d0814-dda9-4308-a660-4ce91a7bcacf"
      },
      "execution_count": null,
      "outputs": [
        {
          "output_type": "stream",
          "name": "stdout",
          "text": [
            "Fibonacci Sequence after 10 terms: [0, 1, 89, 89, 89, 89, 89, 89, 89, 89, 89, 89]\n"
          ]
        }
      ]
    },
    {
      "cell_type": "markdown",
      "source": [
        "# Problem 6 - Find the factorial of a given number.\n",
        "\n",
        "Write a program to use the loop to find the factorial of a given number.\n",
        "\n",
        "The factorial (symbol: !) means to multiply all whole numbers from the chosen number down to 1.\n",
        "\n",
        "For example: calculate the factorial of 5\n",
        "\n",
        "5! = 5 × 4 × 3 × 2 × 1 = 120\n",
        "\n",
        "Output:\n",
        "\n",
        "120"
      ],
      "metadata": {
        "id": "s5yO169J7Pxw"
      }
    },
    {
      "cell_type": "code",
      "source": [
        "# take input number to find factorial\n",
        "num = int(input('Enter number for factorial: '))\n",
        "# loop to get numbers until factorial number\n",
        "fact = 1\n",
        "for i in range(num, 0, -1):\n",
        "  # calculating the factorial\n",
        "  fact = fact * i\n",
        "# output\n",
        "print(f'{num}! = {fact}')"
      ],
      "metadata": {
        "colab": {
          "base_uri": "https://localhost:8080/"
        },
        "id": "YuIPsps-2eIb",
        "outputId": "f14beb3e-debe-4b61-9d7b-669fda8d5c52"
      },
      "execution_count": null,
      "outputs": [
        {
          "output_type": "stream",
          "name": "stdout",
          "text": [
            "Enter number for factorial: 7\n",
            "7! = 5040\n"
          ]
        }
      ]
    },
    {
      "cell_type": "markdown",
      "source": [
        "# Problem 7 - Reverse a given integer number.\n",
        "\n",
        "Example:\n",
        "\n",
        "Input:\n",
        "\n",
        "76542\n",
        "\n",
        "Output:\n",
        "\n",
        "24567"
      ],
      "metadata": {
        "id": "XqoytWbx_y1i"
      }
    },
    {
      "cell_type": "code",
      "source": [
        "# take input integer n.\n",
        "n = int(input('Enter an integer: '))\n",
        "rev_numb = 0\n",
        "\n",
        "while n != 0:\n",
        "# applying % to fetch last number     --> 76542   -->2\n",
        "  last = n % 10\n",
        "  rev_numb = rev_numb * 10 + last\n",
        "  # applying // to reduce number        -->76542    -->7654\n",
        "  n = int(n // 10)\n",
        "\n",
        "print('Reverse numbers: ', rev_numb)"
      ],
      "metadata": {
        "colab": {
          "base_uri": "https://localhost:8080/"
        },
        "id": "dfebLvx5_0_A",
        "outputId": "97270f42-c124-4fd4-e7d4-40e442709767"
      },
      "execution_count": null,
      "outputs": [
        {
          "output_type": "stream",
          "name": "stdout",
          "text": [
            "Enter an integer: 12345\n",
            "Reverse numbers:  54321\n"
          ]
        }
      ]
    },
    {
      "cell_type": "code",
      "source": [],
      "metadata": {
        "id": "KnYbAe8dUcr3"
      },
      "execution_count": null,
      "outputs": []
    },
    {
      "cell_type": "markdown",
      "source": [
        "# Problem 8: Take a user input as integer N. Find out the sum from 1 to N. If any number if divisible by 5, then skip that number. And if the sum is greater than 300, don't need to calculate the sum further more. Print the final result. And don't use for loop to solve this problem.\n",
        "\n",
        "Example 1:\n",
        "\n",
        "Input:\n",
        "\n",
        "30\n",
        "\n",
        "Output:\n",
        "\n",
        "276"
      ],
      "metadata": {
        "id": "3vv85sbiWsWm"
      }
    },
    {
      "cell_type": "code",
      "source": [
        "# take input integer N\n",
        "n = int(input('Enter an integer: '))\n",
        "sum = 0\n",
        "i = 1\n",
        "while i <= n:\n",
        "\n",
        "  if i % 5 !=0:\n",
        "    sum = sum + i\n",
        "    if sum > 300:\n",
        "      sum = sum - i\n",
        "      exit()\n",
        "  else:\n",
        "    sum = sum + 0\n",
        "  i = i + 1\n",
        "print('sum after meeting all conditions: ',sum)\n"
      ],
      "metadata": {
        "id": "qvshBSKjWwfG",
        "colab": {
          "base_uri": "https://localhost:8080/"
        },
        "outputId": "011c1c88-a3a8-4141-b16f-de7af7ddacd4"
      },
      "execution_count": null,
      "outputs": [
        {
          "output_type": "stream",
          "name": "stdout",
          "text": [
            "Enter an integer: 56\n",
            "sum after meeting all conditions:  276\n"
          ]
        }
      ]
    },
    {
      "cell_type": "markdown",
      "source": [
        "\n",
        "\n",
        "\n",
        "# Problem 9: Write a program that keeps on accepting a number from the user until the user enters Zero. Display the sum and average of all the numbers."
      ],
      "metadata": {
        "id": "dINbRGpADLkl"
      }
    },
    {
      "cell_type": "code",
      "source": [
        "# input from user\n",
        "n = int(input('Enter a number: '))\n",
        "sum = 0\n",
        "counter = 1\n",
        "while n != 0:\n",
        "  sum = sum + n\n",
        "  n = int(input('Enter a number: '))\n",
        "  counter = counter + 1\n",
        "else:\n",
        "  avg = sum / counter\n",
        "  print(f'Sum is: {sum} \\nAverage is: {avg}')"
      ],
      "metadata": {
        "colab": {
          "base_uri": "https://localhost:8080/"
        },
        "id": "qD3gMNify42W",
        "outputId": "5ffa3e5e-59a2-466d-baff-4704ee7bf26d"
      },
      "execution_count": null,
      "outputs": [
        {
          "output_type": "stream",
          "name": "stdout",
          "text": [
            "Enter a number: 3\n",
            "Enter a number: 2\n",
            "Enter a number: 5\n",
            "Enter a number: 7\n",
            "Enter a number: 9\n",
            "Enter a number: 0\n",
            "Sum is: 26 \n",
            "Average is: 4.333333333333333\n"
          ]
        }
      ]
    },
    {
      "cell_type": "markdown",
      "source": [
        "# Problem 9: Write a program which will find all such numbers which are divisible by 7 but are not a multiple of 5, between 2000 and 3200 (both included). The numbers obtained should be printed in a comma-separated sequence on a single line.\n"
      ],
      "metadata": {
        "id": "NVzma29FIc9Y"
      }
    },
    {
      "cell_type": "code",
      "source": [
        "res = []\n",
        "for n in range(2000, 3200+1):\n",
        "  if n % 7 == 0 and n % 5 != 0:\n",
        "    res.append(str(n))\n",
        "  else:\n",
        "    continue\n",
        "print(','.join(res))"
      ],
      "metadata": {
        "colab": {
          "base_uri": "https://localhost:8080/"
        },
        "id": "MtJAMs75DNDn",
        "outputId": "a5212ce1-c43e-4b85-99e8-8a4e2dcddc66"
      },
      "execution_count": null,
      "outputs": [
        {
          "output_type": "stream",
          "name": "stdout",
          "text": [
            "2002,2009,2016,2023,2037,2044,2051,2058,2072,2079,2086,2093,2107,2114,2121,2128,2142,2149,2156,2163,2177,2184,2191,2198,2212,2219,2226,2233,2247,2254,2261,2268,2282,2289,2296,2303,2317,2324,2331,2338,2352,2359,2366,2373,2387,2394,2401,2408,2422,2429,2436,2443,2457,2464,2471,2478,2492,2499,2506,2513,2527,2534,2541,2548,2562,2569,2576,2583,2597,2604,2611,2618,2632,2639,2646,2653,2667,2674,2681,2688,2702,2709,2716,2723,2737,2744,2751,2758,2772,2779,2786,2793,2807,2814,2821,2828,2842,2849,2856,2863,2877,2884,2891,2898,2912,2919,2926,2933,2947,2954,2961,2968,2982,2989,2996,3003,3017,3024,3031,3038,3052,3059,3066,3073,3087,3094,3101,3108,3122,3129,3136,3143,3157,3164,3171,3178,3192,3199\n"
          ]
        }
      ]
    },
    {
      "cell_type": "markdown",
      "source": [
        "# Problem 10: Write a program, which will find all such numbers between 1000 and 3000 (both included) such that each digit of the number is an even number. The numbers obtained should be printed in a space-separated sequence on a single line."
      ],
      "metadata": {
        "id": "vJjspSOzhJi_"
      }
    },
    {
      "cell_type": "code",
      "source": [
        "res = []\n",
        "for n in range(1000, 3000+1):\n",
        "  n_str = str(n)\n",
        "  is_even = True\n",
        "\n",
        "  for digit in n_str:\n",
        "    if int(digit) % 2 != 0:\n",
        "      is_even = False\n",
        "      break\n",
        "  if is_even:\n",
        "    res.append(str(n))\n",
        "print(','.join(res))\n",
        "\n"
      ],
      "metadata": {
        "id": "TF6YH9cxIgKh",
        "colab": {
          "base_uri": "https://localhost:8080/"
        },
        "outputId": "2b9ce723-f27f-4512-e34d-57eafb81d146"
      },
      "execution_count": null,
      "outputs": [
        {
          "output_type": "stream",
          "name": "stdout",
          "text": [
            "2000,2002,2004,2006,2008,2020,2022,2024,2026,2028,2040,2042,2044,2046,2048,2060,2062,2064,2066,2068,2080,2082,2084,2086,2088,2200,2202,2204,2206,2208,2220,2222,2224,2226,2228,2240,2242,2244,2246,2248,2260,2262,2264,2266,2268,2280,2282,2284,2286,2288,2400,2402,2404,2406,2408,2420,2422,2424,2426,2428,2440,2442,2444,2446,2448,2460,2462,2464,2466,2468,2480,2482,2484,2486,2488,2600,2602,2604,2606,2608,2620,2622,2624,2626,2628,2640,2642,2644,2646,2648,2660,2662,2664,2666,2668,2680,2682,2684,2686,2688,2800,2802,2804,2806,2808,2820,2822,2824,2826,2828,2840,2842,2844,2846,2848,2860,2862,2864,2866,2868,2880,2882,2884,2886,2888\n"
          ]
        }
      ]
    },
    {
      "cell_type": "markdown",
      "source": [
        "# Problem 11: A robot moves in a plane starting from the original point (0,0). The robot can move toward UP, DOWN, LEFT and RIGHT with a given steps.\n",
        "\n",
        "The trace of robot movement is shown as the following:\n",
        "\n",
        "UP 5\n",
        "\n",
        "DOWN 3\n",
        "\n",
        "LEFT 3\n",
        "\n",
        "RIGHT 2\n",
        "\n",
        "!\n",
        "\n",
        "    The numbers after the direction are steps.\n",
        "\n",
        "    ! means robot stop there.\n",
        "\n",
        "Please write a program to compute the distance from current position after a sequence of movement and original point.\n",
        "\n",
        "If the distance is a float, then just print the nearest integer.\n",
        "\n",
        "Example:\n",
        "\n",
        "Input:\n",
        "\n",
        "UP 5\n",
        "DOWN 3\n",
        "LEFT 3\n",
        "RIGHT 2\n",
        "!\n",
        "\n",
        "Output:\n",
        "\n",
        "2"
      ],
      "metadata": {
        "id": "qriepY-B3iQE"
      }
    },
    {
      "cell_type": "code",
      "source": [
        "pos = [0, 0]\n",
        "\n",
        "while True:\n",
        "  s = input('Enter the robot path: ')\n",
        "  if s == '!':\n",
        "    break\n",
        "\n",
        "  direction = s.split()[0]\n",
        "  steps = int(s.split()[1])\n",
        "\n",
        "  if direction == 'UP':\n",
        "    pos[1] = pos[1] + steps\n",
        "  elif direction == 'DOWN':\n",
        "    pos[1] = pos[1] - steps\n",
        "  elif direction == 'LEFT':\n",
        "    pos[0] = pos[0] - steps\n",
        "  elif direction == 'RIGHT':\n",
        "    pos[0] = pos[0] + steps\n",
        "  else:\n",
        "    pass\n",
        "\n",
        "print((pos[0]**2 + pos[1]**2)**(1/2))"
      ],
      "metadata": {
        "colab": {
          "base_uri": "https://localhost:8080/"
        },
        "id": "469xfoaIhLyC",
        "outputId": "c3a04641-1cbd-4b54-a8f7-37311ff52d23"
      },
      "execution_count": null,
      "outputs": [
        {
          "output_type": "stream",
          "name": "stdout",
          "text": [
            "Enter the robot path: UP 3\n",
            "Enter the robot path: DOWN 2\n",
            "Enter the robot path: LEFT 5\n",
            "Enter the robot path: RIGHT 2\n",
            "Enter the robot path: !\n",
            "3.1622776601683795\n"
          ]
        }
      ]
    },
    {
      "cell_type": "markdown",
      "source": [
        "# Problem 12:Write a program to print whether a given number is a prime number or not"
      ],
      "metadata": {
        "id": "Velvx-lJFU3g"
      }
    },
    {
      "cell_type": "code",
      "source": [
        "num = int(input(\"Please enter a number:\"))\n",
        "if num <= 1:\n",
        "  print(\"It's not a prime number\")\n",
        "else:\n",
        "  for i in range(2, num):\n",
        "    if num % i == 0:\n",
        "      print(\"It's not a prime number.\")\n",
        "    else:\n",
        "      print(\"It's a prime number\")"
      ],
      "metadata": {
        "colab": {
          "base_uri": "https://localhost:8080/"
        },
        "id": "YgXTf5WYpSNu",
        "outputId": "27ef203f-8ae2-4b56-fe94-6cf2164fb60c"
      },
      "execution_count": null,
      "outputs": [
        {
          "output_type": "stream",
          "name": "stdout",
          "text": [
            "Please enter a number:3\n",
            "It's a prime number\n"
          ]
        }
      ]
    },
    {
      "cell_type": "markdown",
      "source": [
        "# Problem 13:Print all the Armstrong numbers in a given range.\n",
        "\n",
        "Range will be provided by the user\n",
        "\n",
        "Armstrong number is a number that is equal to the sum of cubes of its digits. For example 0, 1, 153, 370, 371 and 407 are the Armstrong numbers."
      ],
      "metadata": {
        "id": "Cd0LvhamFQ7k"
      }
    },
    {
      "cell_type": "code",
      "source": [
        "# take input range from user    --> range(0, 300) both are inclusive\n",
        "SP = int(input('Enter starting point of range: '))\n",
        "EP = int(input('Enter ending point of range: '))\n",
        "\n",
        "lst = []\n",
        "for i in range(SP, EP+1):\n",
        "  temp_str = str(i)\n",
        "  sum = 0\n",
        "  for num in temp_str:\n",
        "    num = int(num)\n",
        "    sum = sum + num**3\n",
        "  if sum == i:\n",
        "      lst.append(i)\n",
        "  else:\n",
        "      continue\n",
        "print(f\"Armstrong numbers in range({SP}, {EP}) are: {lst}\")\n"
      ],
      "metadata": {
        "colab": {
          "base_uri": "https://localhost:8080/"
        },
        "id": "swTiW9TYFTA3",
        "outputId": "c3febc48-1043-4209-bf11-dcf26a07e72e"
      },
      "execution_count": null,
      "outputs": [
        {
          "output_type": "stream",
          "name": "stdout",
          "text": [
            "Enter starting point of range: 0\n",
            "Enter ending point of range: 3000\n",
            "Armstrong numbers in range(0, 3000) are: [0, 1, 153, 370, 371, 407]\n"
          ]
        }
      ]
    },
    {
      "cell_type": "markdown",
      "source": [
        "# Problem 14:Calculate the angle between the hour hand and minute hand.\n",
        "\n",
        "Note: There can be two angles between hands; we need to print a minimum of two. Also, we need to print the floor of the final result angle. For example, if the final angle is 10.61, we need to print 10.\n",
        "\n",
        "Input:\n",
        "H = 9 , M = 0\n",
        "Output:\n",
        "90\n",
        "Explanation:\n",
        "The minimum angle between hour and minute hand when the time is 9 is 90 degress."
      ],
      "metadata": {
        "id": "zadt3ms-ZhOf"
      }
    },
    {
      "cell_type": "code",
      "source": [
        "# minute hand moves 6 degree per minute     -->360 / 60 = 6\n",
        "# hour hand moves at 30 degree per hour     -->360 / 12 = 30\n",
        "    # but it also moves when a minute pass   --> extra movement = 0.5 per minute\n",
        "    # so total movement oh hour hand = 30 x H + 0.5 x M\n",
        "H = int(input(\"Enter hour's: \"))\n",
        "M = int(input(\"Enter minutes: \"))\n",
        "\n",
        "# Minute hand\n",
        "MH = 6 * M\n",
        "HH = 30 * H + 0.5 * M\n",
        "\n",
        "# angle between hour hand and minute hand\n",
        "# avoiding negative value\n",
        "if HH > MH:\n",
        "  angle = HH - MH\n",
        "else:\n",
        "  angle = MH - HH\n",
        "\n",
        "# finding smaller angle\n",
        "S_angle = 360 - angle\n",
        "\n",
        "if S_angle < angle:\n",
        "  print(\"Smaller angle is: \", int(S_angle))\n",
        "else:\n",
        "  print(\"Smaller angle is: \", int(angle))"
      ],
      "metadata": {
        "id": "emQ8DfFMIHX-",
        "colab": {
          "base_uri": "https://localhost:8080/"
        },
        "outputId": "fd4772b0-db65-493b-9def-b645961ce980"
      },
      "execution_count": null,
      "outputs": [
        {
          "output_type": "stream",
          "name": "stdout",
          "text": [
            "Enter hour's: 7\n",
            "Enter minutes: 27\n",
            "Smaller angle is:  61\n"
          ]
        }
      ]
    },
    {
      "cell_type": "code",
      "source": [],
      "metadata": {
        "id": "CkA1R7yCZkU7"
      },
      "execution_count": null,
      "outputs": []
    }
  ]
}