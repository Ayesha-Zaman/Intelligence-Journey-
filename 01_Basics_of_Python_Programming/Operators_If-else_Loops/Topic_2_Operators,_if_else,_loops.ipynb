{
  "nbformat": 4,
  "nbformat_minor": 0,
  "metadata": {
    "colab": {
      "provenance": [],
      "authorship_tag": "ABX9TyM/klgYlPDYnZIfiWyemY/X",
      "include_colab_link": true
    },
    "kernelspec": {
      "name": "python3",
      "display_name": "Python 3"
    },
    "language_info": {
      "name": "python"
    }
  },
  "cells": [
    {
      "cell_type": "markdown",
      "metadata": {
        "id": "view-in-github",
        "colab_type": "text"
      },
      "source": [
        "<a href=\"https://colab.research.google.com/github/Ayesha-Zaman/Intelligence-Journey-/blob/main/01_Basics_of_Python_Programming/Operators_If-else_Loops/Topic_2_Operators%2C_if_else%2C_loops.ipynb\" target=\"_parent\"><img src=\"https://colab.research.google.com/assets/colab-badge.svg\" alt=\"Open In Colab\"/></a>"
      ]
    },
    {
      "cell_type": "markdown",
      "source": [
        "#Operators in Python\n",
        "\n",
        "    Arithmetic Operators\n",
        "    Relational Operators\n",
        "    Logical Operators\n",
        "    Bitwise Operators\n",
        "    Assignment Operators\n",
        "    Membership Operators\n"
      ],
      "metadata": {
        "id": "X9nyE33HnOfY"
      }
    },
    {
      "cell_type": "code",
      "execution_count": null,
      "metadata": {
        "colab": {
          "base_uri": "https://localhost:8080/"
        },
        "id": "wEuYuhm_mP8Y",
        "outputId": "49f857db-5718-469a-8562-8adb4569071f"
      },
      "outputs": [
        {
          "output_type": "stream",
          "name": "stdout",
          "text": [
            "9\n",
            "1\n",
            "20\n",
            "1.25\n",
            "1\n",
            "1\n",
            "625\n"
          ]
        }
      ],
      "source": [
        "# Arithmatic Operators\n",
        "print(5+4)\n",
        "\n",
        "print(5-4)\n",
        "\n",
        "print(5*4)\n",
        "\n",
        "print(5/4)\n",
        "\n",
        "print(5 //4)    # Integer division, it converts the decimal quotient into integer quotient\n",
        "\n",
        "print(5%4)      # modulus operator, tell us remainder\n",
        "\n",
        "print(5**4)     # power of operator"
      ]
    },
    {
      "cell_type": "code",
      "source": [
        "# Relational operators\n",
        "\n",
        "print(5 > 4)\n",
        "\n",
        "print(5 < 4)\n",
        "\n",
        "print(5 >= 5)\n",
        "\n",
        "print(5 <= 5)\n",
        "\n",
        "print(5 == 5)\n",
        "\n",
        "print(5 != 5)"
      ],
      "metadata": {
        "colab": {
          "base_uri": "https://localhost:8080/"
        },
        "id": "5jOzTBHlnTBk",
        "outputId": "8bc9d965-a557-46c0-8983-23d165a5f815"
      },
      "execution_count": null,
      "outputs": [
        {
          "output_type": "stream",
          "name": "stdout",
          "text": [
            "True\n",
            "False\n",
            "True\n",
            "True\n",
            "True\n",
            "False\n"
          ]
        }
      ]
    },
    {
      "cell_type": "code",
      "source": [
        "# Logical operators\n",
        "\n",
        "print( 1 and 0)\n",
        "\n",
        "print(1 and 1)\n",
        "\n",
        "print(1 or 0 )\n",
        "\n",
        "print( not 1)"
      ],
      "metadata": {
        "colab": {
          "base_uri": "https://localhost:8080/"
        },
        "id": "AnywOG7Tr4gQ",
        "outputId": "35f19e2e-a62d-4d06-82ed-7da14a9f69a9"
      },
      "execution_count": null,
      "outputs": [
        {
          "output_type": "stream",
          "name": "stdout",
          "text": [
            "0\n",
            "1\n",
            "1\n",
            "False\n"
          ]
        }
      ]
    },
    {
      "cell_type": "code",
      "source": [
        "# Bitwise operators.          Used in project making of computer vision\n",
        "\n",
        "# Bitwise and\n",
        "print( 2 & 3)\n",
        "\n",
        "# Bitwise or operator\n",
        "print(2 | 3)\n",
        "\n",
        "# Bitwise not operator\n",
        "print(~ 5)\n",
        "\n",
        "# left shift\n",
        "print(6 >> 2)\n",
        "\n",
        "#right shift\n",
        "print(6 << 2)"
      ],
      "metadata": {
        "id": "coXFdfEjtCZe",
        "colab": {
          "base_uri": "https://localhost:8080/"
        },
        "outputId": "23247e41-0a25-4035-954b-aa987442e455"
      },
      "execution_count": null,
      "outputs": [
        {
          "output_type": "stream",
          "name": "stdout",
          "text": [
            "2\n",
            "3\n",
            "-6\n",
            "1\n",
            "24\n"
          ]
        }
      ]
    },
    {
      "cell_type": "code",
      "source": [
        "# Assignment operators\n",
        "\n",
        "a = 2\n",
        "print(a)\n",
        "\n",
        "# we can use assignment operator with multiple operators\n",
        "\n",
        "# a = a + 2\n",
        "a += 2\n",
        "print(a)\n",
        "\n",
        "# a = a % 2\n",
        "a %= 2\n",
        "print(a)"
      ],
      "metadata": {
        "colab": {
          "base_uri": "https://localhost:8080/"
        },
        "id": "ivCh5em0KWHQ",
        "outputId": "d2652925-829e-49b7-9667-5a07caecc758"
      },
      "execution_count": null,
      "outputs": [
        {
          "output_type": "stream",
          "name": "stdout",
          "text": [
            "2\n",
            "4\n",
            "0\n"
          ]
        }
      ]
    },
    {
      "cell_type": "code",
      "source": [
        "# Membership operators\n",
        "# in / not in\n",
        "\n",
        "print('P' in 'Pakistan')\n",
        "\n",
        "print(1 in [2,3,5,4])\n",
        "\n",
        "\n",
        "print('P' not in 'Pakistan')\n",
        "\n",
        "print(1 not in [2,3,5,4])\n",
        "\n"
      ],
      "metadata": {
        "colab": {
          "base_uri": "https://localhost:8080/"
        },
        "id": "aAA0nzSxL38J",
        "outputId": "a6977ccf-8cc8-47bf-8d3d-d0369256ad8a"
      },
      "execution_count": null,
      "outputs": [
        {
          "output_type": "stream",
          "name": "stdout",
          "text": [
            "True\n",
            "False\n",
            "False\n",
            "True\n"
          ]
        }
      ]
    },
    {
      "cell_type": "code",
      "source": [
        "# Program - Find the sum of a 3 digit number entered by the user\n",
        "\n",
        "number = int(input('Enter a 3 digit number'))\n",
        "\n",
        "# 345%10 -> 5\n",
        "a = number%10\n",
        "\n",
        "number = number//10\n",
        "\n",
        "# 34%10 -> 4\n",
        "b = number % 10\n",
        "\n",
        "c = number // 10\n",
        "\n",
        "print(a + b + c)"
      ],
      "metadata": {
        "colab": {
          "base_uri": "https://localhost:8080/"
        },
        "id": "z71SHP24ViIf",
        "outputId": "f42a21ca-4c9d-4fc7-e32f-578a10ceaa02"
      },
      "execution_count": null,
      "outputs": [
        {
          "output_type": "stream",
          "name": "stdout",
          "text": [
            "Enter a 3 digit number666\n",
            "18\n"
          ]
        }
      ]
    },
    {
      "cell_type": "markdown",
      "source": [
        "# If-else in Python"
      ],
      "metadata": {
        "id": "Qu8lI1cnMkhL"
      }
    },
    {
      "cell_type": "code",
      "source": [
        "# login program and indentation\n",
        "# email -> sadiagondal@gmail.com\n",
        "# password -> 1357\n",
        "\n",
        "# take email & pasword from user\n",
        "email = input('Enter email: ')\n",
        "password = input('Enter password: ')\n",
        "\n",
        "if email == 'sadiagondal@gmail.com' and password == '1357':\n",
        "  print('Welcome')\n",
        "\n",
        "elif email == 'sadiagondal@gmail.com' and password != '1357':\n",
        "  print('Incorrect password,try again')\n",
        "  password = input('Enter password: ')\n",
        "  if password == '1357':\n",
        "    print('Finally you did it.')\n",
        "  else:\n",
        "    print('your luck is over')\n",
        "\n",
        "else:\n",
        "  print('Incorrect email or password')"
      ],
      "metadata": {
        "id": "Yyavd8XZVjDc",
        "colab": {
          "base_uri": "https://localhost:8080/"
        },
        "outputId": "6d6f8c0d-be20-4d33-a44e-4760cb10f52d"
      },
      "execution_count": null,
      "outputs": [
        {
          "output_type": "stream",
          "name": "stdout",
          "text": [
            "Enter email: sadiagondal@gmail.com\n",
            "Enter password: 2343\n",
            "Incorrect password,try again\n",
            "Enter password: 1357\n",
            "Finally you did it.\n"
          ]
        }
      ]
    },
    {
      "cell_type": "code",
      "source": [
        "# if-else examples\n",
        "# 1. Find the min of 3 given numbers\n",
        "# 2. Menu Driven Program"
      ],
      "metadata": {
        "id": "wtxadvieMnYv"
      },
      "execution_count": null,
      "outputs": []
    },
    {
      "cell_type": "code",
      "source": [
        "# minimum of 3 given numbers\n",
        "\n",
        "a = int(input('Enter first number '))\n",
        "b = int(input('Enter second number '))\n",
        "c = int(input('Enter third number '))\n",
        "\n",
        "if a < b and a < c:\n",
        "  print(f'{a} is the smallest num')\n",
        "elif b < c:\n",
        "  print(f'{b} is the smallest num')\n",
        "else:\n",
        "  print(f'{c} is the smallest num')"
      ],
      "metadata": {
        "colab": {
          "base_uri": "https://localhost:8080/"
        },
        "id": "33fpTH0NTfcH",
        "outputId": "c298eee0-26c9-45dd-dc12-eb7b48d5f8e6"
      },
      "execution_count": null,
      "outputs": [
        {
          "output_type": "stream",
          "name": "stdout",
          "text": [
            "Enter first number 5\n",
            "Enter second number 1\n",
            "Enter third number 3\n",
            "1 is the smallest num\n"
          ]
        }
      ]
    },
    {
      "cell_type": "code",
      "source": [
        "# menu driven calculator\n",
        "\n",
        "fnum = int(input('Enter 1st number '))\n",
        "snum = int(input('Enter 2nd number '))\n",
        "\n",
        "op = input(\"\"\"\n",
        "    1. press + for addition.\n",
        "    2. press - for subtraction.\n",
        "    3. press / for division.\n",
        "    4. press * for multiplication.\n",
        "\"\"\")\n",
        "\n",
        "if op == '+':\n",
        "  print(fnum+snum)\n",
        "elif op == '-':\n",
        "  print(fnum-snum)\n",
        "elif op == '/':\n",
        "  print(fnum/snum)\n",
        "else:\n",
        "  print(fnum*snum)"
      ],
      "metadata": {
        "colab": {
          "base_uri": "https://localhost:8080/"
        },
        "id": "5sQyxeGbU8Jy",
        "outputId": "09381583-8785-485e-ec1e-10067a203f2b"
      },
      "execution_count": null,
      "outputs": [
        {
          "output_type": "stream",
          "name": "stdout",
          "text": [
            "Enter 1st number 7\n",
            "Enter 2nd number 9\n",
            "\n",
            "    1. press + for addition.\n",
            "    2. press - for subtraction.\n",
            "    3. press / for division.\n",
            "    4. press * for multiplication.\n",
            "/\n",
            "0.7777777777777778\n"
          ]
        }
      ]
    },
    {
      "cell_type": "markdown",
      "source": [
        "# Modules in python"
      ],
      "metadata": {
        "id": "yojbpN7Ec8Kt"
      }
    },
    {
      "cell_type": "code",
      "source": [
        "#   math\n",
        "#   keyword\n",
        "#   random\n",
        "#   datetime\n"
      ],
      "metadata": {
        "id": "fFjAOoqBdb-a"
      },
      "execution_count": null,
      "outputs": []
    },
    {
      "cell_type": "code",
      "source": [
        "# math\n",
        "\n",
        "import math\n",
        "\n",
        "#math.sqrt(89)\n",
        "\n",
        "#print(math.factorial(4))\n",
        "math.floor(34.6)"
      ],
      "metadata": {
        "colab": {
          "base_uri": "https://localhost:8080/"
        },
        "id": "wuLBTld7ZtIX",
        "outputId": "ef0b228b-2ee0-42a2-e89d-191398b27e61"
      },
      "execution_count": null,
      "outputs": [
        {
          "output_type": "execute_result",
          "data": {
            "text/plain": [
              "34"
            ]
          },
          "metadata": {},
          "execution_count": 21
        }
      ]
    },
    {
      "cell_type": "code",
      "source": [
        "# keywords\n",
        "import keyword\n",
        "\n",
        "print(keyword.kwlist)"
      ],
      "metadata": {
        "colab": {
          "base_uri": "https://localhost:8080/"
        },
        "id": "vDAxf7RLdAoS",
        "outputId": "01fe6f27-570b-40e5-8bb0-267c8b4623fb"
      },
      "execution_count": null,
      "outputs": [
        {
          "output_type": "stream",
          "name": "stdout",
          "text": [
            "['False', 'None', 'True', 'and', 'as', 'assert', 'async', 'await', 'break', 'class', 'continue', 'def', 'del', 'elif', 'else', 'except', 'finally', 'for', 'from', 'global', 'if', 'import', 'in', 'is', 'lambda', 'nonlocal', 'not', 'or', 'pass', 'raise', 'return', 'try', 'while', 'with', 'yield']\n"
          ]
        }
      ]
    },
    {
      "cell_type": "code",
      "source": [
        "# random\n",
        "import random\n",
        "\n",
        "print(random.randint(1, 100))"
      ],
      "metadata": {
        "colab": {
          "base_uri": "https://localhost:8080/"
        },
        "id": "3m3Gh5Apd58U",
        "outputId": "d1112282-efa6-4f76-8ac9-8245670a614a"
      },
      "execution_count": null,
      "outputs": [
        {
          "output_type": "stream",
          "name": "stdout",
          "text": [
            "100\n"
          ]
        }
      ]
    },
    {
      "cell_type": "code",
      "source": [
        "#datetime\n",
        "\n",
        "import datetime\n",
        "\n",
        "print(datetime.datetime.now())"
      ],
      "metadata": {
        "colab": {
          "base_uri": "https://localhost:8080/"
        },
        "id": "WB7t6KIie115",
        "outputId": "8333b475-8fce-4ede-bf2d-ccb58c233022"
      },
      "execution_count": null,
      "outputs": [
        {
          "output_type": "stream",
          "name": "stdout",
          "text": [
            "2025-05-16 05:12:22.746164\n"
          ]
        }
      ]
    },
    {
      "cell_type": "markdown",
      "source": [
        "# Loops in Python\n",
        "\n",
        "*   Need for loops\n",
        "\n",
        "*   While loop\n",
        "\n",
        "*   For loop\n",
        "\n"
      ],
      "metadata": {
        "id": "ngOmDgFZjVJg"
      }
    },
    {
      "cell_type": "code",
      "source": [
        "# Need for loops\n",
        "\n",
        "# we need loops in order to perform certain task in repetion\n",
        "# intead of writing same piece of code again and agian, we run that code in a loop\n",
        "# practically they are mostly used in listing of products on shoping sites or hotels"
      ],
      "metadata": {
        "id": "GOfO0E8Qh_Br"
      },
      "execution_count": null,
      "outputs": []
    },
    {
      "cell_type": "code",
      "source": [
        "# while loop\n",
        "\n",
        "num = int(input('Enter a number '))\n",
        "\n",
        "i = 1\n",
        "while i < 11:\n",
        "  print(f'{num} * {i} = {num*i}')\n",
        "\n",
        "  i += 1"
      ],
      "metadata": {
        "colab": {
          "base_uri": "https://localhost:8080/"
        },
        "id": "6dw-URhWIlgu",
        "outputId": "0517ff40-d126-4fab-ac8a-1d545921b0e1"
      },
      "execution_count": null,
      "outputs": [
        {
          "output_type": "stream",
          "name": "stdout",
          "text": [
            "Enter a number 12\n",
            "12 * 1 = 12\n",
            "12 * 2 = 24\n",
            "12 * 3 = 36\n",
            "12 * 4 = 48\n",
            "12 * 5 = 60\n",
            "12 * 6 = 72\n",
            "12 * 7 = 84\n",
            "12 * 8 = 96\n",
            "12 * 9 = 108\n",
            "12 * 10 = 120\n"
          ]
        }
      ]
    },
    {
      "cell_type": "code",
      "source": [
        "# while loop with else\n",
        "\n",
        "x = 1\n",
        "\n",
        "while x < 3:\n",
        "  print(x)\n",
        "\n",
        "  x = x+1\n",
        "\n",
        "else:\n",
        "  print('limit crossed')"
      ],
      "metadata": {
        "colab": {
          "base_uri": "https://localhost:8080/"
        },
        "id": "GacHMg5pJQIH",
        "outputId": "dbeb5927-394c-475a-a534-f6f266fa3dc6"
      },
      "execution_count": null,
      "outputs": [
        {
          "output_type": "stream",
          "name": "stdout",
          "text": [
            "1\n",
            "2\n",
            "limit crossed\n"
          ]
        }
      ]
    },
    {
      "cell_type": "code",
      "source": [],
      "metadata": {
        "id": "ld1IY4kZUzeT"
      },
      "execution_count": null,
      "outputs": []
    },
    {
      "cell_type": "code",
      "source": [
        "# guessing game\n",
        "# generate random number between 0 to 100\n",
        "import random\n",
        "jackpot = random.randint(0,100)\n",
        "\n",
        "guess = int(input('Enter the guessing number '))\n",
        "\n",
        "counter = 1\n",
        "\n",
        "while guess != jackpot:\n",
        "\n",
        "  if guess < jackpot:\n",
        "    print('Wrong! guess higher number.')\n",
        "  else:\n",
        "    print('Wrong! guess lower')\n",
        "\n",
        "  guess = int(input('Enter the guessing number '))\n",
        "\n",
        "  counter += 1\n",
        "else:\n",
        "  print(f'Finally! you guess the right number in {counter} attempts')"
      ],
      "metadata": {
        "colab": {
          "base_uri": "https://localhost:8080/"
        },
        "id": "oPsidWqwPPnZ",
        "outputId": "d197a42a-6489-4671-9df3-2bbb00b93710"
      },
      "execution_count": null,
      "outputs": [
        {
          "output_type": "stream",
          "name": "stdout",
          "text": [
            "Enter the guessing number 60\n",
            "Wrong! guess lower\n",
            "Enter the guessing number 40\n",
            "Wrong! guess higher number.\n",
            "Enter the guessing number 50\n",
            "Wrong! guess lower\n",
            "Enter the guessing number 47\n",
            "Wrong! guess lower\n",
            "Enter the guessing number 43\n",
            "Wrong! guess lower\n",
            "Enter the guessing number 41\n",
            "Wrong! guess higher number.\n",
            "Enter the guessing number 42\n",
            "Finally! you guess the right number in 7 attempts\n"
          ]
        }
      ]
    },
    {
      "cell_type": "code",
      "source": [
        "# For loop demo\n",
        "for i in range(1, 11):\n",
        "  print(i)"
      ],
      "metadata": {
        "colab": {
          "base_uri": "https://localhost:8080/"
        },
        "id": "_Gqykb3cRXIG",
        "outputId": "85886061-79fa-420a-c684-ae82f2965f04"
      },
      "execution_count": null,
      "outputs": [
        {
          "output_type": "stream",
          "name": "stdout",
          "text": [
            "1\n",
            "2\n",
            "3\n",
            "4\n",
            "5\n",
            "6\n",
            "7\n",
            "8\n",
            "9\n",
            "10\n"
          ]
        }
      ]
    },
    {
      "cell_type": "code",
      "source": [
        "# printing numbers in reverse order\n",
        "\n",
        "for i in range(10, 0, -1):\n",
        "  print(i)"
      ],
      "metadata": {
        "colab": {
          "base_uri": "https://localhost:8080/"
        },
        "id": "AkjzjD8nfoDb",
        "outputId": "25bcf439-906e-4c80-d421-3436c339153a"
      },
      "execution_count": null,
      "outputs": [
        {
          "output_type": "stream",
          "name": "stdout",
          "text": [
            "10\n",
            "9\n",
            "8\n",
            "7\n",
            "6\n",
            "5\n",
            "4\n",
            "3\n",
            "2\n",
            "1\n"
          ]
        }
      ]
    },
    {
      "cell_type": "code",
      "source": [
        "# for loop can work with different data types\n",
        "\n",
        "#for i in 'Pakistan':   #string\n",
        "#for i in[1,3,5,6]:     #list\n",
        "#for i in (10,9,8,7):   #tuple\n",
        "for i in {3,4,6,8}:      #sets\n",
        "  print(i)"
      ],
      "metadata": {
        "colab": {
          "base_uri": "https://localhost:8080/"
        },
        "id": "2Qaz4HYRf9px",
        "outputId": "16ef0486-0b52-426e-83b8-1a1e89df0b6e"
      },
      "execution_count": null,
      "outputs": [
        {
          "output_type": "stream",
          "name": "stdout",
          "text": [
            "8\n",
            "3\n",
            "4\n",
            "6\n"
          ]
        }
      ]
    },
    {
      "cell_type": "markdown",
      "source": [
        "# The current population of a town is 10000. The population of the town is increasing at the rate of 10% per year. You have to write a program to find out the population at the end of each of the last 10 years."
      ],
      "metadata": {
        "id": "4vTZ1VEmorBd"
      }
    },
    {
      "cell_type": "code",
      "source": [
        "current_population = 10000\n",
        "\n",
        "for i in range(10, 0, -1):\n",
        "  print(i, current_population)\n",
        "  current_population = current_population / 1.1"
      ],
      "metadata": {
        "colab": {
          "base_uri": "https://localhost:8080/"
        },
        "id": "l7AyHVYmos6U",
        "outputId": "5cf387cc-61af-4794-9608-929c79151940"
      },
      "execution_count": null,
      "outputs": [
        {
          "output_type": "stream",
          "name": "stdout",
          "text": [
            "10 10000\n",
            "9 9090.90909090909\n",
            "8 8264.462809917353\n",
            "7 7513.148009015775\n",
            "6 6830.134553650703\n",
            "5 6209.213230591548\n",
            "4 5644.739300537771\n",
            "3 5131.5811823070635\n",
            "2 4665.07380209733\n",
            "1 4240.976183724845\n"
          ]
        }
      ]
    },
    {
      "cell_type": "code",
      "source": [],
      "metadata": {
        "id": "DykDQlOWpLCD"
      },
      "execution_count": null,
      "outputs": []
    }
  ]
}