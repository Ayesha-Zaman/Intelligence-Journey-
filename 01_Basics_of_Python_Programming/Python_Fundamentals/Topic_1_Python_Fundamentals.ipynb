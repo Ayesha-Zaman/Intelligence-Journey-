{
  "nbformat": 4,
  "nbformat_minor": 0,
  "metadata": {
    "colab": {
      "provenance": [],
      "authorship_tag": "ABX9TyMo0RqO9TjLIGAU8jWtWA1Q",
      "include_colab_link": true
    },
    "kernelspec": {
      "name": "python3",
      "display_name": "Python 3"
    },
    "language_info": {
      "name": "python"
    }
  },
  "cells": [
    {
      "cell_type": "markdown",
      "metadata": {
        "id": "view-in-github",
        "colab_type": "text"
      },
      "source": [
        "<a href=\"https://colab.research.google.com/github/Ayesha-Zaman/Intelligence-Journey-/blob/main/01_Basics_of_Python_Programming/Python_Fundamentals/Topic_1_Python_Fundamentals.ipynb\" target=\"_parent\"><img src=\"https://colab.research.google.com/assets/colab-badge.svg\" alt=\"Open In Colab\"/></a>"
      ]
    },
    {
      "cell_type": "markdown",
      "source": [
        "1. Python Output"
      ],
      "metadata": {
        "id": "gqOcewiKNcKW"
      }
    },
    {
      "cell_type": "code",
      "source": [
        "print('Hello World')"
      ],
      "metadata": {
        "colab": {
          "base_uri": "https://localhost:8080/"
        },
        "id": "Ce_cGYaQYPEx",
        "outputId": "fdcc2360-5b84-4765-b832-1200f39e5a74"
      },
      "execution_count": null,
      "outputs": [
        {
          "output_type": "stream",
          "name": "stdout",
          "text": [
            "Hello World\n"
          ]
        }
      ]
    },
    {
      "cell_type": "code",
      "source": [
        "print(Data science)"
      ],
      "metadata": {
        "colab": {
          "base_uri": "https://localhost:8080/",
          "height": 108
        },
        "id": "wE9Fyu8DfKKC",
        "outputId": "1980a727-534f-4d6f-dac3-abe016f79850"
      },
      "execution_count": null,
      "outputs": [
        {
          "output_type": "error",
          "ename": "SyntaxError",
          "evalue": "invalid syntax. Perhaps you forgot a comma? (<ipython-input-4-1080ea809e37>, line 1)",
          "traceback": [
            "\u001b[0;36m  File \u001b[0;32m\"<ipython-input-4-1080ea809e37>\"\u001b[0;36m, line \u001b[0;32m1\u001b[0m\n\u001b[0;31m    print(Data science)\u001b[0m\n\u001b[0m          ^\u001b[0m\n\u001b[0;31mSyntaxError\u001b[0m\u001b[0;31m:\u001b[0m invalid syntax. Perhaps you forgot a comma?\n"
          ]
        }
      ]
    },
    {
      "cell_type": "code",
      "source": [
        "print(\"Data science\")"
      ],
      "metadata": {
        "colab": {
          "base_uri": "https://localhost:8080/"
        },
        "id": "8WEmlstmZTGV",
        "outputId": "58e74a4b-aa07-4704-85b8-512a3f035563"
      },
      "execution_count": null,
      "outputs": [
        {
          "output_type": "stream",
          "name": "stdout",
          "text": [
            "Data science\n"
          ]
        }
      ]
    },
    {
      "cell_type": "code",
      "source": [
        "print(33)"
      ],
      "metadata": {
        "id": "sjOjFfwSZbcc",
        "colab": {
          "base_uri": "https://localhost:8080/"
        },
        "outputId": "b6b0f07f-0bbf-4153-9ed6-102a9453492e"
      },
      "execution_count": null,
      "outputs": [
        {
          "output_type": "stream",
          "name": "stdout",
          "text": [
            "33\n"
          ]
        }
      ]
    },
    {
      "cell_type": "code",
      "source": [
        "print(3.3)"
      ],
      "metadata": {
        "colab": {
          "base_uri": "https://localhost:8080/"
        },
        "id": "CA9BkjWEfrMf",
        "outputId": "d9509a4e-26e1-4af1-da96-f92abb6f3762"
      },
      "execution_count": null,
      "outputs": [
        {
          "output_type": "stream",
          "name": "stdout",
          "text": [
            "3.3\n"
          ]
        }
      ]
    },
    {
      "cell_type": "code",
      "source": [
        "print(True)"
      ],
      "metadata": {
        "colab": {
          "base_uri": "https://localhost:8080/"
        },
        "id": "e1WtuSTofy03",
        "outputId": "df7b7356-5cdb-4c41-811c-0110aede33f6"
      },
      "execution_count": null,
      "outputs": [
        {
          "output_type": "stream",
          "name": "stdout",
          "text": [
            "True\n"
          ]
        }
      ]
    },
    {
      "cell_type": "code",
      "source": [
        "print('Data sceience', 3, 3.5, False)"
      ],
      "metadata": {
        "colab": {
          "base_uri": "https://localhost:8080/"
        },
        "id": "mopB1S2Qf4YN",
        "outputId": "8613c6d1-6952-4ef0-d6f9-d5b6c4dbe542"
      },
      "execution_count": null,
      "outputs": [
        {
          "output_type": "stream",
          "name": "stdout",
          "text": [
            "Data sceience 3 3.5 False\n"
          ]
        }
      ]
    },
    {
      "cell_type": "code",
      "source": [
        "print('Data sceience', 3, 3.5, False, sep = '/')"
      ],
      "metadata": {
        "colab": {
          "base_uri": "https://localhost:8080/"
        },
        "id": "t71mxycBhvnL",
        "outputId": "a5157d24-7d05-47da-addc-b9e236ce469e"
      },
      "execution_count": null,
      "outputs": [
        {
          "output_type": "stream",
          "name": "stdout",
          "text": [
            "Data sceience/3/3.5/False\n"
          ]
        }
      ]
    },
    {
      "cell_type": "code",
      "source": [
        "print('Data')\n",
        "print('Science')"
      ],
      "metadata": {
        "id": "zImTadc5iLPy",
        "colab": {
          "base_uri": "https://localhost:8080/"
        },
        "outputId": "e2abd040-343c-4386-fd7c-17fff1738a1c"
      },
      "execution_count": null,
      "outputs": [
        {
          "output_type": "stream",
          "name": "stdout",
          "text": [
            "Data\n",
            "Science\n"
          ]
        }
      ]
    },
    {
      "cell_type": "code",
      "source": [
        "print('Data', end = '_')\n",
        "print('Science')"
      ],
      "metadata": {
        "colab": {
          "base_uri": "https://localhost:8080/"
        },
        "id": "7pdX0WArUbK0",
        "outputId": "3425e469-e21a-4865-8f24-814a43cb0afc"
      },
      "execution_count": null,
      "outputs": [
        {
          "output_type": "stream",
          "name": "stdout",
          "text": [
            "Data_Science\n"
          ]
        }
      ]
    },
    {
      "cell_type": "markdown",
      "source": [
        "2. Data Types\n",
        "# how many sorts of data python can work with/ can deal"
      ],
      "metadata": {
        "id": "WTl888xeWYjZ"
      }
    },
    {
      "cell_type": "code",
      "source": [
        "#integer\n",
        "print(6)\n",
        "\n",
        "# python integer range. python can work with large numbers easily.\n",
        "#1*10^308\n",
        "print(1e308)\n",
        "\n",
        "#above range become infinite\n",
        "print(1e309)"
      ],
      "metadata": {
        "colab": {
          "base_uri": "https://localhost:8080/"
        },
        "id": "V4pRupXMXNDd",
        "outputId": "d47d6d79-0357-41f2-be39-3bd029719520"
      },
      "execution_count": null,
      "outputs": [
        {
          "output_type": "stream",
          "name": "stdout",
          "text": [
            "6\n",
            "1e+308\n",
            "inf\n"
          ]
        }
      ]
    },
    {
      "cell_type": "code",
      "source": [
        "#decimal / float\n",
        "print(3.9)\n",
        "\n",
        "#decimal number limit in python\n",
        "print(1.7e308)\n",
        "print(1.7e309)"
      ],
      "metadata": {
        "colab": {
          "base_uri": "https://localhost:8080/"
        },
        "id": "VYUtVUoCY8Ke",
        "outputId": "44fb182b-4b9e-4545-bf53-3bae1695a05b"
      },
      "execution_count": null,
      "outputs": [
        {
          "output_type": "stream",
          "name": "stdout",
          "text": [
            "3.9\n",
            "1.7e+308\n",
            "inf\n"
          ]
        }
      ]
    },
    {
      "cell_type": "code",
      "source": [
        "#Boolean\n",
        "print(True)\n",
        "print(False)"
      ],
      "metadata": {
        "colab": {
          "base_uri": "https://localhost:8080/"
        },
        "id": "HVfuZ79RZMHL",
        "outputId": "473f04f0-dbb5-4d2b-d423-df05139bab07"
      },
      "execution_count": null,
      "outputs": [
        {
          "output_type": "stream",
          "name": "stdout",
          "text": [
            "True\n",
            "False\n"
          ]
        }
      ]
    },
    {
      "cell_type": "code",
      "source": [
        "# text / string\n",
        "print('Data Science')\n",
        "\n",
        "#python doesn't deal with the data type char / character"
      ],
      "metadata": {
        "colab": {
          "base_uri": "https://localhost:8080/"
        },
        "id": "ggis1fvoaHPT",
        "outputId": "e667bc06-bcae-4658-9097-9f9be0f00a99"
      },
      "execution_count": null,
      "outputs": [
        {
          "output_type": "stream",
          "name": "stdout",
          "text": [
            "Data Science\n"
          ]
        }
      ]
    },
    {
      "cell_type": "code",
      "source": [
        "# complex, it contains real (5) and imaginary(6j) part\n",
        "print(5+6j)"
      ],
      "metadata": {
        "colab": {
          "base_uri": "https://localhost:8080/"
        },
        "id": "3iabD25Qaq_S",
        "outputId": "3a6ce063-73ae-4fdb-9693-9922c8835ab3"
      },
      "execution_count": null,
      "outputs": [
        {
          "output_type": "stream",
          "name": "stdout",
          "text": [
            "(5+6j)\n"
          ]
        }
      ]
    },
    {
      "cell_type": "code",
      "source": [
        "# List --> C = array\n",
        "print([1, 2, 3, 4, 5])"
      ],
      "metadata": {
        "colab": {
          "base_uri": "https://localhost:8080/"
        },
        "id": "-kEUzLPabUe0",
        "outputId": "1e8fab36-9d61-4b08-a2ee-ddb3c06ebc28"
      },
      "execution_count": null,
      "outputs": [
        {
          "output_type": "stream",
          "name": "stdout",
          "text": [
            "[1, 2, 3, 4, 5]\n"
          ]
        }
      ]
    },
    {
      "cell_type": "code",
      "source": [
        "# Tuples\n",
        "print((1,3, 5,7))"
      ],
      "metadata": {
        "colab": {
          "base_uri": "https://localhost:8080/"
        },
        "id": "j-Y4AQDmcgYn",
        "outputId": "afcea2cd-e01e-4f75-8ba8-09aaefd0a76c"
      },
      "execution_count": null,
      "outputs": [
        {
          "output_type": "stream",
          "name": "stdout",
          "text": [
            "(1, 3, 5, 7)\n"
          ]
        }
      ]
    },
    {
      "cell_type": "code",
      "source": [
        "# Sets\n",
        "print({3, 4, 5})"
      ],
      "metadata": {
        "colab": {
          "base_uri": "https://localhost:8080/"
        },
        "id": "2NafwK_CcvgE",
        "outputId": "c5869300-8e71-4f25-8776-5d403861b73d"
      },
      "execution_count": null,
      "outputs": [
        {
          "output_type": "stream",
          "name": "stdout",
          "text": [
            "{3, 4, 5}\n"
          ]
        }
      ]
    },
    {
      "cell_type": "code",
      "source": [
        "# Dictionary. It's key value pair\n",
        "print({'name' : 'Ayesha', 'age': 23, 'gender' : 'Female'})"
      ],
      "metadata": {
        "colab": {
          "base_uri": "https://localhost:8080/"
        },
        "id": "bR-1QnRVc5AF",
        "outputId": "0f66912f-9ea6-4f44-858f-1fe4fac4363b"
      },
      "execution_count": null,
      "outputs": [
        {
          "output_type": "stream",
          "name": "stdout",
          "text": [
            "{'name': 'Ayesha', 'age': 23, 'gender': 'Female'}\n"
          ]
        }
      ]
    },
    {
      "cell_type": "code",
      "source": [
        "# type function\n",
        "#type(6)\n",
        "type(6.4)\n",
        "type('data')\n",
        "type(True)\n",
        "type(4+5j)\n",
        "type([1,2,3])"
      ],
      "metadata": {
        "colab": {
          "base_uri": "https://localhost:8080/"
        },
        "id": "3g-Ng83Sgimc",
        "outputId": "ff60e2e0-7f08-449c-f340-028ec954fba5"
      },
      "execution_count": null,
      "outputs": [
        {
          "output_type": "execute_result",
          "data": {
            "text/plain": [
              "list"
            ]
          },
          "metadata": {},
          "execution_count": 27
        }
      ]
    },
    {
      "cell_type": "markdown",
      "source": [
        "3. variables"
      ],
      "metadata": {
        "id": "lkygoXIDiIlU"
      }
    },
    {
      "cell_type": "code",
      "source": [
        "# variables are containers in which we store any sort of information\n",
        "\n",
        "# Static vs Dynamic Typing\n",
        "# Static vs Dynamic Binding\n",
        "#stylish declaration techniques\n"
      ],
      "metadata": {
        "id": "7S-KMAZXiOwM"
      },
      "execution_count": null,
      "outputs": []
    },
    {
      "cell_type": "code",
      "source": [
        "# creating variable\n",
        "name = 'Ayesha Noreen'\n",
        "print(name)\n",
        "\n",
        "a = 3\n",
        "b = 5\n",
        "print(a + b)"
      ],
      "metadata": {
        "colab": {
          "base_uri": "https://localhost:8080/"
        },
        "id": "UQ1dSMn-j1iz",
        "outputId": "9c1c2b33-542c-4a1a-d641-6359547f0acd"
      },
      "execution_count": null,
      "outputs": [
        {
          "output_type": "stream",
          "name": "stdout",
          "text": [
            "Ayesha Noreen\n",
            "8\n"
          ]
        }
      ]
    },
    {
      "cell_type": "code",
      "source": [
        "# Static Typing\n",
        "# while declaring or creating a variable we need to tell the data\n",
        "# type of that particular variable,  languages like: java, C, C++\n",
        "int a = 4;\n",
        "\n",
        "# Dynamic typing\n",
        "# whole creating the variable we don't need to tell the data type of variable\n",
        "# interpreter smart enough that it automatically fetch the data typeof variable\n",
        "# Python spport dynamic typing\n",
        "\n",
        "a = 9\n"
      ],
      "metadata": {
        "id": "JmC5GZ6vkMAz"
      },
      "execution_count": null,
      "outputs": []
    },
    {
      "cell_type": "code",
      "source": [
        "# Dynamic Binding\n",
        "# In pyhton when we create a variable it doesn't holds the fixed data type\n",
        "\n",
        "a = 9\n",
        "print(a)\n",
        "\n",
        "a = 'Data Science'\n",
        "print(a)\n",
        "\n",
        "# Static Binding\n",
        "# when we create a variable it's data type will be fixed throughout the whole program\n",
        "int a = 9;\n"
      ],
      "metadata": {
        "colab": {
          "base_uri": "https://localhost:8080/"
        },
        "id": "nMKB5q5AnaUn",
        "outputId": "37790f6e-ad4d-4320-ee04-c0c4f320a4b9"
      },
      "execution_count": null,
      "outputs": [
        {
          "output_type": "stream",
          "name": "stdout",
          "text": [
            "9\n",
            "Data Science\n"
          ]
        }
      ]
    },
    {
      "cell_type": "code",
      "source": [
        "a = 1\n",
        "b = 2\n",
        "c = 3\n",
        "print(a, b, c)"
      ],
      "metadata": {
        "colab": {
          "base_uri": "https://localhost:8080/"
        },
        "id": "VJ-XZaBLovJw",
        "outputId": "1161e88a-7b81-43f2-9fc4-2fc43a612e4b"
      },
      "execution_count": null,
      "outputs": [
        {
          "output_type": "stream",
          "name": "stdout",
          "text": [
            "1 2 3\n"
          ]
        }
      ]
    },
    {
      "cell_type": "code",
      "source": [
        "a, b, c = 1, 2, 3\n",
        "print(a,b, c)"
      ],
      "metadata": {
        "colab": {
          "base_uri": "https://localhost:8080/"
        },
        "id": "flSdXSQvqwkn",
        "outputId": "9adb47c8-2510-4d19-ffb3-a06af9799ef4"
      },
      "execution_count": null,
      "outputs": [
        {
          "output_type": "stream",
          "name": "stdout",
          "text": [
            "1 2 3\n"
          ]
        }
      ]
    },
    {
      "cell_type": "code",
      "source": [
        "a = b = c = 6\n",
        "print(a, b, c)"
      ],
      "metadata": {
        "colab": {
          "base_uri": "https://localhost:8080/"
        },
        "id": "Z7XReVohq5c7",
        "outputId": "0d6a817a-a06a-48e1-ee40-39fc8114ede1"
      },
      "execution_count": null,
      "outputs": [
        {
          "output_type": "stream",
          "name": "stdout",
          "text": [
            "6 6 6\n"
          ]
        }
      ]
    },
    {
      "cell_type": "markdown",
      "source": [
        "# Compilers / Interpreter"
      ],
      "metadata": {
        "id": "jHhq7sUWqw-9"
      }
    },
    {
      "cell_type": "markdown",
      "source": [
        "computer is unabletounderstand high level languages / coding formate, so compiler is a medium that converts our code intobinary language like 1/0. compiler compile the whole program at once, on the otherhand interpreter convert the code into binary language line by line.compilers are relatively fast than interpreter"
      ],
      "metadata": {
        "id": "MTLyxC-Iq1HR"
      }
    },
    {
      "cell_type": "markdown",
      "source": [
        "# 4. Keywords vs Identifiers"
      ],
      "metadata": {
        "id": "jxL0qU1OsFMr"
      }
    },
    {
      "cell_type": "code",
      "source": [
        "# keyword are the reserved words by compiler for it's own uderstanding of\n",
        "# the program, while compiling the program"
      ],
      "metadata": {
        "id": "w5x3hhaksMSy"
      },
      "execution_count": null,
      "outputs": []
    },
    {
      "cell_type": "code",
      "source": [
        "# Identifiers are the names that we give in the program like, variable name, function or class name.\n",
        "\n",
        "# rules for identifiers:\n",
        "# 1. can't start with numbers\n",
        "# 2. can't be keyword names\n",
        "# 3. special character just uderscore (_)"
      ],
      "metadata": {
        "id": "44yzGBoVt5AJ"
      },
      "execution_count": null,
      "outputs": []
    },
    {
      "cell_type": "code",
      "source": [],
      "metadata": {
        "id": "RhAjBp1Hujf9"
      },
      "execution_count": null,
      "outputs": []
    },
    {
      "cell_type": "markdown",
      "source": [
        "# 5. User Input"
      ],
      "metadata": {
        "id": "XBawP0UMu-xh"
      }
    },
    {
      "cell_type": "code",
      "source": [
        "# Static vs Dynamic Softwares\n",
        "\n",
        "# Static Softwares: softwares that don't intract with user just give information like, clock, calender, student portal\n",
        "\n",
        "# Dynamic Softwares: which intract users like, youtube. 99% softwares are dynamic\n"
      ],
      "metadata": {
        "id": "8sj9FPPRvHoN"
      },
      "execution_count": null,
      "outputs": []
    },
    {
      "cell_type": "code",
      "source": [
        "# Take 2 numbrs input from the user\n",
        "# and store these numbers in a variable\n",
        "num1 = input('Enter 1st number: ')\n",
        "num2 = input('Enter 2nd number: ')\n",
        "\n",
        "# Add these two numbers\n",
        "result = num1 + num2\n",
        "print(type(num1), type(num2))\n",
        "# print the result\n",
        "print(result)\n",
        "\n",
        "# why the result is in string form? pyhton take input in string data type, bcz it's the universal formate"
      ],
      "metadata": {
        "colab": {
          "base_uri": "https://localhost:8080/"
        },
        "id": "oJTo-InQ0mYP",
        "outputId": "113fe081-f1f3-485b-b658-3c820920399c"
      },
      "execution_count": null,
      "outputs": [
        {
          "output_type": "stream",
          "name": "stdout",
          "text": [
            "Enter 1st number: 45\n",
            "Enter 2nd number: 56\n",
            "<class 'str'> <class 'str'>\n",
            "4556\n"
          ]
        }
      ]
    },
    {
      "cell_type": "markdown",
      "source": [
        "# 6. Type conversion"
      ],
      "metadata": {
        "id": "MGefWJN-2nZY"
      }
    },
    {
      "cell_type": "code",
      "source": [
        "# Implicit vs Explicit\n",
        "\n",
        "print( 5 + 5.7)\n",
        "print(type(5), type(5.7))\n",
        "\n",
        "# two different data types but pyhton intelligent enough that if mathematiclly possible so it should work\n",
        "# implicit method not works all the time, here is how?\n",
        "print(4 + '4')"
      ],
      "metadata": {
        "colab": {
          "base_uri": "https://localhost:8080/",
          "height": 216
        },
        "id": "IRsoefz32Ihl",
        "outputId": "6861115f-c371-45a6-fee3-64bc0bfd044f"
      },
      "execution_count": null,
      "outputs": [
        {
          "output_type": "stream",
          "name": "stdout",
          "text": [
            "10.7\n",
            "<class 'int'> <class 'float'>\n"
          ]
        },
        {
          "output_type": "error",
          "ename": "TypeError",
          "evalue": "unsupported operand type(s) for +: 'int' and 'str'",
          "traceback": [
            "\u001b[0;31m---------------------------------------------------------------------------\u001b[0m",
            "\u001b[0;31mTypeError\u001b[0m                                 Traceback (most recent call last)",
            "\u001b[0;32m<ipython-input-4-8fec9ef6827a>\u001b[0m in \u001b[0;36m<cell line: 0>\u001b[0;34m()\u001b[0m\n\u001b[1;32m      6\u001b[0m \u001b[0;31m# two different data types but pyhton intelligent enough that if mathematiclly possible so it should work\u001b[0m\u001b[0;34m\u001b[0m\u001b[0;34m\u001b[0m\u001b[0m\n\u001b[1;32m      7\u001b[0m \u001b[0;31m# implicit method not works all the time, here is how?\u001b[0m\u001b[0;34m\u001b[0m\u001b[0;34m\u001b[0m\u001b[0m\n\u001b[0;32m----> 8\u001b[0;31m \u001b[0mprint\u001b[0m\u001b[0;34m(\u001b[0m\u001b[0;36m4\u001b[0m \u001b[0;34m+\u001b[0m \u001b[0;34m'4'\u001b[0m\u001b[0;34m)\u001b[0m\u001b[0;34m\u001b[0m\u001b[0;34m\u001b[0m\u001b[0m\n\u001b[0m",
            "\u001b[0;31mTypeError\u001b[0m: unsupported operand type(s) for +: 'int' and 'str'"
          ]
        }
      ]
    },
    {
      "cell_type": "code",
      "source": [
        "# Explicit\n",
        "int('4')\n",
        "\n",
        "# it also doesn'tworkall the time, like\n",
        "#int(5+6j)\n",
        "\n",
        "# int to string\n",
        "str(54)\n",
        "\n",
        "# integer to float\n",
        "float(6)\n"
      ],
      "metadata": {
        "colab": {
          "base_uri": "https://localhost:8080/"
        },
        "id": "KqnI0mJg4FRC",
        "outputId": "479599c7-2c66-40cd-cc5c-0998e764f143"
      },
      "execution_count": null,
      "outputs": [
        {
          "output_type": "execute_result",
          "data": {
            "text/plain": [
              "6.0"
            ]
          },
          "metadata": {},
          "execution_count": 9
        }
      ]
    },
    {
      "cell_type": "code",
      "source": [
        "## Take 2 numbrs input from the user\n",
        "# and store these numbers in a variable\n",
        "num1 = input('Enter 1st number: ')\n",
        "num2 = input('Enter 2nd number: ')\n",
        "\n",
        "# Add these two numbers\n",
        "result = int(num1) + int(num2)\n",
        "# print the result\n",
        "print(result)\n",
        "\n",
        "print(type(num1), type(num2)) # datatype will be still str with this method of explicit convrsion,\n",
        "# bcz python doesn't change original value,creats new & performon that."
      ],
      "metadata": {
        "colab": {
          "base_uri": "https://localhost:8080/"
        },
        "id": "MFhdmiPS7Hmo",
        "outputId": "2234b7da-4059-4852-972b-b1ee5d735df5"
      },
      "execution_count": null,
      "outputs": [
        {
          "output_type": "stream",
          "name": "stdout",
          "text": [
            "Enter 1st number: 67\n",
            "Enter 2nd number: 78\n",
            "145\n",
            "<class 'str'> <class 'str'>\n"
          ]
        }
      ]
    },
    {
      "cell_type": "code",
      "source": [
        "## Take 2 numbrs input from the user\n",
        "# and store these numbers in a variable\n",
        "num1 = int(input('Enter 1st number: '))\n",
        "num2 = int(input('Enter 2nd number: '))\n",
        "\n",
        "# Add these two numbers\n",
        "result = num1 + num2\n",
        "# print the result\n",
        "print(result)\n",
        "\n",
        "print(type(num1), type(num2))\n"
      ],
      "metadata": {
        "colab": {
          "base_uri": "https://localhost:8080/"
        },
        "id": "rprcFTEY8qj4",
        "outputId": "295ff3c1-04ff-4d10-b5f5-91232309b7f7"
      },
      "execution_count": null,
      "outputs": [
        {
          "output_type": "stream",
          "name": "stdout",
          "text": [
            "Enter 1st number: 67\n",
            "Enter 2nd number: 78\n",
            "145\n",
            "<class 'int'> <class 'int'>\n"
          ]
        }
      ]
    },
    {
      "cell_type": "markdown",
      "source": [
        "# 7. Literals"
      ],
      "metadata": {
        "id": "IOqz7tnfBHbO"
      }
    },
    {
      "cell_type": "code",
      "source": [
        "# literals are just simply values that we store in variables.\n",
        "# like a = 4, and here 4 is the literal"
      ],
      "metadata": {
        "id": "McgURBDW_P43"
      },
      "execution_count": null,
      "outputs": []
    },
    {
      "cell_type": "code",
      "source": [
        "# Different methods to represent literals\n",
        "# Integers\n",
        "\n",
        "a = 0b1010    # binary representation\n",
        "b = 200       # decimal representation\n",
        "c = 0o360     # Octal literal\n",
        "d = 0x12c     # Hexadecimal literal\n",
        "\n",
        "# Float\n",
        "\n",
        "flt_1 = 34.98\n",
        "flt_2 = 1.6e4   # 1.6*10^4      to represent large numbers\n",
        "flt_3 = 1.6e-4  # 1.6*10^-4     to represent smaller numbers\n",
        "\n",
        "# Complex literals\n",
        "\n",
        "x = 3+4j\n",
        "\n",
        "print(a, b, c, d)\n",
        "print(flt_1)\n",
        "print(flt_2)\n",
        "print(flt_3)\n",
        "print(x.real, x.imag)"
      ],
      "metadata": {
        "colab": {
          "base_uri": "https://localhost:8080/"
        },
        "id": "aJ_-u8ldCXD9",
        "outputId": "5f1c0a17-6f50-443a-f5a8-352d72e08ef2"
      },
      "execution_count": null,
      "outputs": [
        {
          "output_type": "stream",
          "name": "stdout",
          "text": [
            "10 200 240 300\n",
            "34.98\n",
            "16000.0\n",
            "0.00016\n",
            "3.0 4.0\n"
          ]
        }
      ]
    },
    {
      "cell_type": "code",
      "source": [
        "# Strings\n",
        "str1 = 'Python programming'\n",
        "str2 = \"Python Programming\"\n",
        "multiline_str = \"\"\"Python programming, the best part about this language is that very easy to adapt and come with batteries\"\"\"\n",
        "\n",
        "#unicode\n",
        "unicode = u\"\\U0001F600\\U0001F600\\U0001F601\\U0001F60E\"\n",
        "\n",
        "#raw string\n",
        "raw_str = r\"python \\n programming\"\n",
        "print(str1)\n",
        "print(str2)\n",
        "print(multiline_str)\n",
        "\n",
        "print(unicode)\n",
        "\n",
        "print(raw_str)"
      ],
      "metadata": {
        "colab": {
          "base_uri": "https://localhost:8080/"
        },
        "id": "E7GHUJVoD7uD",
        "outputId": "a3cfe9ea-3ac9-4d0e-c338-daaca324c36a"
      },
      "execution_count": null,
      "outputs": [
        {
          "output_type": "stream",
          "name": "stdout",
          "text": [
            "Python programming\n",
            "Python Programming\n",
            "Python programming, the best part about this language is that very easy to adapt and come with batteries\n",
            "😀😀😁😎\n",
            "python \\n programming\n"
          ]
        }
      ]
    },
    {
      "cell_type": "code",
      "source": [
        "# python treats Boolean as numbers inmathematical expressions\n",
        "\n",
        "a = True + 7\n",
        "b = False + 4\n",
        "\n",
        "print('a: ' , a)\n",
        "print('b: ' , b)"
      ],
      "metadata": {
        "colab": {
          "base_uri": "https://localhost:8080/"
        },
        "id": "ZbU-szRHHPrz",
        "outputId": "9d64bbd5-1bd8-4466-b1b8-add4d135bc2c"
      },
      "execution_count": null,
      "outputs": [
        {
          "output_type": "stream",
          "name": "stdout",
          "text": [
            "a:  8\n",
            "b:  4\n"
          ]
        }
      ]
    },
    {
      "cell_type": "code",
      "source": [
        "# None: we use it when we need a variable to use in future\n",
        "\n",
        "a = None\n",
        "b = 4\n",
        "c = 6\n",
        "\n",
        "print(a, b, c)"
      ],
      "metadata": {
        "id": "TaBupZ1NKvRW",
        "colab": {
          "base_uri": "https://localhost:8080/"
        },
        "outputId": "82ffe48d-1fb1-44c1-9dc6-3388fa29a388"
      },
      "execution_count": null,
      "outputs": [
        {
          "output_type": "stream",
          "name": "stdout",
          "text": [
            "None 4 6\n"
          ]
        }
      ]
    },
    {
      "cell_type": "code",
      "source": [],
      "metadata": {
        "id": "P6YJq92sPAB_"
      },
      "execution_count": null,
      "outputs": []
    }
  ]
}