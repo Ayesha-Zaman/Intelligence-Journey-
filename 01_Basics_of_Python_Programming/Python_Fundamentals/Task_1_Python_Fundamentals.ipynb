{
  "nbformat": 4,
  "nbformat_minor": 0,
  "metadata": {
    "colab": {
      "provenance": [],
      "authorship_tag": "ABX9TyPxBaNbJZxtHAY6APlUovdq",
      "include_colab_link": true
    },
    "kernelspec": {
      "name": "python3",
      "display_name": "Python 3"
    },
    "language_info": {
      "name": "python"
    }
  },
  "cells": [
    {
      "cell_type": "markdown",
      "metadata": {
        "id": "view-in-github",
        "colab_type": "text"
      },
      "source": [
        "<a href=\"https://colab.research.google.com/github/Ayesha-Zaman/Intelligence-Journey-/blob/main/01_Basics_of_Python_Programming/Python_Fundamentals/Task_1_Python_Fundamentals.ipynb\" target=\"_parent\"><img src=\"https://colab.research.google.com/assets/colab-badge.svg\" alt=\"Open In Colab\"/></a>"
      ]
    },
    {
      "cell_type": "markdown",
      "source": [
        "# Q1 :- Print the given strings as per stated format.\n",
        "\n",
        "Given strings:\n",
        "\n",
        "\"Data\" \"Science\" \"Mentorship\" \"Program\"\n",
        "\n",
        "\"By\" \"CampusX\"\n",
        "\n",
        "Output:\n",
        "\n",
        "Data-Science-Mentorship-Program-started-By-CampusX"
      ],
      "metadata": {
        "id": "jO9Ly4FLdXfV"
      }
    },
    {
      "cell_type": "code",
      "source": [
        "print(\"Data\", \"Science\", \"Mentorship\", \"Program\", sep = '-', end = '-started-')\n",
        "print(\"By\",\"CampusX\", sep = '-')"
      ],
      "metadata": {
        "colab": {
          "base_uri": "https://localhost:8080/"
        },
        "id": "dOX-NQ9JdvdR",
        "outputId": "5abe6cfd-8c3b-4c18-eb96-b183dbbff4f9"
      },
      "execution_count": null,
      "outputs": [
        {
          "output_type": "stream",
          "name": "stdout",
          "text": [
            "Data-Science-Mentorship-Program-started-By-CampusX\n"
          ]
        }
      ]
    },
    {
      "cell_type": "markdown",
      "source": [
        "# Q2:- Write a program that will convert celsius value to fahrenheit."
      ],
      "metadata": {
        "id": "bBOnFoJxiH6Z"
      }
    },
    {
      "cell_type": "code",
      "source": [
        "C = float(input('Enter value in celsius scale: '))\n",
        "F = (C*(9/5))+32\n",
        "print('Given value in Fahrenheit is:', F, 'F')"
      ],
      "metadata": {
        "colab": {
          "base_uri": "https://localhost:8080/"
        },
        "id": "U-UcC4RbiLc2",
        "outputId": "dc761188-cbbc-4f58-e601-84854e37c2a4"
      },
      "execution_count": null,
      "outputs": [
        {
          "output_type": "stream",
          "name": "stdout",
          "text": [
            "Enter value in celsius scale: 34\n",
            "Given value in Fahrenheit is: 93.2 F\n"
          ]
        }
      ]
    },
    {
      "cell_type": "markdown",
      "source": [
        "# Q3:- Take 2 numbers as input from the user.Write a program to swap the numbers without using any special python syntax."
      ],
      "metadata": {
        "id": "bDPzyJoXkDcQ"
      }
    },
    {
      "cell_type": "code",
      "source": [
        "#take two numbers as input from user\n",
        "\n",
        "num1 = int(input('Enter 1st number: '))\n",
        "num2 = int(input('Enter 2nd number: '))\n",
        "#swap the numbers\n",
        "num3 = num1\n",
        "num1 = num2\n",
        "num2 = num3\n",
        "# print the result\n",
        "print('1st number after swapping: ', num1)\n",
        "print('2nd number after swapping: ', num2)"
      ],
      "metadata": {
        "colab": {
          "base_uri": "https://localhost:8080/"
        },
        "id": "-Yi4jSQjjb4z",
        "outputId": "a5d9a0ee-7337-451b-b4ab-330c846e394a"
      },
      "execution_count": null,
      "outputs": [
        {
          "output_type": "stream",
          "name": "stdout",
          "text": [
            "Enter 1st number: 23\n",
            "Enter 2nd number: 34\n",
            "1st number after swapping:  34\n",
            "2nd number after swapping:  23\n"
          ]
        }
      ]
    },
    {
      "cell_type": "markdown",
      "source": [
        "# Q4:- Write a program to find the euclidean distance between two coordinates.Take both the coordinates from the user as input."
      ],
      "metadata": {
        "id": "Y-CkZIPmqfCh"
      }
    },
    {
      "cell_type": "code",
      "source": [
        "# take Point A, x1 and y1\n",
        "x1 = int(input('x1 corinate of Point A: '))\n",
        "y1 = int(input('y1 corinate of Point A: '))\n",
        "# take Point B, x2 and y2\n",
        "x2 = int(input('x2 corinate of Point B: '))\n",
        "y2 = int(input('y2 corinate of Point B: '))\n",
        "# euclidean distance formula\n",
        "\n",
        "ED = (((x2 - x1)**2) + ((y2 - y1)**2))**(1/2)\n",
        "#print the result\n",
        "print('Euclidean distance between two Coordinates: ', round(ED, 2))"
      ],
      "metadata": {
        "colab": {
          "base_uri": "https://localhost:8080/"
        },
        "id": "M3DMbkpDnxu2",
        "outputId": "e7602fcb-8d78-4e05-e1a3-65fb06afac90"
      },
      "execution_count": null,
      "outputs": [
        {
          "output_type": "stream",
          "name": "stdout",
          "text": [
            "x1 corinate of Point A: 2\n",
            "y1 corinate of Point A: 3\n",
            "x2 corinate of Point B: 6\n",
            "y2 corinate of Point B: 0\n",
            "Euclidean distance between two Coordinates:  5.0\n"
          ]
        }
      ]
    },
    {
      "cell_type": "markdown",
      "source": [
        "# Q5:- Write a program to find the simple interest when the value of principle,rate of interest and time period is provided by the user."
      ],
      "metadata": {
        "id": "tGnrqbRhzWwx"
      }
    },
    {
      "cell_type": "code",
      "source": [
        "# take input from user of value of priciple = P\n",
        "P = int(input('Enter value of principle: '))\n",
        "# rate of interest = I\n",
        "R = int(input('Enter rate of interest: '))\n",
        "# time period = T\n",
        "T = int(input('Enter time period: '))\n",
        "# formula to calculate simple interest = SI\n",
        "SI = (P*R*T) / 100\n",
        "# print the result\n",
        "print('Simple Interest: ', SI)"
      ],
      "metadata": {
        "colab": {
          "base_uri": "https://localhost:8080/"
        },
        "id": "ENanNb7nxSVX",
        "outputId": "2071505d-0337-46bf-9ddf-1b3408e478ce"
      },
      "execution_count": null,
      "outputs": [
        {
          "output_type": "stream",
          "name": "stdout",
          "text": [
            "Enter value of principle: 45\n",
            "Enter rate of interest: 23\n",
            "Enter time period: 6\n",
            "Simple Interest:  62.1\n"
          ]
        }
      ]
    },
    {
      "cell_type": "markdown",
      "source": [
        "# 6:- Write a program that will tell the number of dogs and chicken are there when the user will provide the value of total heads and legs.\n",
        "\n",
        "For example: Input: heads -> 4 legs -> 12\n",
        "\n",
        "Output: dogs -> 2 chicken -> 2"
      ],
      "metadata": {
        "id": "hvxPketUHWQT"
      }
    },
    {
      "cell_type": "markdown",
      "source": [
        "Let’s define:\n",
        "\n",
        "    Let C be the number of chickens.\n",
        "\n",
        "    Let D be the number of dogs.\n",
        "\n",
        "    Let H be the total number of heads.\n",
        "\n",
        "    Let L be the total number of legs.\n",
        "\n",
        "From the problem:\n",
        "\n",
        "    Heads Equation:\n",
        "    Since each animal has one head:\n",
        "                          C+D=H\n",
        "    Legs Equation:\n",
        "    Chickens have 2 legs and dogs have 4 legs:\n",
        "    2C+4D=L\n",
        "\n",
        "Solving the equations:\n",
        "\n",
        "From Equation 1:\n",
        "\n",
        "C=H−D\n",
        "\n",
        "Substitute into Equation 2:\n",
        "\n",
        "  2(H−D)+4D=L\n",
        "\n",
        "Simplify:\n",
        "\n",
        "2H−2D+4D=L⇒2H+2D=L\n",
        "\n",
        "Solve for D:\n",
        "\n",
        "2D=L−2H⇒D=(L−2H)/2\n",
        "\n",
        "\n",
        "Then, find C:\n",
        "\n",
        "C=H−D"
      ],
      "metadata": {
        "id": "1FKbv7UyIGos"
      }
    },
    {
      "cell_type": "code",
      "source": [
        "# take number of heads and legs from the user\n",
        "H = int(input('Enter total number of Heads: '))\n",
        "L = int(input('Enter total number of Legs: '))\n",
        "# Calculate number of Dogs using equation: D=(L−2H)/2\n",
        "D = (L-2*H)/2\n",
        "# Calculate number of Chickens using equation: C=H−D\n",
        "C = H - D\n",
        "# print number of Dogs and Chickens\n",
        "print('Total no of dogs: ', D)\n",
        "print('Total no of Chickens: ', C)"
      ],
      "metadata": {
        "colab": {
          "base_uri": "https://localhost:8080/"
        },
        "id": "KCPlxlSWJBqf",
        "outputId": "4947bd0f-afcf-4cf7-dc69-1f1bece3881d"
      },
      "execution_count": null,
      "outputs": [
        {
          "output_type": "stream",
          "name": "stdout",
          "text": [
            "Enter total number of Heads: 2\n",
            "Enter total number of Legs: 8\n",
            "Total no of dogs:  2.0\n",
            "Total no of Chickens:  0.0\n"
          ]
        }
      ]
    },
    {
      "cell_type": "markdown",
      "source": [
        "# Q7:- Write a program to find the sum of squares of first n natural numbers where n will be provided by the user."
      ],
      "metadata": {
        "id": "sq0sCerFMXwj"
      }
    },
    {
      "cell_type": "code",
      "source": [
        "# take input from the user of n natural number\n",
        "n = int(input('Enter n natural number: '))\n",
        "# calculate the sum of square using formula: S = n(n+1)(2n+1)​ / (n+1)\n",
        "S = (n*((n+1)*(2*n+1))) / (n+1)\n",
        "# print out the result\n",
        "print('Sum of squares of first n natural number: ', S)"
      ],
      "metadata": {
        "id": "OXRSAKEM8C09",
        "colab": {
          "base_uri": "https://localhost:8080/"
        },
        "outputId": "ec6b0c6d-d224-4a1e-94cd-51695f14b944"
      },
      "execution_count": null,
      "outputs": [
        {
          "output_type": "stream",
          "name": "stdout",
          "text": [
            "Enter n natural number: 5\n",
            "Sum of squares of first n natural number:  55.0\n"
          ]
        }
      ]
    },
    {
      "cell_type": "markdown",
      "source": [
        "# Q8:- Given the first 2 terms of an Arithmetic Series.Find the Nth term of the series. Assume all inputs are provided by the user."
      ],
      "metadata": {
        "id": "J49-HBUOP8Nh"
      }
    },
    {
      "cell_type": "code",
      "source": [
        "# take input from the user of 1st two terms &\n",
        "a1 = int(input('Enter 1st term of the series: '))\n",
        "a2 = int(input('Enter 2nd term of the series: '))\n",
        "# nth term that we want to find\n",
        "n = int(input('Enter nth term of arithmatic series: '))\n",
        "# calculate the distance between two terms: d = a2 - a1\n",
        "d = a2 - a1\n",
        "# calculate nth term oth arithmatic series using formula: an​=a1​+(n−1)⋅d\n",
        "an = a1+(n-1)*d\n",
        "# printing out the result\n",
        "print(f'{n}th term of the series is: {an}')"
      ],
      "metadata": {
        "colab": {
          "base_uri": "https://localhost:8080/"
        },
        "id": "bzsg7WVLP937",
        "outputId": "709c9cd6-34fa-4385-ede2-b59a2dd946eb"
      },
      "execution_count": null,
      "outputs": [
        {
          "output_type": "stream",
          "name": "stdout",
          "text": [
            "Enter 1st term of the series: 5\n",
            "Enter 2nd term of the series: 9\n",
            "Enter nth term of arithmatic series: 10\n",
            "10th term of the series is: 41\n"
          ]
        }
      ]
    },
    {
      "cell_type": "markdown",
      "source": [
        "# Q9:- Given 2 fractions, find the sum of those 2 fractions.Take the numerator and denominator values of the fractions from the user."
      ],
      "metadata": {
        "id": "H6IlQPgRXHtt"
      }
    },
    {
      "cell_type": "code",
      "source": [
        "# take 1st fraction numerator and denominator from user\n",
        "n1 = int(input(\"Enter 1st fraction's numerator: \"))\n",
        "d1 = int(input(\"Enter 1st fraction's denominator: \"))\n",
        "# take 2nd fraction numerator and denominator from user\n",
        "n2 = int(input(\"Enter 1st fraction's numerator: \"))\n",
        "d2 = int(input(\"Enter 1st fraction's denominator: \"))\n",
        "# find least common diviser: LCD = d1 * d2\n",
        "LCD = d1 * d2\n",
        "# 1st fraction value\n",
        "f1 = ((n1 * d2)/ (d1 *d2)) * LCD\n",
        "#2nd fraction value\n",
        "f2 = ((n2 * d1) / (d2 * d1)) * LCD\n",
        "# calculate sum of the fractions\n",
        "S = (f1 + f2) / LCD\n",
        "print('Sum of the given two fraction is: ', S)"
      ],
      "metadata": {
        "colab": {
          "base_uri": "https://localhost:8080/"
        },
        "id": "7oCTeHfzPVWD",
        "outputId": "5c896295-75f9-49b8-b849-e116c0e4566e"
      },
      "execution_count": null,
      "outputs": [
        {
          "output_type": "stream",
          "name": "stdout",
          "text": [
            "Enter 1st fraction's numerator: 2\n",
            "Enter 1st fraction's denominator: 5\n",
            "Enter 1st fraction's numerator: 3\n",
            "Enter 1st fraction's denominator: 4\n",
            "Sum of the given two fraction is:  1.15\n"
          ]
        }
      ]
    },
    {
      "cell_type": "markdown",
      "source": [
        "# Q10:- Given the height, width and breadth of a milk tank, you have to find out how many glasses of milk can be obtained? Assume all the inputs are provided by the user.\n",
        "\n",
        "Input:\n",
        "Dimensions of the milk tank\n",
        "H = 20cm, L = 20cm, B = 20cm\n",
        "\n",
        "Dimensions of the glass\n",
        "h = 3cm, r = 1cm"
      ],
      "metadata": {
        "id": "bJE91WzWkhwc"
      }
    },
    {
      "cell_type": "code",
      "source": [
        "import math\n",
        "# taking dimensions of tank and glass from user, finds out how many glasses of milk can be obtained from a milk tank\n",
        "# steps\n",
        "# taking dimensions of milk tank\n",
        "# height of tank\n",
        "H = int(input(\"Enter height of tank: \"))\n",
        "# length of tank\n",
        "L = int(input(\"Enter length of tank: \"))\n",
        "# breadth of tank\n",
        "B = int(input(\"Enter the breadth of tank: \"))\n",
        "# calculating volume of milk tank\n",
        "VOT = H * L *B\n",
        "print(f'Total volume of a tank is: {VOT}cm')\n",
        "# taking dimensions of glass\n",
        "# radius of glass\n",
        "r = int(input(\"Enter the radius of glass: \"))\n",
        "# height of glass\n",
        "h = int(input(\"Enter the height of glass: \"))\n",
        "# applying formula to calculate the volume of glass\n",
        "# volume = pi*(r^2)*h\n",
        "VOG = 3.14*(r**2)*h\n",
        "print(f'Total volume of a glass is: {VOG}cm')\n",
        "# number of milk glass we can obtain from milk tank\n",
        "No_of_glass = VOT / VOG\n",
        "# displaying the output\n",
        "print(f'No. of glasses of milk obtained from milk tank are: {math.floor(No_of_glass)}')"
      ],
      "metadata": {
        "colab": {
          "base_uri": "https://localhost:8080/"
        },
        "id": "5OC2HS9aXJsz",
        "outputId": "19299c8c-0ab3-4b00-9481-8320c1573b4d"
      },
      "execution_count": null,
      "outputs": [
        {
          "output_type": "stream",
          "name": "stdout",
          "text": [
            "Enter height of tank: 10\n",
            "Enter length of tank: 19\n",
            "Enter the breadth of tank: 10\n",
            "Total volume of a tank is: 1900cm\n",
            "Enter the radius of glass: 5\n",
            "Enter the height of glass: 2\n",
            "Total volume of a glass is: 157.0cm\n",
            "No. of glasses of milk obtained from milk tank are: 12\n"
          ]
        }
      ]
    },
    {
      "cell_type": "code",
      "source": [
        "3"
      ],
      "metadata": {
        "id": "e55TEoYokkZQ"
      },
      "execution_count": null,
      "outputs": []
    }
  ]
}