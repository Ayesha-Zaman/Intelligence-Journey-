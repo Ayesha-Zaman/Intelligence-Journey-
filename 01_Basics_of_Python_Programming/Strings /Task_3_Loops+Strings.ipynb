{
  "nbformat": 4,
  "nbformat_minor": 0,
  "metadata": {
    "colab": {
      "provenance": [],
      "authorship_tag": "ABX9TyOJuCBBsqOexb460cAMIL1n",
      "include_colab_link": true
    },
    "kernelspec": {
      "name": "python3",
      "display_name": "Python 3"
    },
    "language_info": {
      "name": "python"
    }
  },
  "cells": [
    {
      "cell_type": "markdown",
      "metadata": {
        "id": "view-in-github",
        "colab_type": "text"
      },
      "source": [
        "<a href=\"https://colab.research.google.com/github/Ayesha-Zaman/Intelligence-Journey-/blob/main/01_Basics_of_Python_Programming/Strings%20/Task_3_Loops%2BStrings.ipynb\" target=\"_parent\"><img src=\"https://colab.research.google.com/assets/colab-badge.svg\" alt=\"Open In Colab\"/></a>"
      ]
    },
    {
      "cell_type": "markdown",
      "source": [
        "### `Problem 1` - Print the following pattern. Write a program to use for loop to print the following reverse number pattern.\n",
        "\n",
        "```bash\n",
        "5 4 3 2 1\n",
        "4 3 2 1\n",
        "3 2 1\n",
        "2 1\n",
        "1\n",
        "```"
      ],
      "metadata": {
        "id": "QuQaiFaVeftK"
      }
    },
    {
      "cell_type": "code",
      "execution_count": null,
      "metadata": {
        "id": "LWT6xix_590n",
        "colab": {
          "base_uri": "https://localhost:8080/"
        },
        "outputId": "c7accc22-d664-41a6-d5d9-238b42910ef9"
      },
      "outputs": [
        {
          "output_type": "stream",
          "name": "stdout",
          "text": [
            "Enter number 6\n",
            "6 5 4 3 2 1 \n",
            "5 4 3 2 1 \n",
            "4 3 2 1 \n",
            "3 2 1 \n",
            "2 1 \n",
            "1 \n"
          ]
        }
      ],
      "source": [
        "num = int(input('Enter number '))\n",
        "\n",
        "for i in range(num, 0, -1):\n",
        "  for j in range(i, 0, -1):\n",
        "    print(j, end = ' ')\n",
        "  print()\n"
      ]
    },
    {
      "cell_type": "markdown",
      "source": [
        "### `Problem 2`: Print the following pattern.\n",
        "\n",
        "```bash\n",
        "*\n",
        "* *\n",
        "* * *\n",
        "* * * *\n",
        "* * * * *\n",
        "* * * *\n",
        "* * *\n",
        "* *\n",
        "*\n",
        "```"
      ],
      "metadata": {
        "id": "m7SSWoCuj2fn"
      }
    },
    {
      "cell_type": "code",
      "source": [
        "num = int(input('Enter number '))\n",
        "\n",
        "for i in range(1, num+1):\n",
        "  for j in range(0, i):\n",
        "    print('*', end = ' ')\n",
        "  print()\n",
        "\n",
        "for k in range(num, 1, -1):\n",
        "  for l in range(k, 1, -1):\n",
        "    print('*', end = ' ')\n",
        "  print()"
      ],
      "metadata": {
        "colab": {
          "base_uri": "https://localhost:8080/"
        },
        "id": "0ixm_7SHehAa",
        "outputId": "3f8dd630-3d22-46e8-98d1-9c34959cc131"
      },
      "execution_count": null,
      "outputs": [
        {
          "output_type": "stream",
          "name": "stdout",
          "text": [
            "Enter number 5\n",
            "* \n",
            "* * \n",
            "* * * \n",
            "* * * * \n",
            "* * * * * \n",
            "* * * * \n",
            "* * * \n",
            "* * \n",
            "* \n"
          ]
        }
      ]
    },
    {
      "cell_type": "markdown",
      "source": [
        "### `Problem 3`:Write a program to pring the following pattern\n",
        "\n",
        "        *\n",
        "       * *\n",
        "      * * *\n",
        "   * * * * * * *\n",
        "* * * * * * * * *\n"
      ],
      "metadata": {
        "id": "3g31f4isXE-5"
      }
    },
    {
      "cell_type": "code",
      "source": [
        "num = int(input('Enter number '))\n",
        "\n",
        "for i in range(1, num+1):\n",
        "  print(' '*num , end = '')\n",
        "  print('* '*i)\n",
        "  num = num-1"
      ],
      "metadata": {
        "colab": {
          "base_uri": "https://localhost:8080/"
        },
        "id": "zeJWiVhBVW5-",
        "outputId": "5b9783c2-d7a5-4708-8fc6-54c7d63bc04d"
      },
      "execution_count": null,
      "outputs": [
        {
          "output_type": "stream",
          "name": "stdout",
          "text": [
            "Enter number 5\n",
            "     * \n",
            "    * * \n",
            "   * * * \n",
            "  * * * * \n",
            " * * * * * \n"
          ]
        }
      ]
    },
    {
      "cell_type": "markdown",
      "source": [
        "### `Problem 3`:Write a program to print the following pattern\n",
        "\n",
        "        *\n",
        "      * * *\n",
        "    * * * * *\n",
        "   * * * * * * *\n",
        "* * * * * * * * *\n"
      ],
      "metadata": {
        "id": "4AFVxc4mriBm"
      }
    },
    {
      "cell_type": "code",
      "source": [
        "num = int(input('Enter number '))\n",
        "\n",
        "for i in range(1, num+1):\n",
        "  for j in range(num, i, -1):\n",
        "    print(' ', end = ' ')\n",
        "  for k in range(1, i+1):\n",
        "    print('*', end = ' ')\n",
        "  for l in range(1, i):\n",
        "    print('*', end =' ')\n",
        "  print()"
      ],
      "metadata": {
        "colab": {
          "base_uri": "https://localhost:8080/"
        },
        "id": "N-btZToVjzV8",
        "outputId": "8ef13a84-3c4c-492a-c683-7201dbab3d02"
      },
      "execution_count": null,
      "outputs": [
        {
          "output_type": "stream",
          "name": "stdout",
          "text": [
            "Enter number 5\n",
            "        * \n",
            "      * * * \n",
            "    * * * * * \n",
            "  * * * * * * * \n",
            "* * * * * * * * * \n"
          ]
        }
      ]
    },
    {
      "cell_type": "markdown",
      "source": [
        "### `Problem 4`:Write a program to print the following pattern\n",
        "\n",
        "1\n",
        "\n",
        "2 1\n",
        "\n",
        "3 2 1\n",
        "\n",
        "4 3 2 1\n",
        "\n",
        "5 4 3 2 1"
      ],
      "metadata": {
        "id": "zyeurkzn1ZRG"
      }
    },
    {
      "cell_type": "code",
      "source": [
        "num = int(input('Enter number '))\n",
        "\n",
        "for i in range(1, num+1):\n",
        "  for j in range(i, 0, -1):\n",
        "    print(j, end = ' ')\n",
        "  print()"
      ],
      "metadata": {
        "colab": {
          "base_uri": "https://localhost:8080/"
        },
        "id": "8npVZwMnrxFi",
        "outputId": "2b8049f5-7790-4f55-a8f0-d8db3ed28b35"
      },
      "execution_count": null,
      "outputs": [
        {
          "output_type": "stream",
          "name": "stdout",
          "text": [
            "Enter number 5\n",
            "1 \n",
            "2 1 \n",
            "3 2 1 \n",
            "4 3 2 1 \n",
            "5 4 3 2 1 \n"
          ]
        }
      ]
    },
    {
      "cell_type": "markdown",
      "source": [
        "### `Problem 5`: Write a Python Program to Find the Sum of the Series till the nth term:<br>\n",
        "1 + x^2/2 + x^3/3 + … x^n/n<br>\n",
        "n will be provided by the user"
      ],
      "metadata": {
        "id": "bU6CR15U9tbD"
      }
    },
    {
      "cell_type": "code",
      "source": [
        "x = int(input('Enter the variable '))\n",
        "n = int(input('Enter the number of terms '))\n",
        "sum = 1\n",
        "s = '1 +'\n",
        "for i in range(2, n+1):\n",
        "  sum = sum + (x**i)/i\n",
        "  s = s + 'x^{}/{} +'.format(i,i)\n",
        "print(s[:-1])\n",
        "print('Sum of the series till {}th term is {}'.format(n, sum))"
      ],
      "metadata": {
        "id": "qXioNq3u3GlO",
        "colab": {
          "base_uri": "https://localhost:8080/"
        },
        "outputId": "0625980c-a285-4851-8be0-dc48c063d3e7"
      },
      "execution_count": null,
      "outputs": [
        {
          "output_type": "stream",
          "name": "stdout",
          "text": [
            "Enter the variable 12\n",
            "Enter the number of terms 5\n",
            "1 +x^2/2 +x^3/3 +x^4/4 +x^5/5 \n",
            "Sum of the series till 5th term is 55599.4\n"
          ]
        }
      ]
    },
    {
      "cell_type": "code",
      "source": [],
      "metadata": {
        "id": "Fp6DuWKO9uMF"
      },
      "execution_count": null,
      "outputs": []
    },
    {
      "cell_type": "markdown",
      "source": [
        "### `Problem 6`: The natural logarithm can be approximated by the following series.\n",
        "\n",
        "If x is input through the keyboard, write a program to calculate the sum of the first seven terms of this series.\n"
      ],
      "metadata": {
        "id": "5xbGdZN_cPEX"
      }
    },
    {
      "cell_type": "code",
      "source": [
        "x = int(input('Enter the variable '))\n",
        "n = int(input('Enter the number of terms '))\n",
        "sum = 0\n",
        "s = ''\n",
        "\n",
        "for i in range(1, n+1):\n",
        "  sum = sum + (1/i)*((x-1)/x)**i\n",
        "  s = s + '(1/{})*((x-1)/x)^{} +'.format(i,i)\n",
        "print(s[:-1])\n",
        "print('Sum of the series till 7th term is {}'.format(sum))"
      ],
      "metadata": {
        "colab": {
          "base_uri": "https://localhost:8080/"
        },
        "id": "xrKd0GyejRI9",
        "outputId": "83ef01cc-59ce-4fcd-e849-2c98e5325022"
      },
      "execution_count": null,
      "outputs": [
        {
          "output_type": "stream",
          "name": "stdout",
          "text": [
            "Enter the variable 9\n",
            "Enter the number of terms 4\n",
            "(1/1)*((x-1)/x)^1 +(1/2)*((x-1)/x)^2 +(1/3)*((x-1)/x)^3 +(1/4)*((x-1)/x)^4 \n",
            "Sum of the series till 7th term is 1.6741350403901842\n"
          ]
        }
      ]
    },
    {
      "cell_type": "markdown",
      "source": [
        "### `Problem 7` - Find the sum of the series upto n terms.\n",
        "Write a program to calculate the sum of series up to n term. For example, if n =5 the series will become 2 + 22 + 222 + 2222 + 22222 = 24690. Take the user input and then calculate. And the output style should match which is given in the example.\n",
        "\n",
        "**Example 1:**\n",
        "\n",
        "`Input:`\n",
        "```bash\n",
        "5\n",
        "```\n",
        "\n",
        "`Output:`\n",
        "\n",
        "```bash\n",
        "2+22+222+2222+22222\n",
        "Sum of above series is: 24690\n",
        "```"
      ],
      "metadata": {
        "id": "vtzyrvyoqO1I"
      }
    },
    {
      "cell_type": "code",
      "source": [
        "x = int(input('Enter the variable '))\n",
        "n = int(input('Enter the number of terms '))\n",
        "\n",
        "sum = 0\n",
        "start = x\n",
        "for i in range(0,n):\n",
        "  if i < n-1:\n",
        "    print(start,end='+')\n",
        "  else:\n",
        "    print(start)\n",
        "\n",
        "  sum = sum + start\n",
        "  start = start*10 + x\n",
        "\n",
        "print('sum of above series is', sum)"
      ],
      "metadata": {
        "colab": {
          "base_uri": "https://localhost:8080/"
        },
        "id": "eKMksCEgkxg_",
        "outputId": "656d1fdd-056d-4f72-e30e-90640c4271f0"
      },
      "execution_count": null,
      "outputs": [
        {
          "output_type": "stream",
          "name": "stdout",
          "text": [
            "Enter the variable 2\n",
            "Enter the number of terms 5\n",
            "2+22+222+2222+22222\n",
            "sum of above series is 24690\n"
          ]
        }
      ]
    },
    {
      "cell_type": "markdown",
      "source": [
        "###`Problem 8`: Write a program to print all the unique combinations of 1,2,3 and 4\n",
        "\n",
        "`Output`:\n",
        "```\n",
        "1 2 3 4\n",
        "1 2 4 3\n",
        "1 3 2 4\n",
        "1 3 4 2\n",
        "1 4 2 3\n",
        "1 4 3 2\n",
        "2 1 3 4\n",
        "2 1 4 3\n",
        "2 3 1 4\n",
        "2 3 4 1\n",
        "2 4 1 3\n",
        ".\n",
        ".\n",
        "and so on\n",
        "```"
      ],
      "metadata": {
        "id": "3TroqlKNyeHJ"
      }
    },
    {
      "cell_type": "code",
      "source": [
        "for i in range(1,5):\n",
        "  for j in range(1,5):\n",
        "    for k in range(1,5):\n",
        "      for m in range(1,5):\n",
        "        print(i,j,k,m)"
      ],
      "metadata": {
        "id": "TZvzhQ1SqQBD",
        "colab": {
          "base_uri": "https://localhost:8080/"
        },
        "outputId": "313307bc-13f2-416d-d94e-c50a3cd6ec28"
      },
      "execution_count": null,
      "outputs": [
        {
          "output_type": "stream",
          "name": "stdout",
          "text": [
            "1 1 1 1\n",
            "1 1 1 2\n",
            "1 1 1 3\n",
            "1 1 1 4\n",
            "1 1 2 1\n",
            "1 1 2 2\n",
            "1 1 2 3\n",
            "1 1 2 4\n",
            "1 1 3 1\n",
            "1 1 3 2\n",
            "1 1 3 3\n",
            "1 1 3 4\n",
            "1 1 4 1\n",
            "1 1 4 2\n",
            "1 1 4 3\n",
            "1 1 4 4\n",
            "1 2 1 1\n",
            "1 2 1 2\n",
            "1 2 1 3\n",
            "1 2 1 4\n",
            "1 2 2 1\n",
            "1 2 2 2\n",
            "1 2 2 3\n",
            "1 2 2 4\n",
            "1 2 3 1\n",
            "1 2 3 2\n",
            "1 2 3 3\n",
            "1 2 3 4\n",
            "1 2 4 1\n",
            "1 2 4 2\n",
            "1 2 4 3\n",
            "1 2 4 4\n",
            "1 3 1 1\n",
            "1 3 1 2\n",
            "1 3 1 3\n",
            "1 3 1 4\n",
            "1 3 2 1\n",
            "1 3 2 2\n",
            "1 3 2 3\n",
            "1 3 2 4\n",
            "1 3 3 1\n",
            "1 3 3 2\n",
            "1 3 3 3\n",
            "1 3 3 4\n",
            "1 3 4 1\n",
            "1 3 4 2\n",
            "1 3 4 3\n",
            "1 3 4 4\n",
            "1 4 1 1\n",
            "1 4 1 2\n",
            "1 4 1 3\n",
            "1 4 1 4\n",
            "1 4 2 1\n",
            "1 4 2 2\n",
            "1 4 2 3\n",
            "1 4 2 4\n",
            "1 4 3 1\n",
            "1 4 3 2\n",
            "1 4 3 3\n",
            "1 4 3 4\n",
            "1 4 4 1\n",
            "1 4 4 2\n",
            "1 4 4 3\n",
            "1 4 4 4\n",
            "2 1 1 1\n",
            "2 1 1 2\n",
            "2 1 1 3\n",
            "2 1 1 4\n",
            "2 1 2 1\n",
            "2 1 2 2\n",
            "2 1 2 3\n",
            "2 1 2 4\n",
            "2 1 3 1\n",
            "2 1 3 2\n",
            "2 1 3 3\n",
            "2 1 3 4\n",
            "2 1 4 1\n",
            "2 1 4 2\n",
            "2 1 4 3\n",
            "2 1 4 4\n",
            "2 2 1 1\n",
            "2 2 1 2\n",
            "2 2 1 3\n",
            "2 2 1 4\n",
            "2 2 2 1\n",
            "2 2 2 2\n",
            "2 2 2 3\n",
            "2 2 2 4\n",
            "2 2 3 1\n",
            "2 2 3 2\n",
            "2 2 3 3\n",
            "2 2 3 4\n",
            "2 2 4 1\n",
            "2 2 4 2\n",
            "2 2 4 3\n",
            "2 2 4 4\n",
            "2 3 1 1\n",
            "2 3 1 2\n",
            "2 3 1 3\n",
            "2 3 1 4\n",
            "2 3 2 1\n",
            "2 3 2 2\n",
            "2 3 2 3\n",
            "2 3 2 4\n",
            "2 3 3 1\n",
            "2 3 3 2\n",
            "2 3 3 3\n",
            "2 3 3 4\n",
            "2 3 4 1\n",
            "2 3 4 2\n",
            "2 3 4 3\n",
            "2 3 4 4\n",
            "2 4 1 1\n",
            "2 4 1 2\n",
            "2 4 1 3\n",
            "2 4 1 4\n",
            "2 4 2 1\n",
            "2 4 2 2\n",
            "2 4 2 3\n",
            "2 4 2 4\n",
            "2 4 3 1\n",
            "2 4 3 2\n",
            "2 4 3 3\n",
            "2 4 3 4\n",
            "2 4 4 1\n",
            "2 4 4 2\n",
            "2 4 4 3\n",
            "2 4 4 4\n",
            "3 1 1 1\n",
            "3 1 1 2\n",
            "3 1 1 3\n",
            "3 1 1 4\n",
            "3 1 2 1\n",
            "3 1 2 2\n",
            "3 1 2 3\n",
            "3 1 2 4\n",
            "3 1 3 1\n",
            "3 1 3 2\n",
            "3 1 3 3\n",
            "3 1 3 4\n",
            "3 1 4 1\n",
            "3 1 4 2\n",
            "3 1 4 3\n",
            "3 1 4 4\n",
            "3 2 1 1\n",
            "3 2 1 2\n",
            "3 2 1 3\n",
            "3 2 1 4\n",
            "3 2 2 1\n",
            "3 2 2 2\n",
            "3 2 2 3\n",
            "3 2 2 4\n",
            "3 2 3 1\n",
            "3 2 3 2\n",
            "3 2 3 3\n",
            "3 2 3 4\n",
            "3 2 4 1\n",
            "3 2 4 2\n",
            "3 2 4 3\n",
            "3 2 4 4\n",
            "3 3 1 1\n",
            "3 3 1 2\n",
            "3 3 1 3\n",
            "3 3 1 4\n",
            "3 3 2 1\n",
            "3 3 2 2\n",
            "3 3 2 3\n",
            "3 3 2 4\n",
            "3 3 3 1\n",
            "3 3 3 2\n",
            "3 3 3 3\n",
            "3 3 3 4\n",
            "3 3 4 1\n",
            "3 3 4 2\n",
            "3 3 4 3\n",
            "3 3 4 4\n",
            "3 4 1 1\n",
            "3 4 1 2\n",
            "3 4 1 3\n",
            "3 4 1 4\n",
            "3 4 2 1\n",
            "3 4 2 2\n",
            "3 4 2 3\n",
            "3 4 2 4\n",
            "3 4 3 1\n",
            "3 4 3 2\n",
            "3 4 3 3\n",
            "3 4 3 4\n",
            "3 4 4 1\n",
            "3 4 4 2\n",
            "3 4 4 3\n",
            "3 4 4 4\n",
            "4 1 1 1\n",
            "4 1 1 2\n",
            "4 1 1 3\n",
            "4 1 1 4\n",
            "4 1 2 1\n",
            "4 1 2 2\n",
            "4 1 2 3\n",
            "4 1 2 4\n",
            "4 1 3 1\n",
            "4 1 3 2\n",
            "4 1 3 3\n",
            "4 1 3 4\n",
            "4 1 4 1\n",
            "4 1 4 2\n",
            "4 1 4 3\n",
            "4 1 4 4\n",
            "4 2 1 1\n",
            "4 2 1 2\n",
            "4 2 1 3\n",
            "4 2 1 4\n",
            "4 2 2 1\n",
            "4 2 2 2\n",
            "4 2 2 3\n",
            "4 2 2 4\n",
            "4 2 3 1\n",
            "4 2 3 2\n",
            "4 2 3 3\n",
            "4 2 3 4\n",
            "4 2 4 1\n",
            "4 2 4 2\n",
            "4 2 4 3\n",
            "4 2 4 4\n",
            "4 3 1 1\n",
            "4 3 1 2\n",
            "4 3 1 3\n",
            "4 3 1 4\n",
            "4 3 2 1\n",
            "4 3 2 2\n",
            "4 3 2 3\n",
            "4 3 2 4\n",
            "4 3 3 1\n",
            "4 3 3 2\n",
            "4 3 3 3\n",
            "4 3 3 4\n",
            "4 3 4 1\n",
            "4 3 4 2\n",
            "4 3 4 3\n",
            "4 3 4 4\n",
            "4 4 1 1\n",
            "4 4 1 2\n",
            "4 4 1 3\n",
            "4 4 1 4\n",
            "4 4 2 1\n",
            "4 4 2 2\n",
            "4 4 2 3\n",
            "4 4 2 4\n",
            "4 4 3 1\n",
            "4 4 3 2\n",
            "4 4 3 3\n",
            "4 4 3 4\n",
            "4 4 4 1\n",
            "4 4 4 2\n",
            "4 4 4 3\n",
            "4 4 4 4\n"
          ]
        }
      ]
    },
    {
      "cell_type": "markdown",
      "source": [
        "###`Problem 9`: Write a program that will take a decimal number as input and prints out the binary equivalent of the number"
      ],
      "metadata": {
        "id": "4LaDQGazHsRS"
      }
    },
    {
      "cell_type": "code",
      "source": [
        "number = int(input('Enter the number '))\n",
        "\n",
        "L = []\n",
        "\n",
        "while number != 0:\n",
        "\n",
        "  rem = number % 2\n",
        "  number = number // 2\n",
        "  L.append(rem)\n",
        "L.reverse()\n",
        "int_List = int(\"\".join(str(j) for j in L))\n",
        "print('binary value is {}'.format(int_List))"
      ],
      "metadata": {
        "colab": {
          "base_uri": "https://localhost:8080/"
        },
        "id": "bhA3bVsxHtdN",
        "outputId": "a3b05c88-ad2a-4692-ee18-4f0a61140955"
      },
      "execution_count": null,
      "outputs": [
        {
          "output_type": "stream",
          "name": "stdout",
          "text": [
            "Enter the number 17\n",
            "binary value is 10001\n"
          ]
        }
      ]
    },
    {
      "cell_type": "markdown",
      "source": [
        "###`Problem 10`: Write a program that will take 2 numbers as input and prints the LCM and HCF of those 2 numbers"
      ],
      "metadata": {
        "id": "Zwacf8oXY-AG"
      }
    },
    {
      "cell_type": "code",
      "source": [
        "a = int(input('Enter 1st number '))\n",
        "b = int(input('Enter 2nd number '))\n",
        "\n",
        "# HCF formula is: HCF(a, b) = HCF(b, a % b)\n",
        "# when b will be 0, then HCF will be value of a\n",
        "x = a\n",
        "y = b\n",
        "while y!= 0:\n",
        "  mod = x % y\n",
        "  x = y\n",
        "  y = mod\n",
        "else:\n",
        "  HCF = x\n",
        "\n",
        "print('HCF({}, {}) is {}'.format(a, b, HCF))\n",
        "\n",
        "# calculating LCM\n",
        "# formula to calculate LCM: LCM(a, b) = (a × b) / HCF(a, b)\n",
        "LCM = (a * b) / HCF\n",
        "print('LCM({}, {}) is {}'.format(a, b, LCM))\n"
      ],
      "metadata": {
        "id": "ektqD5s6Y-kk",
        "colab": {
          "base_uri": "https://localhost:8080/"
        },
        "outputId": "d9eaf2a6-519c-4121-de4e-ea7430ec4ef6"
      },
      "execution_count": null,
      "outputs": [
        {
          "output_type": "stream",
          "name": "stdout",
          "text": [
            "Enter 1st number 48\n",
            "Enter 2nd number 18\n",
            "HCF(48, 18) is 6\n",
            "LCM(48, 18) is 144.0\n"
          ]
        }
      ]
    },
    {
      "cell_type": "markdown",
      "source": [
        "### **Problem 11:** Create Short Form from initial character\n",
        "Given a string create short form ofthe string from Initial character. Short form should be capitalised.\n",
        "\n",
        "Example:\n",
        "\n",
        "`Input:`\n",
        "```\n",
        "Data science mentorship program\n",
        "```\n",
        "\n",
        "`Output:`\n",
        "```\n",
        "DSMP\n",
        "```"
      ],
      "metadata": {
        "id": "dcnna_b-nssp"
      }
    },
    {
      "cell_type": "code",
      "source": [
        "s = input('Enter the string ')\n",
        "\n",
        "L = []\n",
        "\n",
        "for i in s.split():\n",
        "  L.append(i[0].upper())\n",
        "\n",
        "print(''.join(L))"
      ],
      "metadata": {
        "id": "_-Gck2UOVo6M",
        "colab": {
          "base_uri": "https://localhost:8080/"
        },
        "outputId": "23b98e49-2e47-46f9-a109-da40e4574afb"
      },
      "execution_count": null,
      "outputs": [
        {
          "output_type": "stream",
          "name": "stdout",
          "text": [
            "Enter the string greatest Of all time\n",
            "GOAT\n"
          ]
        }
      ]
    },
    {
      "cell_type": "markdown",
      "source": [
        "###`Problem 12`: Append second string in the middle of first string\n",
        "\n",
        "`Input:`\n",
        "```\n",
        "campusx\n",
        "data\n",
        "```\n",
        "`Output`:\n",
        "\n",
        "```\n",
        "camdatapusx\n",
        "```"
      ],
      "metadata": {
        "id": "uY_Y39ojtY73"
      }
    },
    {
      "cell_type": "code",
      "source": [
        "s1 = input('Enter 1st string ')\n",
        "s2 = input('Enter 2nd string ')\n",
        "\n",
        "\n",
        "mid  = len(s1) // 2\n",
        "s1_1st_half = s1[0: mid]\n",
        "s1_2nd_half = s1[mid: len(s1)]\n",
        "\n",
        "print(s1_1st_half+s2+s1_2nd_half)"
      ],
      "metadata": {
        "colab": {
          "base_uri": "https://localhost:8080/"
        },
        "id": "5mozRp3HnttE",
        "outputId": "dfc6abf2-3b6f-42b5-f4de-bc3bdcca9021"
      },
      "execution_count": null,
      "outputs": [
        {
          "output_type": "stream",
          "name": "stdout",
          "text": [
            "Enter 1st string ayesha\n",
            "Enter 2nd string noreen\n",
            "ayenoreensha\n"
          ]
        }
      ]
    },
    {
      "cell_type": "markdown",
      "source": [
        "### ``Problem 13``:Given string contains a combination of the lower and upper case letters. Write a program to arrange the characters of a string so that all lowercase letters should come first.\n",
        "\n",
        "Given:\n",
        "\n",
        "`str1 = PyNaTive`\n",
        "\n",
        "Expected Output:\n",
        "\n",
        "`yaivePNT`"
      ],
      "metadata": {
        "id": "Ay-Mqe7DOWx0"
      }
    },
    {
      "cell_type": "code",
      "source": [
        "s = input('Enter a string ')\n",
        "\n",
        "lower = ''\n",
        "upper = ''\n",
        "for i in s:\n",
        "  if i.islower():\n",
        "    lower += i\n",
        "  else:\n",
        "    upper += i\n",
        "\n",
        "print(lower+upper)\n"
      ],
      "metadata": {
        "id": "aiz75JtgJTeO",
        "colab": {
          "base_uri": "https://localhost:8080/"
        },
        "outputId": "cb2b385c-ad57-4850-c0d5-5b7811a5ebd9"
      },
      "execution_count": null,
      "outputs": [
        {
          "output_type": "stream",
          "name": "stdout",
          "text": [
            "Enter a string AyeSHa\n",
            "yeaASH\n"
          ]
        }
      ]
    },
    {
      "cell_type": "markdown",
      "source": [
        "### `Problem 14:`Take a alphanumeric string input and print the sum and average of the digits that appear in the string, ignoring all other characters.\n",
        "\n",
        "Input:\n",
        "\n",
        "`hel123O4every093`\n",
        "\n",
        "Output:\n",
        "\n",
        "```\n",
        "Sum: 22\n",
        "Avg: 2.75\n",
        "```"
      ],
      "metadata": {
        "id": "Z16AZ30qhoY3"
      }
    },
    {
      "cell_type": "code",
      "source": [
        "s = input('Enter alphanumeric string ')\n",
        "\n",
        "sum = 0\n",
        "count = 0\n",
        "for i in s:\n",
        "  if i.isdigit():\n",
        "    sum += int(i)\n",
        "    count += 1\n",
        "Average = sum / count\n",
        "print(sum)\n",
        "print(Average)"
      ],
      "metadata": {
        "colab": {
          "base_uri": "https://localhost:8080/"
        },
        "id": "zSrBOWzQOYMR",
        "outputId": "220c85ff-63f0-49d7-9dfe-873cabea0265"
      },
      "execution_count": null,
      "outputs": [
        {
          "output_type": "stream",
          "name": "stdout",
          "text": [
            "Enter alphanumeric string hello123word789\n",
            "30\n",
            "5.0\n"
          ]
        }
      ]
    },
    {
      "cell_type": "code",
      "source": [],
      "metadata": {
        "id": "gd3b7MYaho6U"
      },
      "execution_count": null,
      "outputs": []
    },
    {
      "cell_type": "markdown",
      "source": [
        "### `Problem 15:` Removal of all characters from a string except integers\n",
        "`Given:`\n",
        "\n",
        "```\n",
        "str1 = 'I am 25 years and 10 months old'\n",
        "```\n",
        "`Expected Output:`\n",
        "```\n",
        "2510\n",
        "```"
      ],
      "metadata": {
        "id": "g00Al3q7tV8s"
      }
    },
    {
      "cell_type": "code",
      "source": [
        "s = input('Enter string ')\n",
        "\n",
        "for i in s:\n",
        "  if i.isdigit():\n",
        "    print(i, end = '')"
      ],
      "metadata": {
        "colab": {
          "base_uri": "https://localhost:8080/"
        },
        "id": "-fQrJsWctW3H",
        "outputId": "eba3ff5c-f7e6-4c06-be79-f0246856bb5d"
      },
      "execution_count": null,
      "outputs": [
        {
          "output_type": "stream",
          "name": "stdout",
          "text": [
            "Enter string I am 22 years and 4 months old\n",
            "224"
          ]
        }
      ]
    },
    {
      "cell_type": "markdown",
      "source": [
        "### `Problem 16`: Check whether the string is Symmetrical.\n",
        "\n",
        "**Statement:** Given a string. the task is to check if the string is symmetrical or not. A string is said to be symmetrical if both the halves of the string are the same.\n",
        "\n",
        "**Example 1:**\n",
        "\n",
        "`Input`\n",
        "\n",
        "```bash\n",
        "khokho\n",
        "```\n",
        "\n",
        "`Output`\n",
        "\n",
        "```bash\n",
        "The entered string is symmetrical\n",
        "```"
      ],
      "metadata": {
        "id": "dIKkopr6w80l"
      }
    },
    {
      "cell_type": "code",
      "source": [
        "s = input('Enter string ')\n",
        "\n",
        "if len(s) % 2 == 0:\n",
        "  s1 = s[ :len(s)/2]\n",
        "  s2 = s[len(s)/2: ]\n",
        "else:\n",
        "  s1 = s[ :len(s)//2]\n",
        "  s2 = s[len(s)//2 + 1: ]\n",
        "if s1 == s2:\n",
        "  print('Symmetrical')\n",
        "else:\n",
        "  print('Not Symmetrical')"
      ],
      "metadata": {
        "colab": {
          "base_uri": "https://localhost:8080/"
        },
        "id": "pNYvj0T1vsFg",
        "outputId": "284af088-1b0e-46ee-ff0c-89a8af981e5f"
      },
      "execution_count": null,
      "outputs": [
        {
          "output_type": "stream",
          "name": "stdout",
          "text": [
            "Enter string khovkho\n",
            "Symmetrical\n"
          ]
        }
      ]
    },
    {
      "cell_type": "markdown",
      "source": [
        "### `Problem 17`: Reverse words in a given String\n",
        "\n",
        "**Statement:** We are given a string and we need to reverse words of a given string.\n",
        "\n",
        "**Example 1:**\n",
        "\n",
        "`Input:`\n",
        "\n",
        "```bash\n",
        "geeks quiz practice code\n",
        "```\n",
        "\n",
        "`Output:`\n",
        "\n",
        "```bash\n",
        "code practice quiz geeks\n",
        "```\n",
        "\n",
        "**Example 2:**\n",
        "\n",
        "`Input:`\n",
        "\n",
        "```bash\n",
        "my name is laxmi\n",
        "```\n",
        "\n",
        "`Output:`\n",
        "\n",
        "```bash\n",
        "laxmi is name my\n",
        "```"
      ],
      "metadata": {
        "id": "yKnGC7hT7GvO"
      }
    },
    {
      "cell_type": "code",
      "source": [
        "s = input('Enter the string ')\n",
        "\n",
        "L = []\n",
        "\n",
        "for i in s.split():\n",
        "  L.append(i)\n",
        "\n",
        "L.reverse()\n",
        "print(' '.join(L))"
      ],
      "metadata": {
        "colab": {
          "base_uri": "https://localhost:8080/"
        },
        "id": "7YnEQzCb0-XX",
        "outputId": "53165108-2b98-4216-f989-a759b90b0297"
      },
      "execution_count": null,
      "outputs": [
        {
          "output_type": "stream",
          "name": "stdout",
          "text": [
            "Enter the string hy akhi how are you doing\n",
            "doing you are how akhi hy\n"
          ]
        }
      ]
    },
    {
      "cell_type": "markdown",
      "source": [
        "### `Problem 18`: Find uncommon words from two Strings.\n",
        "\n",
        "**Statement:** Given two sentences as strings **A** and **B**. The task is to return a list of all uncommon words. A word is uncommon if it appears exactly once in any one of the sentences, and does not appear in the other sentence. Note: A sentence is a string of space-separated words. Each word consists only of lowercase letters.\n",
        "\n",
        "**Example 1:**\n",
        "\n",
        "`Input:`\n",
        "\n",
        "```bash\n",
        "A = \"apple banana mango\"\n",
        "B = \"banana fruits mango\"\n",
        "```\n",
        "\n",
        "`Output:`\n",
        "\n",
        "```bash\n",
        "['apple', 'fruits']\n",
        "```"
      ],
      "metadata": {
        "id": "cAfmE__uz0Rb"
      }
    },
    {
      "cell_type": "code",
      "source": [
        "A = input('Enter 1st sentence ')\n",
        "B = input('Enter 2nd sentence ')\n",
        "L = []\n",
        "for i in A.split():\n",
        "  if i not in B and i not in L:\n",
        "    L.append(i)\n",
        "for j in B.split():\n",
        "    if j not in A and j not in L:\n",
        "      L.append(j)\n",
        "\n",
        "print(', '.join(L))"
      ],
      "metadata": {
        "id": "Rz5jS6wU79kB",
        "colab": {
          "base_uri": "https://localhost:8080/"
        },
        "outputId": "466949ea-c779-4cad-b2e8-0b6e0eee59bc"
      },
      "execution_count": null,
      "outputs": [
        {
          "output_type": "stream",
          "name": "stdout",
          "text": [
            "Enter 1st sentence strawbery apple banana grapes\n",
            "Enter 2nd sentence watermelon banana grapes kiwi\n",
            "strawbery, apple, watermelon, kiwi\n"
          ]
        }
      ]
    },
    {
      "cell_type": "markdown",
      "source": [
        "### `Problem 19`: Word location in String.\n",
        "\n",
        "**Statement:** Find a location of a word in a given sentence.\n",
        "\n",
        "**Example 1:**\n",
        "\n",
        "`Input:`\n",
        "\n",
        "```bash\n",
        "Sentence: We can learn data science through campusx mentorship program.\n",
        "\n",
        "word: campusx\n",
        "```\n",
        "\n",
        "`Output:`\n",
        "\n",
        "```bash\n",
        "Location of the word is 7.\n",
        "```\n",
        "\n",
        "Note- Don't use index/find functions"
      ],
      "metadata": {
        "id": "tfx8r5Uj3kF4"
      }
    },
    {
      "cell_type": "code",
      "source": [
        "sentence = input('Enter a sentence ')\n",
        "word = input('Enter a word to find location ')\n",
        "\n",
        "count = 1\n",
        "\n",
        "for i in sentence.split():\n",
        "  if i == word:\n",
        "    count +=1\n",
        "    break\n",
        "\n",
        "print('Location of the word {} is {}'. format(word, count))"
      ],
      "metadata": {
        "colab": {
          "base_uri": "https://localhost:8080/"
        },
        "id": "kuvTSGkqz20l",
        "outputId": "e80e41ef-4bc7-4ac5-cf0e-3fdfd02a67b4"
      },
      "execution_count": null,
      "outputs": [
        {
          "output_type": "stream",
          "name": "stdout",
          "text": [
            "Enter a sentence loving yourself isn't vanity it's sanity\n",
            "Enter a word to find location yourself\n",
            "Location of the word yourself is 2\n"
          ]
        }
      ]
    },
    {
      "cell_type": "markdown",
      "source": [
        "### `Problem 20`: Write a program that can remove all the duplicate characters from a string. User will provide the input."
      ],
      "metadata": {
        "id": "-DzMd3MjB5k-"
      }
    },
    {
      "cell_type": "code",
      "source": [
        "s = input('Enter string of characters ')\n",
        "\n",
        "result = ''\n",
        "\n",
        "for i in s:\n",
        "  if i not in result:\n",
        "    result += i\n",
        "print('characters after removing duplicates ', result)"
      ],
      "metadata": {
        "colab": {
          "base_uri": "https://localhost:8080/"
        },
        "id": "O558v0RF3k4h",
        "outputId": "ba0cbb2d-9ac6-4ebd-e8cf-306c428b1570"
      },
      "execution_count": null,
      "outputs": [
        {
          "output_type": "stream",
          "name": "stdout",
          "text": [
            "Enter string of characters banana\n",
            "characters after removing duplicates  ban\n"
          ]
        }
      ]
    },
    {
      "cell_type": "code",
      "source": [],
      "metadata": {
        "id": "x1Ee1abjB6pQ"
      },
      "execution_count": null,
      "outputs": []
    }
  ]
}