{
  "nbformat": 4,
  "nbformat_minor": 0,
  "metadata": {
    "colab": {
      "provenance": [],
      "authorship_tag": "ABX9TyNsa20+wwPWXrDKAp7vrVtc",
      "include_colab_link": true
    },
    "kernelspec": {
      "name": "python3",
      "display_name": "Python 3"
    },
    "language_info": {
      "name": "python"
    }
  },
  "cells": [
    {
      "cell_type": "markdown",
      "metadata": {
        "id": "view-in-github",
        "colab_type": "text"
      },
      "source": [
        "<a href=\"https://colab.research.google.com/github/Ayesha-Zaman/Intelligence-Journey-/blob/main/Advanced%20Python/%20File%20Handling%20%2B%20Serialization%20%26%20Deserialization/%20Task_10_File_Handling_%2B_Serialization_%26_Deserialization.ipynb\" target=\"_parent\"><img src=\"https://colab.research.google.com/assets/colab-badge.svg\" alt=\"Open In Colab\"/></a>"
      ]
    },
    {
      "cell_type": "markdown",
      "source": [
        "### `Q-1:` Write a function `get_final_line(filename)`, which takes filename as input and return final line of the file.\n",
        "\n",
        "Note: You can choose any file of your choice."
      ],
      "metadata": {
        "id": "ZnE1y3ZoU2Jl"
      }
    },
    {
      "cell_type": "code",
      "execution_count": null,
      "metadata": {
        "id": "u4wMf1iIL0BM"
      },
      "outputs": [],
      "source": [
        "# creating a file\n",
        "L = [\"Hi buddy how are you doing?\\n\", \"I'm fine. What about you?\\n\", \"Alhamdulilah! pretty good.\"]\n",
        "\n",
        "with open('sample.txt', 'w') as f:\n",
        "  f.writelines(L)\n"
      ]
    },
    {
      "cell_type": "code",
      "source": [
        "# code\n",
        "def get_final_line(filename):\n",
        "  final_line = ''\n",
        "  for current_line in open(filename, 'r'):\n",
        "    final_line = current_line\n",
        "  return final_line\n",
        "\n",
        "\n",
        "get_final_line('sample.txt')\n"
      ],
      "metadata": {
        "colab": {
          "base_uri": "https://localhost:8080/",
          "height": 35
        },
        "id": "kBlQXAW_U2zy",
        "outputId": "177b93e6-f58d-4de1-ff25-a95eecb4f50d"
      },
      "execution_count": null,
      "outputs": [
        {
          "output_type": "execute_result",
          "data": {
            "text/plain": [
              "'Alhamdulilah! pretty good.'"
            ],
            "application/vnd.google.colaboratory.intrinsic+json": {
              "type": "string"
            }
          },
          "metadata": {},
          "execution_count": 2
        }
      ]
    },
    {
      "cell_type": "markdown",
      "source": [
        "### `Q-2:` Read through a text file, line by line. Use a dict to keep track of how many times each vowel (a, e, i, o, and u) appears in the file. Print the resulting tabulation -- dictionary."
      ],
      "metadata": {
        "id": "yWpBP6EEcDx8"
      }
    },
    {
      "cell_type": "code",
      "source": [
        "# code\n",
        "def count_vowels_table(filename):\n",
        "  vowels = ['a','e','i','o','u']\n",
        "  d = {i:0 for i in vowels}\n",
        "\n",
        "  for current_line in open(filename,'r'):\n",
        "    for ch in current_line:\n",
        "      if ch.lower() in vowels:\n",
        "        d[ch.lower()] += 1\n",
        "\n",
        "  return d\n",
        "\n",
        "\n",
        "count_vowels_table('sample.txt')"
      ],
      "metadata": {
        "colab": {
          "base_uri": "https://localhost:8080/"
        },
        "id": "7YMlUCmiaUXW",
        "outputId": "1235ab0c-6f96-45c2-d07a-4788a2a65370"
      },
      "execution_count": null,
      "outputs": [
        {
          "output_type": "execute_result",
          "data": {
            "text/plain": [
              "{'a': 6, 'e': 3, 'i': 5, 'o': 7, 'u': 5}"
            ]
          },
          "metadata": {},
          "execution_count": 3
        }
      ]
    },
    {
      "cell_type": "markdown",
      "source": [
        "### `Q-3:` Create a text file (using an editor, not necessarily Python) containing two tab separated columns, with each column containing a number. Then use Python to read through the file you’ve created. For each line, multiply each first number by the second and include it in the file in third column. In last add a line Total, by summing the value of third column\n",
        "\n"
      ],
      "metadata": {
        "id": "Lu8Ti8zKeIr_"
      }
    },
    {
      "cell_type": "markdown",
      "source": [
        "Input File example: That you need to create\n",
        "```\n",
        "1   2\n",
        "3   4\n",
        "5   6\n",
        "7   8\n",
        "9   10\n",
        "\n",
        "```\n",
        "\n",
        "Output File Example:\n",
        "```\n",
        "1   2   2\n",
        "3   4   12\n",
        "5   6   30\n",
        "7   8   56\n",
        "9   10  90\n",
        "Total   190\n",
        "```\n"
      ],
      "metadata": {
        "id": "yOqbk9QieN_J"
      }
    },
    {
      "cell_type": "code",
      "source": [
        "# code\n",
        "with open('sample1.txt', 'w') as f:\n",
        "  for i in range(1,11,2):\n",
        "    line = '{}    {}\\n'.format(i, i+1)\n",
        "    f.writelines(line)\n",
        "\n",
        "with open('sample1.txt', 'r') as f:\n",
        "  lines = f.read().splitlines()\n",
        "total = 0\n",
        "\n",
        "with open('sample1.txt', 'w') as f:\n",
        "  for line in lines:\n",
        "    a,b = line.split('    ')\n",
        "    result = int(a) * int(b)\n",
        "    total += result\n",
        "    f.write('{}    {}    {}\\n'.format(a,b,result))\n",
        "  f.write('Total    {}'.format(total))"
      ],
      "metadata": {
        "id": "hG8a3-dCgDe6"
      },
      "execution_count": null,
      "outputs": []
    },
    {
      "cell_type": "markdown",
      "source": [
        "### `Q-4:` Create line wise reverse of a file\n",
        "Write a function which takes two arguments: the names of the input file (to be read from) and the output file (which will be created)."
      ],
      "metadata": {
        "id": "h3HhGMNpmID8"
      }
    },
    {
      "cell_type": "markdown",
      "source": [
        "For example, if a file looks like\n",
        " ```\n",
        "abc def\n",
        "ghi jkl\n",
        "```\n",
        "then the output file will be\n",
        "```\n",
        "fed cba\n",
        "lkj ihg\n",
        "```\n",
        "**Notice**: The newline remains at the end of the string, while the rest of the characters are all reversed."
      ],
      "metadata": {
        "id": "RFgMXl-lmMYP"
      }
    },
    {
      "cell_type": "code",
      "source": [
        "# code\n",
        "\n",
        "in_file = 'sample.txt'\n",
        "out_file = 'sample_reverse.txt'\n",
        "\n",
        "def reverse_file(in_file, out_file):\n",
        "  with open(in_file, 'r') as in_f, open(out_file, 'w') as out_f:\n",
        "    for one_line in in_f:\n",
        "      out_f.write(one_line.strip()[::-1] + '\\n')\n",
        "\n",
        "reverse_file(in_file, out_file)"
      ],
      "metadata": {
        "id": "PdxCtPNYja1d"
      },
      "execution_count": null,
      "outputs": []
    },
    {
      "cell_type": "markdown",
      "source": [
        "### `Q-5:` Create a Serialized dict of frequency of words in the file. And from given list of words, using serialized dict show word count.\n",
        "\n",
        "* List of word will be given\n",
        "\n"
      ],
      "metadata": {
        "id": "IS4SbDSugE1U"
      }
    },
    {
      "cell_type": "markdown",
      "source": [
        "Given String\n",
        "\n",
        "```\n",
        "strings = \"\"\"Alice was beginning to get very tired of sitting by her sister\n",
        "            on the bank, and of having nothing to do:  once or twice she had\n",
        "            peeped into the book her sister was reading, but it had no\n",
        "            pictures or conversations in it, `and what is the use of a book,'\n",
        "            thought Alice `without pictures or conversation?'\n",
        "\n",
        "            So she was considering in her own mind (as well as she could,\n",
        "            for the hot day made her feel very sleepy and stupid), whether\n",
        "            the pleasure of making a daisy-chain would be worth the trouble\n",
        "            of getting up and picking the daisies, when suddenly a White\n",
        "            Rabbit with pink eyes ran close by her.\n",
        "\n",
        "            There was nothing so VERY remarkable in that; nor did Alice\n",
        "            think it so VERY much out of the way to hear the Rabbit say to\n",
        "            itself, `Oh dear!  Oh dear!  I shall be late!'  (when she thought\n",
        "            it over afterwards, it occurred to her that she ought to have\n",
        "            wondered at this, but at the time it all seemed quite natural);\n",
        "            but when the Rabbit actually TOOK A WATCH OUT OF ITS WAISTCOAT-\n",
        "            POCKET, and looked at it, and then hurried on, Alice started to\n",
        "            her feet, for it flashed across her mind that she had never\n",
        "            before seen a rabbit with either a waistcoat-pocket, or a watch to\n",
        "            take out of it, and burning with curiosity, she ran across the\n",
        "            field after it, and fortunately was just in time to see it pop\n",
        "            down a large rabbit-hole under the hedge.\"\"\"\n",
        "\n",
        "word_list = ['alice', 'wonder', 'natural']\n",
        "```"
      ],
      "metadata": {
        "id": "Y3nl-59EgSHx"
      }
    },
    {
      "cell_type": "code",
      "source": [
        "# code\n",
        "\n",
        "strings = \"\"\"Alice was beginning to get very tired of sitting by her sister\n",
        "            on the bank, and of having nothing to do:  once or twice she had\n",
        "            peeped into the book her sister was reading, but it had no\n",
        "            pictures or conversations in it, `and what is the use of a book,'\n",
        "            thought Alice `without pictures or conversation?'\n",
        "\n",
        "            So she was considering in her own mind (as well as she could,\n",
        "            for the hot day made her feel very sleepy and stupid), whether\n",
        "            the pleasure of making a daisy-chain would be worth the trouble\n",
        "            of getting up and picking the daisies, when suddenly a White\n",
        "            Rabbit with pink eyes ran close by her.\n",
        "\n",
        "            There was nothing so VERY remarkable in that; nor did Alice\n",
        "            think it so VERY much out of the way to hear the Rabbit say to\n",
        "            itself, `Oh dear!  Oh dear!  I shall be late!'  (when she thought\n",
        "            it over afterwards, it occurred to her that she ought to have\n",
        "            wondered at this, but at the time it all seemed quite natural);\n",
        "            but when the Rabbit actually TOOK A WATCH OUT OF ITS WAISTCOAT-\n",
        "            POCKET, and looked at it, and then hurried on, Alice started to\n",
        "            her feet, for it flashed across her mind that she had never\n",
        "            before seen a rabbit with either a waistcoat-pocket, or a watch to\n",
        "            take out of it, and burning with curiosity, she ran across the\n",
        "            field after it, and fortunately was just in time to see it pop\n",
        "            down a large rabbit-hole under the hedge.\"\"\"\n",
        "\n",
        "word_list = ['alice', 'wonder', 'natural']\n",
        "\n",
        "\n",
        "word_count_dict = dict()\n",
        "\n",
        "for word in strings.lower().split(' '):\n",
        "  try:\n",
        "    word_count_dict[word] += 1\n",
        "  except:\n",
        "    word_count_dict[word] = 1\n",
        "\n",
        "import pickle as pkl\n",
        "\n",
        "with open('word_count_dict', 'wb') as d_file:\n",
        "  pkl.dump(word_count_dict, d_file)\n",
        "with open('word_count_dict', 'rb') as d_file:\n",
        "  word_count = pkl.load(d_file)\n",
        "\n",
        "  for s in word_list:\n",
        "    try:\n",
        "      print(s, word_count[s])\n",
        "    except:\n",
        "      print(s, 0)"
      ],
      "metadata": {
        "id": "hyYwamKLl-ht",
        "colab": {
          "base_uri": "https://localhost:8080/"
        },
        "outputId": "41a4eeac-f39f-48f3-9e62-d45a1edd50f3"
      },
      "execution_count": null,
      "outputs": [
        {
          "output_type": "stream",
          "name": "stdout",
          "text": [
            "alice 3\n",
            "wonder 0\n",
            "natural 0\n"
          ]
        }
      ]
    },
    {
      "cell_type": "markdown",
      "source": [
        "### **`Q-6:`** Write a function that accepts two numbers and returns their greatest common divisior. Without using any loop\n",
        "\n",
        "def gcd(int, int) => int\n",
        "\n",
        "```\n",
        "gcd(16,24) will give 8\n",
        "```"
      ],
      "metadata": {
        "id": "K1nHtporr-4l"
      }
    },
    {
      "cell_type": "code",
      "source": [
        "def gcd(a,b):\n",
        "  if a == b:\n",
        "    return a\n",
        "  elif a > b:\n",
        "    return gcd(a-b, b)\n",
        "  else:\n",
        "    return gcd(b-a, a)\n",
        "gcd(16,24)"
      ],
      "metadata": {
        "colab": {
          "base_uri": "https://localhost:8080/"
        },
        "id": "oAr-W_7QjFhN",
        "outputId": "73453380-631a-437a-a3ba-9c71dd346fd8"
      },
      "execution_count": null,
      "outputs": [
        {
          "output_type": "execute_result",
          "data": {
            "text/plain": [
              "8"
            ]
          },
          "metadata": {},
          "execution_count": 14
        }
      ]
    },
    {
      "cell_type": "code",
      "source": [],
      "metadata": {
        "id": "hHo6BEWeu6V3"
      },
      "execution_count": null,
      "outputs": []
    }
  ]
}